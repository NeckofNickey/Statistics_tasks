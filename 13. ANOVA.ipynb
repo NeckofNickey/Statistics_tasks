{
 "cells": [
  {
   "cell_type": "code",
   "execution_count": 1,
   "metadata": {},
   "outputs": [],
   "source": [
    "import pandas as pd\n",
    "import numpy as np\n",
    "\n",
    "from scipy import stats\n",
    "from sympy import *\n",
    "from statsmodels.stats.proportion import proportions_ztest\n",
    "\n",
    "import matplotlib.pyplot as plt\n",
    "\n",
    "pd.options.display.float_format = '{:,.4f}'.format\n",
    "\n",
    "import warnings\n",
    "warnings.filterwarnings(\"ignore\")"
   ]
  },
  {
   "cell_type": "markdown",
   "metadata": {},
   "source": [
    "# ANOVA. Однофакторный дисперсионный анализ.\n",
    "\n",
    "$$SS_{total} = \\sum_{i=1}^{n}\\sum_{j=1}^{k}{(x_{ij} - M)^2}$$\n",
    "$$SS_{bg} = n \\cdot \\sum_{j=1}^{k}{(M_j - M)^2}$$\n",
    "$$SS_{wg} = \\sum_{i=1}^{n}\\sum_{j=1}^{k}{(x_{ij} - M_j)^2}$$\n",
    "$$MS_{total} = \\frac{SS_{total}}{n \\cdot k -1}$$\n",
    "$$MS_{bg} = \\frac{SS_{bg}}{k-1}$$\n",
    "$$MS_{wg} = \\frac{SS_{wg}}{k(n-1)}$$\n",
    "$$F = \\frac{MS_{bg}}{MS_{wg}}$$\n",
    "\n",
    "<p style=\"text-align: center;\">$H_0:$ фактор не оказывает влияния (в среднем все группы не различаются)</p>\n",
    "<p style=\"text-align: center;\">$H_1:$ фактор оказывает влияния </p>\n",
    "\n",
    "Условия: \n",
    "1. Нормальность распределения анализируемых групп или соответствие выборочных групп генеральным совокупностям с нормальным распределением.\n",
    "2. Независимость (не связанность) распределения наблюдений в группах.\n",
    "3. Наличие частоты (повторность) наблюдений."
   ]
  },
  {
   "cell_type": "markdown",
   "metadata": {},
   "source": [
    "# Задача 1\n",
    "\n",
    "|Номер измерения|Ф_1|Ф_2|Ф_3|\n",
    "|---|---|---|---|\n",
    "|1|18|24|36|\n",
    "|2|28|36|12|\n",
    "|3|12|28|22|\n",
    "|4|14|40|45|\n",
    "|5|32|16|40|\n"
   ]
  },
  {
   "cell_type": "code",
   "execution_count": 48,
   "metadata": {},
   "outputs": [
    {
     "data": {
      "text/html": [
       "<div>\n",
       "<style scoped>\n",
       "    .dataframe tbody tr th:only-of-type {\n",
       "        vertical-align: middle;\n",
       "    }\n",
       "\n",
       "    .dataframe tbody tr th {\n",
       "        vertical-align: top;\n",
       "    }\n",
       "\n",
       "    .dataframe thead th {\n",
       "        text-align: right;\n",
       "    }\n",
       "</style>\n",
       "<table border=\"1\" class=\"dataframe\">\n",
       "  <thead>\n",
       "    <tr style=\"text-align: right;\">\n",
       "      <th></th>\n",
       "      <th>Ф_1</th>\n",
       "      <th>Ф_2</th>\n",
       "      <th>Ф_3</th>\n",
       "    </tr>\n",
       "  </thead>\n",
       "  <tbody>\n",
       "    <tr>\n",
       "      <th>1</th>\n",
       "      <td>18</td>\n",
       "      <td>24</td>\n",
       "      <td>36</td>\n",
       "    </tr>\n",
       "    <tr>\n",
       "      <th>2</th>\n",
       "      <td>28</td>\n",
       "      <td>36</td>\n",
       "      <td>12</td>\n",
       "    </tr>\n",
       "    <tr>\n",
       "      <th>3</th>\n",
       "      <td>12</td>\n",
       "      <td>28</td>\n",
       "      <td>22</td>\n",
       "    </tr>\n",
       "    <tr>\n",
       "      <th>4</th>\n",
       "      <td>14</td>\n",
       "      <td>40</td>\n",
       "      <td>45</td>\n",
       "    </tr>\n",
       "    <tr>\n",
       "      <th>5</th>\n",
       "      <td>32</td>\n",
       "      <td>16</td>\n",
       "      <td>40</td>\n",
       "    </tr>\n",
       "  </tbody>\n",
       "</table>\n",
       "</div>"
      ],
      "text/plain": [
       "   Ф_1  Ф_2  Ф_3\n",
       "1   18   24   36\n",
       "2   28   36   12\n",
       "3   12   28   22\n",
       "4   14   40   45\n",
       "5   32   16   40"
      ]
     },
     "execution_count": 48,
     "metadata": {},
     "output_type": "execute_result"
    }
   ],
   "source": [
    "df = pd.DataFrame({'Ф_1':[18, 28, 12, 14, 32], \n",
    "                   'Ф_2':[24, 36, 28, 40, 16], \n",
    "                   'Ф_3':[36, 12, 22, 45, 40]}, \n",
    "                  index=range(1, 6))\n",
    "\n",
    "df"
   ]
  },
  {
   "cell_type": "markdown",
   "metadata": {},
   "source": [
    "#### Расчет вручную"
   ]
  },
  {
   "cell_type": "code",
   "execution_count": 49,
   "metadata": {},
   "outputs": [
    {
     "data": {
      "text/plain": [
       "1.219525959367946"
      ]
     },
     "execution_count": 49,
     "metadata": {},
     "output_type": "execute_result"
    }
   ],
   "source": [
    "k = df.shape[1]\n",
    "n = df.shape[0]\n",
    "\n",
    "M = df.sum().sum() / (n * k)\n",
    "\n",
    "x_1_mean = df['Ф_1'].mean()\n",
    "x_2_mean = df['Ф_2'].mean()\n",
    "x_3_mean = df['Ф_3'].mean()\n",
    "\n",
    "avg_list = [x_1_mean, x_2_mean, x_3_mean]\n",
    "\n",
    "ss_total = ((df-M)**2).sum().sum()\n",
    "\n",
    "ss_bg = n * sum([(x-M)**2 for x in avg_list])\n",
    "\n",
    "ss_wg = ss_total - ss_bg\n",
    "\n",
    "ms_total = ss_total/(n*k-1)\n",
    "ms_bg = ss_bg/(k-1)\n",
    "ms_wg = ss_wg/(n*k-k)\n",
    "\n",
    "F = ms_bg/ms_wg\n",
    "\n",
    "F"
   ]
  },
  {
   "cell_type": "code",
   "execution_count": 50,
   "metadata": {},
   "outputs": [
    {
     "data": {
      "text/plain": [
       "0.32949999192588353"
      ]
     },
     "execution_count": 50,
     "metadata": {},
     "output_type": "execute_result"
    }
   ],
   "source": [
    "stats.f.sf(F, dfn=k-1, dfd=k*(n-1))"
   ]
  },
  {
   "cell_type": "markdown",
   "metadata": {},
   "source": [
    "$p-value$ выше $\\alpha=0.05$. Следовательно, не можем отвергнуть нулевую гипотезу. **В среднем все группы не различаются**. "
   ]
  },
  {
   "cell_type": "markdown",
   "metadata": {},
   "source": [
    "#### рассчет с помощью пакета stats"
   ]
  },
  {
   "cell_type": "code",
   "execution_count": 51,
   "metadata": {},
   "outputs": [
    {
     "data": {
      "text/plain": [
       "F_onewayResult(statistic=1.219525959367946, pvalue=0.32949999192588353)"
      ]
     },
     "execution_count": 51,
     "metadata": {},
     "output_type": "execute_result"
    }
   ],
   "source": [
    "stats.f_oneway(df['Ф_1'], df['Ф_2'], df['Ф_3'])"
   ]
  },
  {
   "cell_type": "markdown",
   "metadata": {},
   "source": [
    "# Задача 2\n",
    "\n",
    "<table>\n",
    "  <caption></caption> \n",
    "  <tr>\n",
    "    <th rowspan=\"2\" class=\"first\">Гибрид (способ внесения)</th>\n",
    "    <th colspan=\"5\">Повторности</th>\n",
    "  </tr>\n",
    "  <tr>\n",
    "    <td class=\"first\">1</td>\n",
    "    <td class=\"first\">2</td>\n",
    "    <td class=\"first\">3</td>\n",
    "    <td class=\"first\">4</td>\n",
    "    <td class=\"first\">5</td>\n",
    "  </tr>\n",
    "  <tr>\n",
    "    <td rowspan=\"1\" class=\"first\">Харпес(под культивацию)</td>\n",
    "    <td>31.2</td>\n",
    "    <td>28.6</td>\n",
    "    <td>32.1</td>\n",
    "    <td>32.1</td>\n",
    "    <td>34.0</td>\n",
    "  </tr>\n",
    "    <td rowspan=\"1\" class=\"first\">Харпес(ленточный)</td>\n",
    "    <td>28.1</td>\n",
    "    <td>31.0</td>\n",
    "    <td>32.3</td>\n",
    "    <td>28.7</td>\n",
    "    <td>39.6</td>\n",
    "  <tr>\n",
    "    <td rowspan=\"1\" class=\"first\">Харпес(под борование)</td>\n",
    "    <td>28.6</td>\n",
    "    <td>32.4</td>\n",
    "    <td>26.9</td>\n",
    "    <td>29.3</td>\n",
    "    <td>32.1</td>\n",
    "  </tr>\n",
    " </table>"
   ]
  },
  {
   "cell_type": "code",
   "execution_count": 53,
   "metadata": {},
   "outputs": [
    {
     "data": {
      "text/html": [
       "<div>\n",
       "<style scoped>\n",
       "    .dataframe tbody tr th:only-of-type {\n",
       "        vertical-align: middle;\n",
       "    }\n",
       "\n",
       "    .dataframe tbody tr th {\n",
       "        vertical-align: top;\n",
       "    }\n",
       "\n",
       "    .dataframe thead th {\n",
       "        text-align: right;\n",
       "    }\n",
       "</style>\n",
       "<table border=\"1\" class=\"dataframe\">\n",
       "  <thead>\n",
       "    <tr style=\"text-align: right;\">\n",
       "      <th></th>\n",
       "      <th>1</th>\n",
       "      <th>2</th>\n",
       "      <th>3</th>\n",
       "      <th>4</th>\n",
       "      <th>5</th>\n",
       "    </tr>\n",
       "  </thead>\n",
       "  <tbody>\n",
       "    <tr>\n",
       "      <th>Харпес(под культивацию)</th>\n",
       "      <td>31.2000</td>\n",
       "      <td>28.6000</td>\n",
       "      <td>32.1000</td>\n",
       "      <td>32.1000</td>\n",
       "      <td>34.0000</td>\n",
       "    </tr>\n",
       "    <tr>\n",
       "      <th>Харпес(ленточный)</th>\n",
       "      <td>28.1000</td>\n",
       "      <td>31.0000</td>\n",
       "      <td>32.3000</td>\n",
       "      <td>28.7000</td>\n",
       "      <td>39.6000</td>\n",
       "    </tr>\n",
       "    <tr>\n",
       "      <th>Харпес(под борование)</th>\n",
       "      <td>28.6000</td>\n",
       "      <td>32.4000</td>\n",
       "      <td>26.9000</td>\n",
       "      <td>29.3000</td>\n",
       "      <td>32.1000</td>\n",
       "    </tr>\n",
       "  </tbody>\n",
       "</table>\n",
       "</div>"
      ],
      "text/plain": [
       "                              1       2       3       4       5\n",
       "Харпес(под культивацию) 31.2000 28.6000 32.1000 32.1000 34.0000\n",
       "Харпес(ленточный)       28.1000 31.0000 32.3000 28.7000 39.6000\n",
       "Харпес(под борование)   28.6000 32.4000 26.9000 29.3000 32.1000"
      ]
     },
     "execution_count": 53,
     "metadata": {},
     "output_type": "execute_result"
    }
   ],
   "source": [
    "df = pd.DataFrame([[31.2, 28.6, 32.1, 32.1, 34.0],\n",
    "                   [28.1, 31.0, 32.3, 28.7, 39.6],\n",
    "                   [28.6, 32.4, 26.9, 29.3, 32.1]], \n",
    "                  columns=range(1, 6), \n",
    "                  index=['Харпес(под культивацию)', 'Харпес(ленточный)', 'Харпес(под борование)'])\n",
    "\n",
    "df"
   ]
  },
  {
   "cell_type": "markdown",
   "metadata": {},
   "source": [
    "#### Расчет вручную"
   ]
  },
  {
   "cell_type": "code",
   "execution_count": 54,
   "metadata": {},
   "outputs": [
    {
     "data": {
      "text/plain": [
       "2.4126213592232886"
      ]
     },
     "execution_count": 54,
     "metadata": {},
     "output_type": "execute_result"
    }
   ],
   "source": [
    "k = df.shape[1]\n",
    "n = df.shape[0]\n",
    "\n",
    "M = df.sum().sum() / (n * k)\n",
    "\n",
    "x_1_mean = df[1].mean()\n",
    "x_2_mean = df[2].mean()\n",
    "x_3_mean = df[3].mean()\n",
    "x_4_mean = df[4].mean()\n",
    "x_5_mean = df[5].mean()\n",
    "\n",
    "avg_list = [x_1_mean, x_2_mean, x_3_mean, x_4_mean, x_5_mean]\n",
    "\n",
    "ss_total = ((df-M)**2).sum().sum()\n",
    "\n",
    "ss_bg = n * sum([(x-M)**2 for x in avg_list])\n",
    "\n",
    "ss_wg = ss_total - ss_bg\n",
    "\n",
    "ms_total = ss_total/(n*k-1)\n",
    "ms_bg = ss_bg/(k-1)\n",
    "ms_wg = ss_wg/(n*k-k)\n",
    "\n",
    "F = ms_bg/ms_wg\n",
    "\n",
    "F"
   ]
  },
  {
   "cell_type": "code",
   "execution_count": 55,
   "metadata": {},
   "outputs": [
    {
     "data": {
      "text/plain": [
       "0.11793662692972415"
      ]
     },
     "execution_count": 55,
     "metadata": {},
     "output_type": "execute_result"
    }
   ],
   "source": [
    "stats.f.sf(F, dfn=k-1, dfd=k*(n-1))"
   ]
  },
  {
   "cell_type": "markdown",
   "metadata": {},
   "source": [
    "#### рассчет с помощью пакета stats"
   ]
  },
  {
   "cell_type": "code",
   "execution_count": 46,
   "metadata": {},
   "outputs": [
    {
     "data": {
      "text/plain": [
       "F_onewayResult(statistic=2.412621359223302, pvalue=0.11793662692972288)"
      ]
     },
     "execution_count": 46,
     "metadata": {},
     "output_type": "execute_result"
    }
   ],
   "source": [
    "stats.f_oneway(df[1], df[2], df[3], df[4], df[5])"
   ]
  }
 ],
 "metadata": {
  "hide_input": false,
  "kernelspec": {
   "display_name": "Python 3",
   "language": "python",
   "name": "python3"
  },
  "language_info": {
   "codemirror_mode": {
    "name": "ipython",
    "version": 3
   },
   "file_extension": ".py",
   "mimetype": "text/x-python",
   "name": "python",
   "nbconvert_exporter": "python",
   "pygments_lexer": "ipython3",
   "version": "3.8.5"
  },
  "latex_envs": {
   "LaTeX_envs_menu_present": true,
   "autoclose": false,
   "autocomplete": true,
   "bibliofile": "biblio.bib",
   "cite_by": "apalike",
   "current_citInitial": 1,
   "eqLabelWithNumbers": true,
   "eqNumInitial": 1,
   "hotkeys": {
    "equation": "Ctrl-E",
    "itemize": "Ctrl-I"
   },
   "labels_anchors": false,
   "latex_user_defs": false,
   "report_style_numbering": false,
   "user_envs_cfg": false
  }
 },
 "nbformat": 4,
 "nbformat_minor": 4
}
