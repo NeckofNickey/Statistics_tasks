{
 "cells": [
  {
   "cell_type": "code",
   "execution_count": 38,
   "metadata": {},
   "outputs": [],
   "source": [
    "import pandas as pd\n",
    "import numpy as np\n",
    "\n",
    "from scipy import stats\n",
    "from scipy.stats import uniform\n",
    "from sympy import *\n",
    "from scipy.stats import rv_continuous\n",
    "import scipy\n",
    "\n",
    "import seaborn as sns\n",
    "import matplotlib.pyplot as plt\n",
    "import plotly.offline as py\n",
    "import plotly.graph_objects as go\n",
    "\n",
    "\n",
    "pd.options.display.float_format = '{:,.4f}'.format\n",
    "\n",
    "import warnings\n",
    "warnings.filterwarnings(\"ignore\")\n",
    "\n",
    "from typing import Tuple\n",
    "\n",
    "%matplotlib inline"
   ]
  },
  {
   "cell_type": "markdown",
   "metadata": {},
   "source": [
    "# Задача 1\n",
    "\n",
    "\n",
    "В течение месяца выборочно осуществлялась проверка торговых точек города по продаже овощей. Результаты двух проверок по недовесам покупателям одного вида овощей приведены в таблице:\n",
    "\n",
    "|Интервалы|0-10|10-20|20-30|30-40|40-50|50-60|60-70|70-80|80-90|\n",
    "| --- | --- | --- | --- | --- | --- | --- | --- | --- | --- |\n",
    "| $n_1$ | 3 | 10 | 15 | 20 | 12 | 5 | 25 | 15 | 5 |\n",
    "| $n_2$ | 5 | 12 | 8 | 25 | 10 | 8 | 20 | 7 | 5 |\n",
    "\n",
    "\n",
    "Можно ли считать при уровне значимости $0,05$, что недовесы овощей являются\n",
    "устойчивым и закономерным процессом при продаже овощей в данном городе (т.е.\n",
    "описываются одной и той же функцией распределения)? "
   ]
  },
  {
   "cell_type": "code",
   "execution_count": 14,
   "metadata": {},
   "outputs": [
    {
     "data": {
      "text/html": [
       "<div>\n",
       "<style scoped>\n",
       "    .dataframe tbody tr th:only-of-type {\n",
       "        vertical-align: middle;\n",
       "    }\n",
       "\n",
       "    .dataframe tbody tr th {\n",
       "        vertical-align: top;\n",
       "    }\n",
       "\n",
       "    .dataframe thead th {\n",
       "        text-align: right;\n",
       "    }\n",
       "</style>\n",
       "<table border=\"1\" class=\"dataframe\">\n",
       "  <thead>\n",
       "    <tr style=\"text-align: right;\">\n",
       "      <th></th>\n",
       "      <th>n_1</th>\n",
       "      <th>n_2</th>\n",
       "    </tr>\n",
       "  </thead>\n",
       "  <tbody>\n",
       "    <tr>\n",
       "      <th>0-10</th>\n",
       "      <td>3</td>\n",
       "      <td>5</td>\n",
       "    </tr>\n",
       "    <tr>\n",
       "      <th>10-20</th>\n",
       "      <td>10</td>\n",
       "      <td>12</td>\n",
       "    </tr>\n",
       "    <tr>\n",
       "      <th>20-30</th>\n",
       "      <td>15</td>\n",
       "      <td>8</td>\n",
       "    </tr>\n",
       "    <tr>\n",
       "      <th>30-40</th>\n",
       "      <td>20</td>\n",
       "      <td>25</td>\n",
       "    </tr>\n",
       "    <tr>\n",
       "      <th>40-50</th>\n",
       "      <td>12</td>\n",
       "      <td>10</td>\n",
       "    </tr>\n",
       "    <tr>\n",
       "      <th>50-60</th>\n",
       "      <td>5</td>\n",
       "      <td>8</td>\n",
       "    </tr>\n",
       "    <tr>\n",
       "      <th>60-70</th>\n",
       "      <td>25</td>\n",
       "      <td>20</td>\n",
       "    </tr>\n",
       "    <tr>\n",
       "      <th>70-80</th>\n",
       "      <td>15</td>\n",
       "      <td>7</td>\n",
       "    </tr>\n",
       "    <tr>\n",
       "      <th>80-90</th>\n",
       "      <td>5</td>\n",
       "      <td>5</td>\n",
       "    </tr>\n",
       "  </tbody>\n",
       "</table>\n",
       "</div>"
      ],
      "text/plain": [
       "       n_1  n_2\n",
       "0-10     3    5\n",
       "10-20   10   12\n",
       "20-30   15    8\n",
       "30-40   20   25\n",
       "40-50   12   10\n",
       "50-60    5    8\n",
       "60-70   25   20\n",
       "70-80   15    7\n",
       "80-90    5    5"
      ]
     },
     "execution_count": 14,
     "metadata": {},
     "output_type": "execute_result"
    }
   ],
   "source": [
    "df = pd.DataFrame([[3, 10, 15, 20, 12, 5, 25, 15, 5],\n",
    "                   [5, 12, 8, 25, 10, 8, 20, 7, 5]], \n",
    "                  columns=['0-10', '10-20', '20-30', '30-40', '40-50', '50-60', '60-70', '70-80', '80-90'],\n",
    "                  index=['n_1', 'n_2']).T\n",
    "\n",
    "df"
   ]
  },
  {
   "cell_type": "markdown",
   "metadata": {},
   "source": [
    "## Расчет вручную"
   ]
  },
  {
   "cell_type": "markdown",
   "metadata": {},
   "source": [
    "#### Считаем функции распределения"
   ]
  },
  {
   "cell_type": "code",
   "execution_count": 23,
   "metadata": {},
   "outputs": [],
   "source": [
    "n = df['n_1'].sum()\n",
    "m = df['n_2'].sum()\n",
    "\n",
    "df['n_cumsum'] = df['n_1'].cumsum()\n",
    "df['m_cumsum'] = df['n_2'].cumsum()\n",
    "\n",
    "df['F_n'] = df['n_cumsum']/n\n",
    "df['F_m'] = df['m_cumsum']/m"
   ]
  },
  {
   "cell_type": "markdown",
   "metadata": {},
   "source": [
    "#### Считаем разницу функций распределения и выбираем максимум разницы"
   ]
  },
  {
   "cell_type": "code",
   "execution_count": 29,
   "metadata": {},
   "outputs": [],
   "source": [
    "df['diff'] = abs(df['F_n'] - df['F_m'])\n",
    "\n",
    "max_val = df['diff'].max()"
   ]
  },
  {
   "cell_type": "markdown",
   "metadata": {},
   "source": [
    "#### Считаем статистику"
   ]
  },
  {
   "cell_type": "code",
   "execution_count": 52,
   "metadata": {},
   "outputs": [
    {
     "data": {
      "text/plain": [
       "0.6447926610605738"
      ]
     },
     "execution_count": 52,
     "metadata": {},
     "output_type": "execute_result"
    }
   ],
   "source": [
    "t = float(sqrt(m*n/(m+n)) * max_val)\n",
    "t"
   ]
  },
  {
   "cell_type": "code",
   "execution_count": 48,
   "metadata": {},
   "outputs": [
    {
     "data": {
      "text/plain": [
       "1.3580986393225507"
      ]
     },
     "execution_count": 48,
     "metadata": {},
     "output_type": "execute_result"
    }
   ],
   "source": [
    "t_critical = scipy.special.kolmogi(0.05)\n",
    "t_critical"
   ]
  },
  {
   "cell_type": "code",
   "execution_count": 54,
   "metadata": {},
   "outputs": [
    {
     "data": {
      "text/plain": [
       "0.19996947526025532"
      ]
     },
     "execution_count": 54,
     "metadata": {},
     "output_type": "execute_result"
    }
   ],
   "source": [
    "p_value = scipy.special.kolmogorov(t)\n",
    "p_value"
   ]
  },
  {
   "cell_type": "markdown",
   "metadata": {},
   "source": [
    "<div class=\"alert alert-block alert-info\">\n",
    "<b>Вывод:</b> Статистика меньше критического значения. Нулевую гипотезу отвергнуть не можем\n",
    "</div>"
   ]
  },
  {
   "cell_type": "markdown",
   "metadata": {},
   "source": [
    "## Рассчет с помощью библиотеке stats"
   ]
  },
  {
   "cell_type": "code",
   "execution_count": 72,
   "metadata": {},
   "outputs": [
    {
     "data": {
      "text/plain": [
       "KstestResult(statistic=0.1111111111111111, pvalue=0.8007374029168081)"
      ]
     },
     "execution_count": 72,
     "metadata": {},
     "output_type": "execute_result"
    }
   ],
   "source": [
    "stats.ks_2samp(df['n_1'], df['n_2'], alternative='greater', method='asymp')"
   ]
  },
  {
   "cell_type": "markdown",
   "metadata": {},
   "source": [
    "# Задача 2"
   ]
  },
  {
   "cell_type": "markdown",
   "metadata": {},
   "source": [
    "Вычислить статистику Колмогорова-Смирнова о гомогенности распределения по двум выборкам\n",
    "\n",
    "|Возраст|21-22|23-24|25-26|27-28|29-30|31-32|33-34|35-36|37-38|39-40|\n",
    "| --- | --- | --- | --- | --- | --- | --- | --- | --- | --- | --- |\n",
    "| men | 4 | 11 | 5 | 7 | 0 | 5 | 9 | 13 | 20 | 6 |\n",
    "| women | 7 | 4 | 1 | 11 | 12 | 4 | 2 | 4 | 8 | 9 |"
   ]
  },
  {
   "cell_type": "code",
   "execution_count": 80,
   "metadata": {},
   "outputs": [
    {
     "data": {
      "text/html": [
       "<div>\n",
       "<style scoped>\n",
       "    .dataframe tbody tr th:only-of-type {\n",
       "        vertical-align: middle;\n",
       "    }\n",
       "\n",
       "    .dataframe tbody tr th {\n",
       "        vertical-align: top;\n",
       "    }\n",
       "\n",
       "    .dataframe thead th {\n",
       "        text-align: right;\n",
       "    }\n",
       "</style>\n",
       "<table border=\"1\" class=\"dataframe\">\n",
       "  <thead>\n",
       "    <tr style=\"text-align: right;\">\n",
       "      <th></th>\n",
       "      <th>men</th>\n",
       "      <th>woman</th>\n",
       "    </tr>\n",
       "  </thead>\n",
       "  <tbody>\n",
       "    <tr>\n",
       "      <th>21-22</th>\n",
       "      <td>4</td>\n",
       "      <td>7</td>\n",
       "    </tr>\n",
       "    <tr>\n",
       "      <th>23-24</th>\n",
       "      <td>11</td>\n",
       "      <td>4</td>\n",
       "    </tr>\n",
       "    <tr>\n",
       "      <th>25-26</th>\n",
       "      <td>5</td>\n",
       "      <td>1</td>\n",
       "    </tr>\n",
       "    <tr>\n",
       "      <th>27-28</th>\n",
       "      <td>7</td>\n",
       "      <td>11</td>\n",
       "    </tr>\n",
       "    <tr>\n",
       "      <th>29-30</th>\n",
       "      <td>0</td>\n",
       "      <td>12</td>\n",
       "    </tr>\n",
       "    <tr>\n",
       "      <th>31-32</th>\n",
       "      <td>5</td>\n",
       "      <td>4</td>\n",
       "    </tr>\n",
       "    <tr>\n",
       "      <th>33-34</th>\n",
       "      <td>9</td>\n",
       "      <td>2</td>\n",
       "    </tr>\n",
       "    <tr>\n",
       "      <th>35-36</th>\n",
       "      <td>13</td>\n",
       "      <td>4</td>\n",
       "    </tr>\n",
       "    <tr>\n",
       "      <th>37-38</th>\n",
       "      <td>20</td>\n",
       "      <td>8</td>\n",
       "    </tr>\n",
       "    <tr>\n",
       "      <th>39-40</th>\n",
       "      <td>6</td>\n",
       "      <td>9</td>\n",
       "    </tr>\n",
       "  </tbody>\n",
       "</table>\n",
       "</div>"
      ],
      "text/plain": [
       "       men  woman\n",
       "21-22    4      7\n",
       "23-24   11      4\n",
       "25-26    5      1\n",
       "27-28    7     11\n",
       "29-30    0     12\n",
       "31-32    5      4\n",
       "33-34    9      2\n",
       "35-36   13      4\n",
       "37-38   20      8\n",
       "39-40    6      9"
      ]
     },
     "execution_count": 80,
     "metadata": {},
     "output_type": "execute_result"
    }
   ],
   "source": [
    "df = pd.DataFrame([[4, 11, 5, 7, 0, 5, 9, 13, 20, 6],\n",
    "                   [7, 4, 1, 11, 12, 4, 2, 4, 8, 9]], \n",
    "                  columns=['21-22', '23-24', '25-26', '27-28', '29-30', '31-32', '33-34', '35-36', '37-38', '39-40'],\n",
    "                  index=['men', 'woman']).T\n",
    "\n",
    "df"
   ]
  },
  {
   "cell_type": "markdown",
   "metadata": {},
   "source": [
    "## Расчет вручную "
   ]
  },
  {
   "cell_type": "markdown",
   "metadata": {},
   "source": [
    "#### Считаем функции распределения"
   ]
  },
  {
   "cell_type": "code",
   "execution_count": 81,
   "metadata": {},
   "outputs": [
    {
     "data": {
      "text/html": [
       "<div>\n",
       "<style scoped>\n",
       "    .dataframe tbody tr th:only-of-type {\n",
       "        vertical-align: middle;\n",
       "    }\n",
       "\n",
       "    .dataframe tbody tr th {\n",
       "        vertical-align: top;\n",
       "    }\n",
       "\n",
       "    .dataframe thead th {\n",
       "        text-align: right;\n",
       "    }\n",
       "</style>\n",
       "<table border=\"1\" class=\"dataframe\">\n",
       "  <thead>\n",
       "    <tr style=\"text-align: right;\">\n",
       "      <th></th>\n",
       "      <th>men</th>\n",
       "      <th>woman</th>\n",
       "      <th>n_cumsum</th>\n",
       "      <th>m_cumsum</th>\n",
       "      <th>F_n</th>\n",
       "      <th>F_m</th>\n",
       "    </tr>\n",
       "  </thead>\n",
       "  <tbody>\n",
       "    <tr>\n",
       "      <th>21-22</th>\n",
       "      <td>4</td>\n",
       "      <td>7</td>\n",
       "      <td>4</td>\n",
       "      <td>7</td>\n",
       "      <td>0.0500</td>\n",
       "      <td>0.1129</td>\n",
       "    </tr>\n",
       "    <tr>\n",
       "      <th>23-24</th>\n",
       "      <td>11</td>\n",
       "      <td>4</td>\n",
       "      <td>15</td>\n",
       "      <td>11</td>\n",
       "      <td>0.1875</td>\n",
       "      <td>0.1774</td>\n",
       "    </tr>\n",
       "    <tr>\n",
       "      <th>25-26</th>\n",
       "      <td>5</td>\n",
       "      <td>1</td>\n",
       "      <td>20</td>\n",
       "      <td>12</td>\n",
       "      <td>0.2500</td>\n",
       "      <td>0.1935</td>\n",
       "    </tr>\n",
       "    <tr>\n",
       "      <th>27-28</th>\n",
       "      <td>7</td>\n",
       "      <td>11</td>\n",
       "      <td>27</td>\n",
       "      <td>23</td>\n",
       "      <td>0.3375</td>\n",
       "      <td>0.3710</td>\n",
       "    </tr>\n",
       "    <tr>\n",
       "      <th>29-30</th>\n",
       "      <td>0</td>\n",
       "      <td>12</td>\n",
       "      <td>27</td>\n",
       "      <td>35</td>\n",
       "      <td>0.3375</td>\n",
       "      <td>0.5645</td>\n",
       "    </tr>\n",
       "    <tr>\n",
       "      <th>31-32</th>\n",
       "      <td>5</td>\n",
       "      <td>4</td>\n",
       "      <td>32</td>\n",
       "      <td>39</td>\n",
       "      <td>0.4000</td>\n",
       "      <td>0.6290</td>\n",
       "    </tr>\n",
       "    <tr>\n",
       "      <th>33-34</th>\n",
       "      <td>9</td>\n",
       "      <td>2</td>\n",
       "      <td>41</td>\n",
       "      <td>41</td>\n",
       "      <td>0.5125</td>\n",
       "      <td>0.6613</td>\n",
       "    </tr>\n",
       "    <tr>\n",
       "      <th>35-36</th>\n",
       "      <td>13</td>\n",
       "      <td>4</td>\n",
       "      <td>54</td>\n",
       "      <td>45</td>\n",
       "      <td>0.6750</td>\n",
       "      <td>0.7258</td>\n",
       "    </tr>\n",
       "    <tr>\n",
       "      <th>37-38</th>\n",
       "      <td>20</td>\n",
       "      <td>8</td>\n",
       "      <td>74</td>\n",
       "      <td>53</td>\n",
       "      <td>0.9250</td>\n",
       "      <td>0.8548</td>\n",
       "    </tr>\n",
       "    <tr>\n",
       "      <th>39-40</th>\n",
       "      <td>6</td>\n",
       "      <td>9</td>\n",
       "      <td>80</td>\n",
       "      <td>62</td>\n",
       "      <td>1.0000</td>\n",
       "      <td>1.0000</td>\n",
       "    </tr>\n",
       "  </tbody>\n",
       "</table>\n",
       "</div>"
      ],
      "text/plain": [
       "       men  woman  n_cumsum  m_cumsum    F_n    F_m\n",
       "21-22    4      7         4         7 0.0500 0.1129\n",
       "23-24   11      4        15        11 0.1875 0.1774\n",
       "25-26    5      1        20        12 0.2500 0.1935\n",
       "27-28    7     11        27        23 0.3375 0.3710\n",
       "29-30    0     12        27        35 0.3375 0.5645\n",
       "31-32    5      4        32        39 0.4000 0.6290\n",
       "33-34    9      2        41        41 0.5125 0.6613\n",
       "35-36   13      4        54        45 0.6750 0.7258\n",
       "37-38   20      8        74        53 0.9250 0.8548\n",
       "39-40    6      9        80        62 1.0000 1.0000"
      ]
     },
     "execution_count": 81,
     "metadata": {},
     "output_type": "execute_result"
    }
   ],
   "source": [
    "n = df['men'].sum()\n",
    "m = df['woman'].sum()\n",
    "\n",
    "df['n_cumsum'] = df['men'].cumsum()\n",
    "df['m_cumsum'] = df['woman'].cumsum()\n",
    "\n",
    "df['F_n'] = df['n_cumsum']/n\n",
    "df['F_m'] = df['m_cumsum']/m\n",
    "\n",
    "df"
   ]
  },
  {
   "cell_type": "markdown",
   "metadata": {},
   "source": [
    "#### Считаем разницу функций распределения и выбираем максимум разницы"
   ]
  },
  {
   "cell_type": "code",
   "execution_count": 82,
   "metadata": {},
   "outputs": [],
   "source": [
    "df['diff'] = abs(df['F_n'] - df['F_m'])\n",
    "\n",
    "max_val = df['diff'].max()"
   ]
  },
  {
   "cell_type": "markdown",
   "metadata": {},
   "source": [
    "#### Считаем статистику"
   ]
  },
  {
   "cell_type": "code",
   "execution_count": 84,
   "metadata": {},
   "outputs": [
    {
     "data": {
      "text/plain": [
       "1.3536092732085314"
      ]
     },
     "execution_count": 84,
     "metadata": {},
     "output_type": "execute_result"
    }
   ],
   "source": [
    "t = float(sqrt(m*n/(m+n)) * max_val)\n",
    "t"
   ]
  },
  {
   "cell_type": "code",
   "execution_count": 85,
   "metadata": {},
   "outputs": [
    {
     "data": {
      "text/plain": [
       "1.3580986393225507"
      ]
     },
     "execution_count": 85,
     "metadata": {},
     "output_type": "execute_result"
    }
   ],
   "source": [
    "t_critical = scipy.special.kolmogi(0.05)\n",
    "t_critical"
   ]
  },
  {
   "cell_type": "code",
   "execution_count": 97,
   "metadata": {},
   "outputs": [
    {
     "data": {
      "text/plain": [
       "0.051232265574690405"
      ]
     },
     "execution_count": 97,
     "metadata": {},
     "output_type": "execute_result"
    }
   ],
   "source": [
    "p_value = scipy.special.kolmogorov(t)\n",
    "p_value"
   ]
  },
  {
   "cell_type": "markdown",
   "metadata": {},
   "source": [
    "<div class=\"alert alert-block alert-info\">\n",
    "<b>Вывод:</b> Статистика меньше критического значения. Нулевую гипотезу отвергнуть не можем\n",
    "</div>"
   ]
  },
  {
   "cell_type": "markdown",
   "metadata": {},
   "source": [
    "## Рассчет с помощью библиотеке stats"
   ]
  },
  {
   "cell_type": "code",
   "execution_count": 107,
   "metadata": {},
   "outputs": [
    {
     "data": {
      "text/plain": [
       "KstestResult(statistic=0.3, pvalue=0.7869297884777761)"
      ]
     },
     "execution_count": 107,
     "metadata": {},
     "output_type": "execute_result"
    }
   ],
   "source": [
    "stats.ks_2samp(df['men'], df['woman'])"
   ]
  }
 ],
 "metadata": {
  "kernelspec": {
   "display_name": "Python 3",
   "language": "python",
   "name": "python3"
  },
  "language_info": {
   "codemirror_mode": {
    "name": "ipython",
    "version": 3
   },
   "file_extension": ".py",
   "mimetype": "text/x-python",
   "name": "python",
   "nbconvert_exporter": "python",
   "pygments_lexer": "ipython3",
   "version": "3.8.5"
  }
 },
 "nbformat": 4,
 "nbformat_minor": 4
}
