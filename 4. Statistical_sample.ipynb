{
 "cells": [
  {
   "cell_type": "code",
   "execution_count": 629,
   "id": "4436bdae",
   "metadata": {},
   "outputs": [],
   "source": [
    "import pandas as pd\n",
    "import numpy as np\n",
    "\n",
    "from tkinter import filedialog as fd\n",
    "from tkinter import Tk, BOTH\n",
    "\n",
    "from datetime import datetime\n",
    "from datetime import timedelta\n",
    "\n",
    "from scipy import stats\n",
    "from sympy import *\n",
    "\n",
    "import seaborn as sns\n",
    "import matplotlib.pyplot as plt\n",
    "\n",
    "\n",
    "pd.options.display.float_format = '{:,.4f}'.format\n",
    "\n",
    "import warnings\n",
    "warnings.filterwarnings(\"ignore\")\n",
    "\n",
    "from typing import Tuple\n",
    "\n",
    "%matplotlib inline\n",
    "\n",
    "from IPython.core.interactiveshell import InteractiveShell \n",
    "InteractiveShell.ast_node_interactivity = \"all\" #print all out"
   ]
  },
  {
   "cell_type": "markdown",
   "id": "4614ba5d",
   "metadata": {},
   "source": [
    "## Задача 1.\n",
    "\n",
    "В результате эксперимента получена выборка объема $n=79$:"
   ]
  },
  {
   "cell_type": "code",
   "execution_count": 498,
   "id": "0efb6b34",
   "metadata": {},
   "outputs": [],
   "source": [
    "sample = [2, 4, 2, 4, 3, 3, 3, 2, 0, 6, 1, 2, 3, 2, 2, \n",
    "          4, 3, 3, 5, 1, 0, 2, 4, 3, 2, 2, 3, 3, 1, 3, \n",
    "          3, 3, 1, 1, 2, 3, 1, 4, 3, 1, 7, 4, 3, 4, 2, \n",
    "          3, 2, 3, 3, 1, 4, 3, 1, 4, 5, 3, 4, 2, 4, 5, \n",
    "          3, 6, 4, 1, 3, 2, 4, 1, 3, 1, 0, 0, 4, 6, 4, \n",
    "          7, 4, 1, 3]\n",
    "\n",
    "df = pd.DataFrame(sample, columns=['x_i'])"
   ]
  },
  {
   "cell_type": "markdown",
   "id": "add30e6e",
   "metadata": {},
   "source": [
    "#### Построим статистический ряд"
   ]
  },
  {
   "cell_type": "code",
   "execution_count": 499,
   "id": "22477ddc",
   "metadata": {},
   "outputs": [
    {
     "data": {
      "text/html": [
       "<div>\n",
       "<style scoped>\n",
       "    .dataframe tbody tr th:only-of-type {\n",
       "        vertical-align: middle;\n",
       "    }\n",
       "\n",
       "    .dataframe tbody tr th {\n",
       "        vertical-align: top;\n",
       "    }\n",
       "\n",
       "    .dataframe thead th {\n",
       "        text-align: right;\n",
       "    }\n",
       "</style>\n",
       "<table border=\"1\" class=\"dataframe\">\n",
       "  <thead>\n",
       "    <tr style=\"text-align: right;\">\n",
       "      <th></th>\n",
       "      <th>x_i</th>\n",
       "      <th>n_i</th>\n",
       "    </tr>\n",
       "  </thead>\n",
       "  <tbody>\n",
       "    <tr>\n",
       "      <th>4</th>\n",
       "      <td>0</td>\n",
       "      <td>4</td>\n",
       "    </tr>\n",
       "    <tr>\n",
       "      <th>3</th>\n",
       "      <td>1</td>\n",
       "      <td>13</td>\n",
       "    </tr>\n",
       "    <tr>\n",
       "      <th>2</th>\n",
       "      <td>2</td>\n",
       "      <td>14</td>\n",
       "    </tr>\n",
       "    <tr>\n",
       "      <th>0</th>\n",
       "      <td>3</td>\n",
       "      <td>24</td>\n",
       "    </tr>\n",
       "    <tr>\n",
       "      <th>1</th>\n",
       "      <td>4</td>\n",
       "      <td>16</td>\n",
       "    </tr>\n",
       "    <tr>\n",
       "      <th>5</th>\n",
       "      <td>5</td>\n",
       "      <td>3</td>\n",
       "    </tr>\n",
       "    <tr>\n",
       "      <th>6</th>\n",
       "      <td>6</td>\n",
       "      <td>3</td>\n",
       "    </tr>\n",
       "    <tr>\n",
       "      <th>7</th>\n",
       "      <td>7</td>\n",
       "      <td>2</td>\n",
       "    </tr>\n",
       "  </tbody>\n",
       "</table>\n",
       "</div>"
      ],
      "text/plain": [
       "   x_i  n_i\n",
       "4    0    4\n",
       "3    1   13\n",
       "2    2   14\n",
       "0    3   24\n",
       "1    4   16\n",
       "5    5    3\n",
       "6    6    3\n",
       "7    7    2"
      ]
     },
     "execution_count": 499,
     "metadata": {},
     "output_type": "execute_result"
    }
   ],
   "source": [
    "df = df.value_counts().reset_index().sort_values(by='x_i').rename({0:'n_i'}, axis=1)\n",
    "\n",
    "df"
   ]
  },
  {
   "cell_type": "markdown",
   "id": "4a147dab",
   "metadata": {},
   "source": [
    "#### Построим полигон частот"
   ]
  },
  {
   "cell_type": "code",
   "execution_count": 500,
   "id": "dd9b26f7",
   "metadata": {},
   "outputs": [
    {
     "data": {
      "image/png": "[encoded data removed]",
      "text/plain": [
       "<Figure size 432x288 with 1 Axes>"
      ]
     },
     "metadata": {
      "needs_background": "light"
     },
     "output_type": "display_data"
    }
   ],
   "source": [
    "g = sns.lineplot(data=df,  x='x_i', y='n_i', marker='*', color='#965786')\n",
    "g.set_xticks(df['x_i']) \n",
    "g.set_xticklabels(df['x_i'])\n",
    "\n",
    "for x, y in zip(df['x_i'], df['n_i']):\n",
    "    plt.text(x = x, y = y-1, s = '{:.0f}'.format(y), color = 'purple') \n",
    "\n",
    "\n",
    "plt.show()"
   ]
  },
  {
   "cell_type": "markdown",
   "id": "557ea940",
   "metadata": {},
   "source": [
    "#### Построим эмпирическую функцию распределения"
   ]
  },
  {
   "cell_type": "code",
   "execution_count": 501,
   "id": "e5769913",
   "metadata": {},
   "outputs": [],
   "source": [
    "df['w_i'] = df['n_i'] / df['n_i'].sum()\n",
    "df['s_i'] = df['w_i'].cumsum()"
   ]
  },
  {
   "cell_type": "code",
   "execution_count": 502,
   "id": "3ffcc95a",
   "metadata": {},
   "outputs": [
    {
     "data": {
      "text/html": [
       "<div>\n",
       "<style scoped>\n",
       "    .dataframe tbody tr th:only-of-type {\n",
       "        vertical-align: middle;\n",
       "    }\n",
       "\n",
       "    .dataframe tbody tr th {\n",
       "        vertical-align: top;\n",
       "    }\n",
       "\n",
       "    .dataframe thead th {\n",
       "        text-align: right;\n",
       "    }\n",
       "</style>\n",
       "<table border=\"1\" class=\"dataframe\">\n",
       "  <thead>\n",
       "    <tr style=\"text-align: right;\">\n",
       "      <th></th>\n",
       "      <th>x_i</th>\n",
       "      <th>n_i</th>\n",
       "      <th>w_i</th>\n",
       "      <th>s_i</th>\n",
       "    </tr>\n",
       "  </thead>\n",
       "  <tbody>\n",
       "    <tr>\n",
       "      <th>4</th>\n",
       "      <td>0</td>\n",
       "      <td>4</td>\n",
       "      <td>0.051</td>\n",
       "      <td>0.051</td>\n",
       "    </tr>\n",
       "    <tr>\n",
       "      <th>3</th>\n",
       "      <td>1</td>\n",
       "      <td>13</td>\n",
       "      <td>0.165</td>\n",
       "      <td>0.215</td>\n",
       "    </tr>\n",
       "    <tr>\n",
       "      <th>2</th>\n",
       "      <td>2</td>\n",
       "      <td>14</td>\n",
       "      <td>0.177</td>\n",
       "      <td>0.392</td>\n",
       "    </tr>\n",
       "    <tr>\n",
       "      <th>0</th>\n",
       "      <td>3</td>\n",
       "      <td>24</td>\n",
       "      <td>0.304</td>\n",
       "      <td>0.696</td>\n",
       "    </tr>\n",
       "    <tr>\n",
       "      <th>1</th>\n",
       "      <td>4</td>\n",
       "      <td>16</td>\n",
       "      <td>0.203</td>\n",
       "      <td>0.899</td>\n",
       "    </tr>\n",
       "    <tr>\n",
       "      <th>5</th>\n",
       "      <td>5</td>\n",
       "      <td>3</td>\n",
       "      <td>0.038</td>\n",
       "      <td>0.937</td>\n",
       "    </tr>\n",
       "    <tr>\n",
       "      <th>6</th>\n",
       "      <td>6</td>\n",
       "      <td>3</td>\n",
       "      <td>0.038</td>\n",
       "      <td>0.975</td>\n",
       "    </tr>\n",
       "    <tr>\n",
       "      <th>7</th>\n",
       "      <td>7</td>\n",
       "      <td>2</td>\n",
       "      <td>0.025</td>\n",
       "      <td>1.000</td>\n",
       "    </tr>\n",
       "  </tbody>\n",
       "</table>\n",
       "</div>"
      ],
      "text/plain": [
       "   x_i  n_i   w_i   s_i\n",
       "4    0    4 0.051 0.051\n",
       "3    1   13 0.165 0.215\n",
       "2    2   14 0.177 0.392\n",
       "0    3   24 0.304 0.696\n",
       "1    4   16 0.203 0.899\n",
       "5    5    3 0.038 0.937\n",
       "6    6    3 0.038 0.975\n",
       "7    7    2 0.025 1.000"
      ]
     },
     "execution_count": 502,
     "metadata": {},
     "output_type": "execute_result"
    }
   ],
   "source": [
    "df"
   ]
  },
  {
   "cell_type": "code",
   "execution_count": 503,
   "id": "46a97972",
   "metadata": {},
   "outputs": [
    {
     "data": {
      "image/png": "[encoded data removed]",
      "text/plain": [
       "<Figure size 432x288 with 1 Axes>"
      ]
     },
     "metadata": {
      "needs_background": "light"
     },
     "output_type": "display_data"
    }
   ],
   "source": [
    "g = sns.ecdfplot(data=df,  x='x_i', weights='w_i')\n",
    "g.set_xticks(df['x_i']) \n",
    "g.set_xticklabels(df['x_i'])\n",
    "\n",
    "plt.show()"
   ]
  },
  {
   "cell_type": "code",
   "execution_count": 505,
   "id": "7f08aab3",
   "metadata": {},
   "outputs": [
    {
     "data": {
      "image/png": "[encoded data removed]",
      "text/plain": [
       "<Figure size 432x288 with 1 Axes>"
      ]
     },
     "metadata": {
      "needs_background": "light"
     },
     "output_type": "display_data"
    }
   ],
   "source": [
    "xk = df['x_i']\n",
    "pk = df['w_i']\n",
    "custm_dist = stats.rv_discrete(name='cust_dist', values=(xk, pk))\n",
    "\n",
    "fig, ax = plt.subplots(1, 1)\n",
    "ax.plot(xk, custm_dist.pmf(xk))\n",
    "\n",
    "plt.show()"
   ]
  },
  {
   "cell_type": "markdown",
   "id": "3ca9a486",
   "metadata": {},
   "source": [
    "#### Найдем выборочное среднее, диспрерсию и стандартное отклонение"
   ]
  },
  {
   "cell_type": "code",
   "execution_count": 536,
   "id": "f00a0bbb",
   "metadata": {},
   "outputs": [
    {
     "data": {
      "text/html": [
       "<div>\n",
       "<style scoped>\n",
       "    .dataframe tbody tr th:only-of-type {\n",
       "        vertical-align: middle;\n",
       "    }\n",
       "\n",
       "    .dataframe tbody tr th {\n",
       "        vertical-align: top;\n",
       "    }\n",
       "\n",
       "    .dataframe thead th {\n",
       "        text-align: right;\n",
       "    }\n",
       "</style>\n",
       "<table border=\"1\" class=\"dataframe\">\n",
       "  <thead>\n",
       "    <tr style=\"text-align: right;\">\n",
       "      <th></th>\n",
       "      <th>mean</th>\n",
       "      <th>var</th>\n",
       "      <th>std</th>\n",
       "    </tr>\n",
       "  </thead>\n",
       "  <tbody>\n",
       "    <tr>\n",
       "      <th>0</th>\n",
       "      <td>2.835</td>\n",
       "      <td>2.365</td>\n",
       "      <td>1.538</td>\n",
       "    </tr>\n",
       "  </tbody>\n",
       "</table>\n",
       "</div>"
      ],
      "text/plain": [
       "   mean   var   std\n",
       "0 2.835 2.365 1.538"
      ]
     },
     "execution_count": 536,
     "metadata": {},
     "output_type": "execute_result"
    }
   ],
   "source": [
    "mean = custm_dist.mean()\n",
    "var = custm_dist.var()\n",
    "std = custm_dist.std()\n",
    "\n",
    "pd.DataFrame(data=[[mean, var, std]], \n",
    "             columns=['mean',' var', 'std'])"
   ]
  },
  {
   "cell_type": "code",
   "execution_count": 537,
   "id": "c1ee026d",
   "metadata": {},
   "outputs": [
    {
     "data": {
      "text/html": [
       "<div>\n",
       "<style scoped>\n",
       "    .dataframe tbody tr th:only-of-type {\n",
       "        vertical-align: middle;\n",
       "    }\n",
       "\n",
       "    .dataframe tbody tr th {\n",
       "        vertical-align: top;\n",
       "    }\n",
       "\n",
       "    .dataframe thead th {\n",
       "        text-align: right;\n",
       "    }\n",
       "</style>\n",
       "<table border=\"1\" class=\"dataframe\">\n",
       "  <thead>\n",
       "    <tr style=\"text-align: right;\">\n",
       "      <th></th>\n",
       "      <th>mean</th>\n",
       "      <th>var</th>\n",
       "      <th>std</th>\n",
       "    </tr>\n",
       "  </thead>\n",
       "  <tbody>\n",
       "    <tr>\n",
       "      <th>0</th>\n",
       "      <td>2.835</td>\n",
       "      <td>2.365</td>\n",
       "      <td>1.538</td>\n",
       "    </tr>\n",
       "  </tbody>\n",
       "</table>\n",
       "</div>"
      ],
      "text/plain": [
       "   mean   var   std\n",
       "0 2.835 2.365 1.538"
      ]
     },
     "execution_count": 537,
     "metadata": {},
     "output_type": "execute_result"
    }
   ],
   "source": [
    "mean = (df['x_i'] * df['n_i']).sum() / df['n_i'].sum()\n",
    "var = ((((df['x_i'] - mean)**2) * df['n_i']).sum()) / (df['n_i'].sum())\n",
    "std = np.sqrt(var)\n",
    "\n",
    "pd.DataFrame(data=[[mean, var, std]], \n",
    "             columns=['mean',' var', 'std'])"
   ]
  }
 ],
 "metadata": {
  "kernelspec": {
   "display_name": "Python 3",
   "language": "python",
   "name": "python3"
  },
  "language_info": {
   "codemirror_mode": {
    "name": "ipython",
    "version": 3
   },
   "file_extension": ".py",
   "mimetype": "text/x-python",
   "name": "python",
   "nbconvert_exporter": "python",
   "pygments_lexer": "ipython3",
   "version": "3.9.4"
  }
 },
 "nbformat": 4,
 "nbformat_minor": 5
}
