{
 "cells": [
  {
   "cell_type": "code",
   "execution_count": 1,
   "metadata": {},
   "outputs": [],
   "source": [
    "import pandas as pd\n",
    "import numpy as np\n",
    "\n",
    "from scipy import stats\n",
    "from sympy import *\n",
    "from statsmodels.stats.proportion import proportions_ztest\n",
    "\n",
    "import matplotlib.pyplot as plt\n",
    "\n",
    "pd.options.display.float_format = '{:,.4f}'.format\n",
    "\n",
    "import warnings\n",
    "warnings.filterwarnings(\"ignore\")"
   ]
  },
  {
   "cell_type": "markdown",
   "metadata": {},
   "source": [
    "# Proportion Z-test\n",
    "\n",
    "**Одновыборочный:**\n",
    "$$\\frac{p - p_0}{\\sqrt{\\frac{p_0 \\cdot (1 - p_0)}{n}}}$$\n",
    "\n",
    "**Двувыборочный:**\n",
    "$$\\frac{p_x - p_y}{\\sqrt{p \\cdot (1 - p) \\cdot (\\frac{1}{n_x} + \\frac{1}{n_y})}}$$"
   ]
  },
  {
   "cell_type": "markdown",
   "metadata": {},
   "source": [
    "# Одновыборочный"
   ]
  },
  {
   "cell_type": "markdown",
   "metadata": {},
   "source": [
    "# Задача 1\n",
    "\n",
    "Фирма рассылает рекламные каталоги возможным заказчикам. Как показал опыт, вероятность того, что организация получившая каталог, закажет рекламируемое изделие, равна $0.08$. Фирма разослала $1000$ каталогов новой, улучшенной, формы и получила $100$ заказов. На уровне значимости $0.05$ выяснить, можно ли считать, что новая форма рекламы существенно лучше прежней. \n",
    "\n",
    "$$H_0: p = p_0$$\n",
    "$$H_1: p > p_0$$\n"
   ]
  },
  {
   "cell_type": "markdown",
   "metadata": {},
   "source": [
    "#### Расчет вручную"
   ]
  },
  {
   "cell_type": "code",
   "execution_count": 2,
   "metadata": {},
   "outputs": [],
   "source": [
    "m = 100\n",
    "n = 1000\n",
    "p_0 = 0.08\n",
    "p = m/n"
   ]
  },
  {
   "cell_type": "code",
   "execution_count": 5,
   "metadata": {},
   "outputs": [
    {
     "data": {
      "text/plain": [
       "2.331262020600785"
      ]
     },
     "execution_count": 5,
     "metadata": {},
     "output_type": "execute_result"
    }
   ],
   "source": [
    "z = (p - p_0) / np.sqrt(p_0*((1-p_0)/n))\n",
    "z"
   ]
  },
  {
   "cell_type": "code",
   "execution_count": 6,
   "metadata": {},
   "outputs": [
    {
     "data": {
      "text/plain": [
       "0.009869773784969059"
      ]
     },
     "execution_count": 6,
     "metadata": {},
     "output_type": "execute_result"
    }
   ],
   "source": [
    "stats.norm.sf(z)"
   ]
  },
  {
   "cell_type": "markdown",
   "metadata": {},
   "source": [
    "#### Расчет пакетом statsmodels"
   ]
  },
  {
   "cell_type": "code",
   "execution_count": 22,
   "metadata": {},
   "outputs": [
    {
     "data": {
      "text/plain": [
       "(2.10818510677892, 0.01750749050983122)"
      ]
     },
     "execution_count": 22,
     "metadata": {},
     "output_type": "execute_result"
    }
   ],
   "source": [
    "proportions_ztest(count=m, nobs=n, value=0.08, alternative='larger')"
   ]
  },
  {
   "cell_type": "markdown",
   "metadata": {},
   "source": [
    "Не бьется, потому что proportions_ztest использует p, а не p_0  в знаменателе"
   ]
  },
  {
   "cell_type": "markdown",
   "metadata": {},
   "source": [
    "**p-value ниже** уровня статистической значимости $\\alpha = 0.05$, принять нулевую гипотезe не можем. Следовательно, **новая форма рекламы существенно лучше прежней**. "
   ]
  },
  {
   "cell_type": "markdown",
   "metadata": {},
   "source": [
    "# Задача 2\n",
    "\n",
    "Обычно применяемое лекарство снимает послеоперационные боли у $80\\%$ пациентов. Новое лекарство, применяемое для тех же целей, помогло $90$ пациентам из первых $100$ оперированных. Можно ли на уровне значимости $\\alpha = 0.05$ считать, что новое лекарство лучше? А на уровне $\\alpha = 0.01$?\n",
    "\n",
    "$$H_0: p = p_0$$\n",
    "$$H_1: p > p_0$$"
   ]
  },
  {
   "cell_type": "markdown",
   "metadata": {},
   "source": [
    "#### Расчет вручную"
   ]
  },
  {
   "cell_type": "code",
   "execution_count": 9,
   "metadata": {},
   "outputs": [],
   "source": [
    "m = 90\n",
    "n = 100\n",
    "p_0 = 0.8\n",
    "p = m/n"
   ]
  },
  {
   "cell_type": "code",
   "execution_count": 10,
   "metadata": {},
   "outputs": [
    {
     "data": {
      "text/plain": [
       "2.4999999999999996"
      ]
     },
     "execution_count": 10,
     "metadata": {},
     "output_type": "execute_result"
    }
   ],
   "source": [
    "z = (p - p_0) / np.sqrt(p_0*((1-p_0)/n))\n",
    "z"
   ]
  },
  {
   "cell_type": "code",
   "execution_count": 11,
   "metadata": {},
   "outputs": [
    {
     "data": {
      "text/plain": [
       "0.006209665325776138"
      ]
     },
     "execution_count": 11,
     "metadata": {},
     "output_type": "execute_result"
    }
   ],
   "source": [
    "stats.norm.sf(z)"
   ]
  },
  {
   "cell_type": "markdown",
   "metadata": {},
   "source": [
    "#### Расчет через пакет stats"
   ]
  },
  {
   "cell_type": "code",
   "execution_count": 26,
   "metadata": {},
   "outputs": [
    {
     "data": {
      "text/plain": [
       "(3.3333333333333326, 0.00042906033319683827)"
      ]
     },
     "execution_count": 26,
     "metadata": {},
     "output_type": "execute_result"
    }
   ],
   "source": [
    "proportions_ztest(count=m, nobs=n, value=p_0, alternative='larger')"
   ]
  },
  {
   "cell_type": "markdown",
   "metadata": {},
   "source": [
    "**p-value ниже** уровня статистической значимости и $\\alpha = 0.05$ и $\\alpha = 0.01$, принять нулевую гипотезe не можем. Следовательно, **новое лекарство лучше**. "
   ]
  },
  {
   "cell_type": "markdown",
   "metadata": {},
   "source": [
    "# Двувыборочный"
   ]
  },
  {
   "cell_type": "markdown",
   "metadata": {},
   "source": [
    "# Задача 1\n",
    "\n",
    "Из $n_1=200$ задач первого раздела курса математики, предложенных для решения, абитуриенты решили $m_1=130$, а из $n_2=300$ задач второго раздела абитуриенты решили $m_2=120$. Можно ли при $\\alpha = 0.01$ утверждать, что первый раздел школьного\n",
    "курса абитуриенты усвоили лучше, чем второй. \n",
    "\n",
    "$$H_0: p_1 = p_2$$\n",
    "$$H_1: p_1 > p_2$$"
   ]
  },
  {
   "cell_type": "markdown",
   "metadata": {},
   "source": [
    "#### Расчет вручную"
   ]
  },
  {
   "cell_type": "code",
   "execution_count": 27,
   "metadata": {},
   "outputs": [],
   "source": [
    "n_1, n_2 = 200, 300\n",
    "m_1, m_2 = 130, 120\n",
    "\n",
    "p_1 = m_1 / n_1\n",
    "p_2 = m_2 / n_2\n",
    "p = (m_1 + m_2) / (n_1 + n_2)"
   ]
  },
  {
   "cell_type": "code",
   "execution_count": 28,
   "metadata": {},
   "outputs": [
    {
     "data": {
      "text/plain": [
       "5.477225575051661"
      ]
     },
     "execution_count": 28,
     "metadata": {},
     "output_type": "execute_result"
    }
   ],
   "source": [
    "z = (p_1 - p_2) / np.sqrt(p*(1-p)*(1/n_1 + 1/n_2))\n",
    "\n",
    "z"
   ]
  },
  {
   "cell_type": "code",
   "execution_count": 29,
   "metadata": {},
   "outputs": [
    {
     "data": {
      "text/plain": [
       "2.160231528913744e-08"
      ]
     },
     "execution_count": 29,
     "metadata": {},
     "output_type": "execute_result"
    }
   ],
   "source": [
    "stats.norm.sf(z)"
   ]
  },
  {
   "cell_type": "markdown",
   "metadata": {},
   "source": [
    "#### Расчет пакетом statsmodels¶"
   ]
  },
  {
   "cell_type": "code",
   "execution_count": 30,
   "metadata": {},
   "outputs": [
    {
     "data": {
      "text/plain": [
       "(5.477225575051661, 2.160231528913744e-08)"
      ]
     },
     "execution_count": 30,
     "metadata": {},
     "output_type": "execute_result"
    }
   ],
   "source": [
    "count = np.array([m_1, m_2])\n",
    "nobs = np.array([n_1, n_2])\n",
    "\n",
    "\n",
    "proportions_ztest(count, nobs, alternative='larger')"
   ]
  },
  {
   "cell_type": "markdown",
   "metadata": {},
   "source": [
    "**p-value ниже** уровня статистической значимости $\\alpha = 0.05$, принять нулевую гипотезe не можем. Следовательно, **первый раздел школьного курса абитуриенты усвоили лучше**."
   ]
  },
  {
   "cell_type": "markdown",
   "metadata": {},
   "source": [
    "## Задача 2\n",
    "\n",
    "Выборочная проверка надежности материнских плат $2-х$ производителей дала следующие результаты: в течения месяца после продажи в $15$ из $200$ материнских плат производителя $А$ обнаружены дефекты, тогда как среди $400$ материнских плат производителя $В$ $8\\%$ оказались дефектами. Существенны ли различия в надежности материнских плат производителей $А$ и $В$? Уровень значимости принять равным $\\alpha = 0.01$. \n",
    "\n",
    "$$H_0: p_1 = p_2$$\n",
    "$$H_1: p_1 \\neq p_2$$"
   ]
  },
  {
   "cell_type": "markdown",
   "metadata": {},
   "source": [
    "#### Расчет вручную"
   ]
  },
  {
   "cell_type": "code",
   "execution_count": 32,
   "metadata": {},
   "outputs": [],
   "source": [
    "n_1, n_2 = 200, 400\n",
    "m_1, m_2 = 15, 32\n",
    "\n",
    "p_1 = m_1 / n_1\n",
    "p_2 = m_2 / n_2\n",
    "p = (m_1 + m_2) / (n_1 + n_2)"
   ]
  },
  {
   "cell_type": "code",
   "execution_count": 33,
   "metadata": {},
   "outputs": [
    {
     "data": {
      "text/plain": [
       "-0.21487165475555572"
      ]
     },
     "execution_count": 33,
     "metadata": {},
     "output_type": "execute_result"
    }
   ],
   "source": [
    "z = (p_1 - p_2) / np.sqrt(p*(1-p)*(1/n_1 + 1/n_2))\n",
    "\n",
    "z"
   ]
  },
  {
   "cell_type": "code",
   "execution_count": 37,
   "metadata": {},
   "outputs": [
    {
     "data": {
      "text/plain": [
       "0.8298673849427255"
      ]
     },
     "execution_count": 37,
     "metadata": {},
     "output_type": "execute_result"
    }
   ],
   "source": [
    "stats.norm.cdf(z) * 2"
   ]
  },
  {
   "cell_type": "markdown",
   "metadata": {},
   "source": [
    "#### Расчет пакетом statsmodels"
   ]
  },
  {
   "cell_type": "code",
   "execution_count": 39,
   "metadata": {},
   "outputs": [
    {
     "data": {
      "text/plain": [
       "(-0.21487165475555572, 0.8298673849427255)"
      ]
     },
     "execution_count": 39,
     "metadata": {},
     "output_type": "execute_result"
    }
   ],
   "source": [
    "count = np.array([m_1, m_2])\n",
    "nobs = np.array([n_1, n_2])\n",
    "\n",
    "\n",
    "proportions_ztest(count, nobs, alternative='two-sided')"
   ]
  },
  {
   "cell_type": "markdown",
   "metadata": {},
   "source": [
    "**p-value выше** уровня статистической значимости $\\alpha = 0.01$, отвергнуть нулевую гипотезe не можем. Следовательно, **различия в надежности материнских плат производителей $А$ и $В$ несущественны**."
   ]
  }
 ],
 "metadata": {
  "hide_input": false,
  "kernelspec": {
   "display_name": "Python 3",
   "language": "python",
   "name": "python3"
  },
  "language_info": {
   "codemirror_mode": {
    "name": "ipython",
    "version": 3
   },
   "file_extension": ".py",
   "mimetype": "text/x-python",
   "name": "python",
   "nbconvert_exporter": "python",
   "pygments_lexer": "ipython3",
   "version": "3.8.5"
  },
  "latex_envs": {
   "LaTeX_envs_menu_present": true,
   "autoclose": false,
   "autocomplete": true,
   "bibliofile": "biblio.bib",
   "cite_by": "apalike",
   "current_citInitial": 1,
   "eqLabelWithNumbers": true,
   "eqNumInitial": 1,
   "hotkeys": {
    "equation": "Ctrl-E",
    "itemize": "Ctrl-I"
   },
   "labels_anchors": false,
   "latex_user_defs": false,
   "report_style_numbering": false,
   "user_envs_cfg": false
  }
 },
 "nbformat": 4,
 "nbformat_minor": 4
}
