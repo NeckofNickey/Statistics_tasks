{
 "cells": [
  {
   "cell_type": "code",
   "execution_count": 1,
   "metadata": {},
   "outputs": [],
   "source": [
    "import pandas as pd\n",
    "import numpy as np\n",
    "\n",
    "from scipy import stats\n",
    "from sympy import *\n",
    "from statsmodels.stats.proportion import proportions_ztest\n",
    "\n",
    "import matplotlib.pyplot as plt\n",
    "\n",
    "pd.options.display.float_format = '{:,.4f}'.format\n",
    "\n",
    "import warnings\n",
    "warnings.filterwarnings(\"ignore\")"
   ]
  },
  {
   "cell_type": "markdown",
   "metadata": {},
   "source": [
    "# Критерий Манна-Уитни"
   ]
  },
  {
   "cell_type": "markdown",
   "metadata": {},
   "source": [
    "$$U = (n_1 \\cdot n_2) + \\frac{n_{max} \\cdot (n_{max} + 1)}{2} - T$$"
   ]
  },
  {
   "cell_type": "markdown",
   "metadata": {},
   "source": [
    "## Задача 1\n",
    "\n",
    "При измерении пространственных порогов тактильной чувствительности получены следующие величины порогов тактильной чувствительности \n",
    "\n",
    "|Муж|Жен|\n",
    "|---|---|\n",
    "|39|32|\n",
    "|36|30|\n",
    "|31|28|\n",
    "|35|30|\n",
    "|29|33|\n",
    "|34|37|\n",
    "|38|28|\n",
    "|-|27|\n",
    "\n",
    "Отличаются ли между собой пороги мужчин и женщин?\n",
    "\n",
    "$$H_0: P(X>Y) = P(X<Y)$$\n",
    "$$H_1: P(X>Y) \\neq P(X<Y)$$"
   ]
  },
  {
   "cell_type": "code",
   "execution_count": 81,
   "metadata": {},
   "outputs": [
    {
     "data": {
      "text/html": [
       "<div>\n",
       "<style scoped>\n",
       "    .dataframe tbody tr th:only-of-type {\n",
       "        vertical-align: middle;\n",
       "    }\n",
       "\n",
       "    .dataframe tbody tr th {\n",
       "        vertical-align: top;\n",
       "    }\n",
       "\n",
       "    .dataframe thead th {\n",
       "        text-align: right;\n",
       "    }\n",
       "</style>\n",
       "<table border=\"1\" class=\"dataframe\">\n",
       "  <thead>\n",
       "    <tr style=\"text-align: right;\">\n",
       "      <th></th>\n",
       "      <th>Муж</th>\n",
       "      <th>Жен</th>\n",
       "    </tr>\n",
       "  </thead>\n",
       "  <tbody>\n",
       "    <tr>\n",
       "      <th>0</th>\n",
       "      <td>39.0000</td>\n",
       "      <td>32</td>\n",
       "    </tr>\n",
       "    <tr>\n",
       "      <th>1</th>\n",
       "      <td>36.0000</td>\n",
       "      <td>30</td>\n",
       "    </tr>\n",
       "    <tr>\n",
       "      <th>2</th>\n",
       "      <td>31.0000</td>\n",
       "      <td>28</td>\n",
       "    </tr>\n",
       "    <tr>\n",
       "      <th>3</th>\n",
       "      <td>35.0000</td>\n",
       "      <td>30</td>\n",
       "    </tr>\n",
       "    <tr>\n",
       "      <th>4</th>\n",
       "      <td>29.0000</td>\n",
       "      <td>33</td>\n",
       "    </tr>\n",
       "    <tr>\n",
       "      <th>5</th>\n",
       "      <td>34.0000</td>\n",
       "      <td>37</td>\n",
       "    </tr>\n",
       "    <tr>\n",
       "      <th>6</th>\n",
       "      <td>38.0000</td>\n",
       "      <td>28</td>\n",
       "    </tr>\n",
       "    <tr>\n",
       "      <th>7</th>\n",
       "      <td>nan</td>\n",
       "      <td>27</td>\n",
       "    </tr>\n",
       "  </tbody>\n",
       "</table>\n",
       "</div>"
      ],
      "text/plain": [
       "      Муж  Жен\n",
       "0 39.0000   32\n",
       "1 36.0000   30\n",
       "2 31.0000   28\n",
       "3 35.0000   30\n",
       "4 29.0000   33\n",
       "5 34.0000   37\n",
       "6 38.0000   28\n",
       "7     nan   27"
      ]
     },
     "execution_count": 81,
     "metadata": {},
     "output_type": "execute_result"
    }
   ],
   "source": [
    "men = pd.Series([39, 36, 31, 35, 29, 34, 38])\n",
    "women = pd.Series([32, 30, 28, 30, 33, 37, 28, 27])\n",
    "\n",
    "df = pd.DataFrame({'Муж':men, 'Жен':women})\n",
    "\n",
    "df"
   ]
  },
  {
   "cell_type": "markdown",
   "metadata": {},
   "source": [
    "#### Расчет вручную "
   ]
  },
  {
   "cell_type": "code",
   "execution_count": 82,
   "metadata": {},
   "outputs": [],
   "source": [
    "T = pd.concat([df['Муж'], df['Жен']])\n",
    "T = T.sort_values().dropna()\n",
    "rang = stats.rankdata(T)\n",
    "\n",
    "rang_df = pd.DataFrame({'value':T, 'rang':rang})\n",
    "\n",
    "rang_df = rang_df.drop_duplicates(subset=['value'])"
   ]
  },
  {
   "cell_type": "code",
   "execution_count": 83,
   "metadata": {},
   "outputs": [
    {
     "data": {
      "text/html": [
       "<div>\n",
       "<style scoped>\n",
       "    .dataframe tbody tr th:only-of-type {\n",
       "        vertical-align: middle;\n",
       "    }\n",
       "\n",
       "    .dataframe tbody tr th {\n",
       "        vertical-align: top;\n",
       "    }\n",
       "\n",
       "    .dataframe thead th {\n",
       "        text-align: right;\n",
       "    }\n",
       "</style>\n",
       "<table border=\"1\" class=\"dataframe\">\n",
       "  <thead>\n",
       "    <tr style=\"text-align: right;\">\n",
       "      <th></th>\n",
       "      <th>Муж</th>\n",
       "      <th>Жен</th>\n",
       "      <th>rang_x</th>\n",
       "      <th>rang_y</th>\n",
       "    </tr>\n",
       "  </thead>\n",
       "  <tbody>\n",
       "    <tr>\n",
       "      <th>0</th>\n",
       "      <td>39.0000</td>\n",
       "      <td>32</td>\n",
       "      <td>15.0000</td>\n",
       "      <td>8.0000</td>\n",
       "    </tr>\n",
       "    <tr>\n",
       "      <th>1</th>\n",
       "      <td>36.0000</td>\n",
       "      <td>30</td>\n",
       "      <td>12.0000</td>\n",
       "      <td>5.5000</td>\n",
       "    </tr>\n",
       "    <tr>\n",
       "      <th>2</th>\n",
       "      <td>31.0000</td>\n",
       "      <td>28</td>\n",
       "      <td>7.0000</td>\n",
       "      <td>2.5000</td>\n",
       "    </tr>\n",
       "    <tr>\n",
       "      <th>3</th>\n",
       "      <td>35.0000</td>\n",
       "      <td>30</td>\n",
       "      <td>11.0000</td>\n",
       "      <td>5.5000</td>\n",
       "    </tr>\n",
       "    <tr>\n",
       "      <th>4</th>\n",
       "      <td>29.0000</td>\n",
       "      <td>33</td>\n",
       "      <td>4.0000</td>\n",
       "      <td>9.0000</td>\n",
       "    </tr>\n",
       "    <tr>\n",
       "      <th>5</th>\n",
       "      <td>34.0000</td>\n",
       "      <td>37</td>\n",
       "      <td>10.0000</td>\n",
       "      <td>13.0000</td>\n",
       "    </tr>\n",
       "    <tr>\n",
       "      <th>6</th>\n",
       "      <td>38.0000</td>\n",
       "      <td>28</td>\n",
       "      <td>14.0000</td>\n",
       "      <td>2.5000</td>\n",
       "    </tr>\n",
       "    <tr>\n",
       "      <th>7</th>\n",
       "      <td>nan</td>\n",
       "      <td>27</td>\n",
       "      <td>nan</td>\n",
       "      <td>1.0000</td>\n",
       "    </tr>\n",
       "  </tbody>\n",
       "</table>\n",
       "</div>"
      ],
      "text/plain": [
       "      Муж  Жен  rang_x  rang_y\n",
       "0 39.0000   32 15.0000  8.0000\n",
       "1 36.0000   30 12.0000  5.5000\n",
       "2 31.0000   28  7.0000  2.5000\n",
       "3 35.0000   30 11.0000  5.5000\n",
       "4 29.0000   33  4.0000  9.0000\n",
       "5 34.0000   37 10.0000 13.0000\n",
       "6 38.0000   28 14.0000  2.5000\n",
       "7     nan   27     nan  1.0000"
      ]
     },
     "execution_count": 83,
     "metadata": {},
     "output_type": "execute_result"
    }
   ],
   "source": [
    "merge = df.merge(rang_df, how='left', left_on=['Муж'], right_on=['value'])\\\n",
    "          .merge(rang_df, how='left', left_on=['Жен'], right_on=['value'])\n",
    "\n",
    "merge = merge.drop(['value_x', 'value_y'], axis=1)\n",
    "\n",
    "merge"
   ]
  },
  {
   "cell_type": "code",
   "execution_count": 84,
   "metadata": {},
   "outputs": [
    {
     "data": {
      "text/plain": [
       "7"
      ]
     },
     "execution_count": 84,
     "metadata": {},
     "output_type": "execute_result"
    }
   ],
   "source": [
    "n_1, n_2 = merge['Муж'].count(), merge['Жен'].count()\n",
    "\n",
    "val_max = max(merge.rang_x.sum(), merge.rang_y.sum())\n",
    "\n",
    "n_max = np.nan\n",
    "\n",
    "if merge.rang_x.sum() == val_max:\n",
    "    n_max = df['Муж'].count()\n",
    "elif merge.rang_y.sum() == val_max:\n",
    "    n_max = df['Жен'].count()\n",
    "    \n",
    "n_max"
   ]
  },
  {
   "cell_type": "code",
   "execution_count": 87,
   "metadata": {},
   "outputs": [
    {
     "data": {
      "text/plain": [
       "11.0"
      ]
     },
     "execution_count": 87,
     "metadata": {},
     "output_type": "execute_result"
    }
   ],
   "source": [
    "u = (n_1 * n_2) + (n_max * (n_max + 1)) / 2 - val_max\n",
    "\n",
    "u"
   ]
  },
  {
   "cell_type": "markdown",
   "metadata": {},
   "source": [
    "Для критерия Манна-Уитни при $n_1=7$, $n_2=8$ критическое значение равно $13$. Так как наше значение статистики меньше критичекого (попадает в критическую область), следовательно мы **отвергаем нулевую гипотезу** и говорим, что **пороги мужчин и женщин отличаются между собой**. "
   ]
  },
  {
   "cell_type": "markdown",
   "metadata": {},
   "source": [
    "#### Расчет через пакет stats"
   ]
  },
  {
   "cell_type": "code",
   "execution_count": 88,
   "metadata": {},
   "outputs": [
    {
     "data": {
      "text/plain": [
       "MannwhitneyuResult(statistic=45.0, pvalue=0.055757917688854436)"
      ]
     },
     "execution_count": 88,
     "metadata": {},
     "output_type": "execute_result"
    }
   ],
   "source": [
    "stats.mannwhitneyu(df['Муж'], df['Жен'], nan_policy='omit', alternative='two-sided')"
   ]
  },
  {
   "cell_type": "code",
   "execution_count": 52,
   "metadata": {},
   "outputs": [
    {
     "data": {
      "text/html": [
       "<div>\n",
       "<style scoped>\n",
       "    .dataframe tbody tr th:only-of-type {\n",
       "        vertical-align: middle;\n",
       "    }\n",
       "\n",
       "    .dataframe tbody tr th {\n",
       "        vertical-align: top;\n",
       "    }\n",
       "\n",
       "    .dataframe thead th {\n",
       "        text-align: right;\n",
       "    }\n",
       "</style>\n",
       "<table border=\"1\" class=\"dataframe\">\n",
       "  <thead>\n",
       "    <tr style=\"text-align: right;\">\n",
       "      <th></th>\n",
       "      <th>U-val</th>\n",
       "      <th>alternative</th>\n",
       "      <th>p-val</th>\n",
       "      <th>RBC</th>\n",
       "      <th>CLES</th>\n",
       "    </tr>\n",
       "  </thead>\n",
       "  <tbody>\n",
       "    <tr>\n",
       "      <th>MWU</th>\n",
       "      <td>45.0000</td>\n",
       "      <td>two-sided</td>\n",
       "      <td>0.0558</td>\n",
       "      <td>-0.6071</td>\n",
       "      <td>0.8036</td>\n",
       "    </tr>\n",
       "  </tbody>\n",
       "</table>\n",
       "</div>"
      ],
      "text/plain": [
       "      U-val alternative  p-val     RBC   CLES\n",
       "MWU 45.0000   two-sided 0.0558 -0.6071 0.8036"
      ]
     },
     "execution_count": 52,
     "metadata": {},
     "output_type": "execute_result"
    }
   ],
   "source": [
    "from pingouin import mwu\n",
    "\n",
    "mwu(df['Муж'], df['Жен'], alternative='two-sided')"
   ]
  },
  {
   "cell_type": "markdown",
   "metadata": {},
   "source": []
  },
  {
   "cell_type": "markdown",
   "metadata": {},
   "source": [
    "## Задача 2\n",
    "\n",
    "По выборкам из 2-х партий микросхем после операции легирования поликремния измерялось удельное сопротивление. Результаты замеров следующие. \n",
    "\n",
    "||1|2|3|4|5|6|7|8|9|10|\n",
    "|---|---|---|---|---|---|---|---|---|---|---|\n",
    "|1-я партия|52.2|33|32.5|49.5|32.5|191.5|112.5|69.1|48.5|16.5|\n",
    "|2-я партия|119|17.5|43.5|90.5|40.0|50.0|108|96|-|-|\n",
    "\n",
    "Отличаются ли удельные сопротивления? \n",
    "\n",
    "$$H_0: P(X>Y) = P(X<Y)$$\n",
    "$$H_1: P(X>Y) \\neq P(X<Y)$$"
   ]
  },
  {
   "cell_type": "code",
   "execution_count": 73,
   "metadata": {},
   "outputs": [
    {
     "data": {
      "text/html": [
       "<div>\n",
       "<style scoped>\n",
       "    .dataframe tbody tr th:only-of-type {\n",
       "        vertical-align: middle;\n",
       "    }\n",
       "\n",
       "    .dataframe tbody tr th {\n",
       "        vertical-align: top;\n",
       "    }\n",
       "\n",
       "    .dataframe thead th {\n",
       "        text-align: right;\n",
       "    }\n",
       "</style>\n",
       "<table border=\"1\" class=\"dataframe\">\n",
       "  <thead>\n",
       "    <tr style=\"text-align: right;\">\n",
       "      <th></th>\n",
       "      <th>part_1</th>\n",
       "      <th>part_2</th>\n",
       "    </tr>\n",
       "  </thead>\n",
       "  <tbody>\n",
       "    <tr>\n",
       "      <th>0</th>\n",
       "      <td>52.2000</td>\n",
       "      <td>119.0000</td>\n",
       "    </tr>\n",
       "    <tr>\n",
       "      <th>1</th>\n",
       "      <td>33.0000</td>\n",
       "      <td>17.5000</td>\n",
       "    </tr>\n",
       "    <tr>\n",
       "      <th>2</th>\n",
       "      <td>32.5000</td>\n",
       "      <td>43.5000</td>\n",
       "    </tr>\n",
       "    <tr>\n",
       "      <th>3</th>\n",
       "      <td>49.5000</td>\n",
       "      <td>90.5000</td>\n",
       "    </tr>\n",
       "    <tr>\n",
       "      <th>4</th>\n",
       "      <td>32.5000</td>\n",
       "      <td>40.0000</td>\n",
       "    </tr>\n",
       "    <tr>\n",
       "      <th>5</th>\n",
       "      <td>191.5000</td>\n",
       "      <td>50.0000</td>\n",
       "    </tr>\n",
       "    <tr>\n",
       "      <th>6</th>\n",
       "      <td>112.5000</td>\n",
       "      <td>108.0000</td>\n",
       "    </tr>\n",
       "    <tr>\n",
       "      <th>7</th>\n",
       "      <td>69.1000</td>\n",
       "      <td>96.0000</td>\n",
       "    </tr>\n",
       "    <tr>\n",
       "      <th>8</th>\n",
       "      <td>48.5000</td>\n",
       "      <td>nan</td>\n",
       "    </tr>\n",
       "    <tr>\n",
       "      <th>9</th>\n",
       "      <td>16.5000</td>\n",
       "      <td>nan</td>\n",
       "    </tr>\n",
       "  </tbody>\n",
       "</table>\n",
       "</div>"
      ],
      "text/plain": [
       "    part_1   part_2\n",
       "0  52.2000 119.0000\n",
       "1  33.0000  17.5000\n",
       "2  32.5000  43.5000\n",
       "3  49.5000  90.5000\n",
       "4  32.5000  40.0000\n",
       "5 191.5000  50.0000\n",
       "6 112.5000 108.0000\n",
       "7  69.1000  96.0000\n",
       "8  48.5000      nan\n",
       "9  16.5000      nan"
      ]
     },
     "execution_count": 73,
     "metadata": {},
     "output_type": "execute_result"
    }
   ],
   "source": [
    "part_1 = pd.Series([52.2, 33, 32.5, 49.5, 32.5, 191.5, 112.5, 69.1, 48.5, 16.5])\n",
    "part_2 = pd.Series([119, 17.5, 43.5, 90.5, 40.0, 50.0, 108, 96])\n",
    "\n",
    "df = pd.DataFrame({'part_1':part_1, 'part_2':part_2})\n",
    "df"
   ]
  },
  {
   "cell_type": "markdown",
   "metadata": {},
   "source": [
    "#### Расчет вручную "
   ]
  },
  {
   "cell_type": "code",
   "execution_count": 74,
   "metadata": {},
   "outputs": [],
   "source": [
    "T = pd.concat([df['part_1'], df['part_2']])\n",
    "T = T.sort_values().dropna()\n",
    "rang = stats.rankdata(T)\n",
    "\n",
    "rang_df = pd.DataFrame({'value':T, 'rang':rang})\n",
    "\n",
    "rang_df = rang_df.drop_duplicates(subset=['value'])"
   ]
  },
  {
   "cell_type": "code",
   "execution_count": 75,
   "metadata": {},
   "outputs": [
    {
     "data": {
      "text/html": [
       "<div>\n",
       "<style scoped>\n",
       "    .dataframe tbody tr th:only-of-type {\n",
       "        vertical-align: middle;\n",
       "    }\n",
       "\n",
       "    .dataframe tbody tr th {\n",
       "        vertical-align: top;\n",
       "    }\n",
       "\n",
       "    .dataframe thead th {\n",
       "        text-align: right;\n",
       "    }\n",
       "</style>\n",
       "<table border=\"1\" class=\"dataframe\">\n",
       "  <thead>\n",
       "    <tr style=\"text-align: right;\">\n",
       "      <th></th>\n",
       "      <th>part_1</th>\n",
       "      <th>part_2</th>\n",
       "      <th>rang_x</th>\n",
       "      <th>rang_y</th>\n",
       "    </tr>\n",
       "  </thead>\n",
       "  <tbody>\n",
       "    <tr>\n",
       "      <th>0</th>\n",
       "      <td>52.2000</td>\n",
       "      <td>119.0000</td>\n",
       "      <td>11.0000</td>\n",
       "      <td>17.0000</td>\n",
       "    </tr>\n",
       "    <tr>\n",
       "      <th>1</th>\n",
       "      <td>33.0000</td>\n",
       "      <td>17.5000</td>\n",
       "      <td>5.0000</td>\n",
       "      <td>2.0000</td>\n",
       "    </tr>\n",
       "    <tr>\n",
       "      <th>2</th>\n",
       "      <td>32.5000</td>\n",
       "      <td>43.5000</td>\n",
       "      <td>3.5000</td>\n",
       "      <td>7.0000</td>\n",
       "    </tr>\n",
       "    <tr>\n",
       "      <th>3</th>\n",
       "      <td>49.5000</td>\n",
       "      <td>90.5000</td>\n",
       "      <td>9.0000</td>\n",
       "      <td>13.0000</td>\n",
       "    </tr>\n",
       "    <tr>\n",
       "      <th>4</th>\n",
       "      <td>32.5000</td>\n",
       "      <td>40.0000</td>\n",
       "      <td>3.5000</td>\n",
       "      <td>6.0000</td>\n",
       "    </tr>\n",
       "    <tr>\n",
       "      <th>5</th>\n",
       "      <td>191.5000</td>\n",
       "      <td>50.0000</td>\n",
       "      <td>18.0000</td>\n",
       "      <td>10.0000</td>\n",
       "    </tr>\n",
       "    <tr>\n",
       "      <th>6</th>\n",
       "      <td>112.5000</td>\n",
       "      <td>108.0000</td>\n",
       "      <td>16.0000</td>\n",
       "      <td>15.0000</td>\n",
       "    </tr>\n",
       "    <tr>\n",
       "      <th>7</th>\n",
       "      <td>69.1000</td>\n",
       "      <td>96.0000</td>\n",
       "      <td>12.0000</td>\n",
       "      <td>14.0000</td>\n",
       "    </tr>\n",
       "    <tr>\n",
       "      <th>8</th>\n",
       "      <td>48.5000</td>\n",
       "      <td>nan</td>\n",
       "      <td>8.0000</td>\n",
       "      <td>nan</td>\n",
       "    </tr>\n",
       "    <tr>\n",
       "      <th>9</th>\n",
       "      <td>16.5000</td>\n",
       "      <td>nan</td>\n",
       "      <td>1.0000</td>\n",
       "      <td>nan</td>\n",
       "    </tr>\n",
       "  </tbody>\n",
       "</table>\n",
       "</div>"
      ],
      "text/plain": [
       "    part_1   part_2  rang_x  rang_y\n",
       "0  52.2000 119.0000 11.0000 17.0000\n",
       "1  33.0000  17.5000  5.0000  2.0000\n",
       "2  32.5000  43.5000  3.5000  7.0000\n",
       "3  49.5000  90.5000  9.0000 13.0000\n",
       "4  32.5000  40.0000  3.5000  6.0000\n",
       "5 191.5000  50.0000 18.0000 10.0000\n",
       "6 112.5000 108.0000 16.0000 15.0000\n",
       "7  69.1000  96.0000 12.0000 14.0000\n",
       "8  48.5000      nan  8.0000     nan\n",
       "9  16.5000      nan  1.0000     nan"
      ]
     },
     "execution_count": 75,
     "metadata": {},
     "output_type": "execute_result"
    }
   ],
   "source": [
    "merge = df.merge(rang_df, how='left', left_on=['part_1'], right_on=['value'])\\\n",
    "          .merge(rang_df, how='left', left_on=['part_2'], right_on=['value'])\n",
    "\n",
    "merge = merge.drop(['value_x', 'value_y'], axis=1)\n",
    "\n",
    "merge"
   ]
  },
  {
   "cell_type": "code",
   "execution_count": 76,
   "metadata": {},
   "outputs": [
    {
     "data": {
      "text/plain": [
       "10"
      ]
     },
     "execution_count": 76,
     "metadata": {},
     "output_type": "execute_result"
    }
   ],
   "source": [
    "n_1, n_2 = merge['part_1'].count(), merge['part_2'].count()\n",
    "\n",
    "val_max = max(merge.rang_x.sum(), merge.rang_y.sum())\n",
    "\n",
    "n_max = np.nan\n",
    "\n",
    "if merge.rang_x.sum() == val_max:\n",
    "    n_max = df['part_1'].count()\n",
    "elif merge.rang_y.sum() == val_max:\n",
    "    n_max = df['part_2'].count()\n",
    "    \n",
    "n_max"
   ]
  },
  {
   "cell_type": "code",
   "execution_count": 77,
   "metadata": {},
   "outputs": [
    {
     "data": {
      "text/plain": [
       "48.0"
      ]
     },
     "execution_count": 77,
     "metadata": {},
     "output_type": "execute_result"
    }
   ],
   "source": [
    "u = (n_1 * n_2) + (n_max * (n_max + 1)) / 2 - val_max\n",
    "\n",
    "u"
   ]
  },
  {
   "cell_type": "code",
   "execution_count": 78,
   "metadata": {},
   "outputs": [
    {
     "name": "stdout",
     "output_type": "stream",
     "text": [
      "10 8\n"
     ]
    }
   ],
   "source": [
    "print(n_1, n_2)"
   ]
  },
  {
   "cell_type": "markdown",
   "metadata": {},
   "source": [
    "$T_{крит}$ для $n_1=10$ и $n_2=8$ равен $17$. Значение нашей статистики критерия $U=48$, что больше $T_{крит}$. Следовательно в критическую область не попадаем, **отвергнуть нулевую гипотезу не можем. Различий не существует**."
   ]
  },
  {
   "cell_type": "markdown",
   "metadata": {},
   "source": [
    "#### Расчет пакетом stats"
   ]
  },
  {
   "cell_type": "code",
   "execution_count": 79,
   "metadata": {},
   "outputs": [
    {
     "data": {
      "text/plain": [
       "MannwhitneyuResult(statistic=32.0, pvalue=0.5049403898598952)"
      ]
     },
     "execution_count": 79,
     "metadata": {},
     "output_type": "execute_result"
    }
   ],
   "source": [
    "stats.mannwhitneyu(df['part_1'], df['part_2'], nan_policy='omit', alternative='two-sided')"
   ]
  },
  {
   "cell_type": "code",
   "execution_count": null,
   "metadata": {},
   "outputs": [],
   "source": []
  },
  {
   "cell_type": "markdown",
   "metadata": {},
   "source": [
    "# Критерий Уилкоксона"
   ]
  },
  {
   "cell_type": "markdown",
   "metadata": {},
   "source": [
    "$$T_{эмп} = \\sum{R_r}$$\n",
    "\n",
    ", где $\\sum{R_r}$ - сумма нетипичных (более редких) рангов"
   ]
  },
  {
   "cell_type": "markdown",
   "metadata": {},
   "source": [
    "|X|Y|\n",
    "|---|---|\n",
    "|13|16|\n",
    "|15|14|\n",
    "|12|14|\n",
    "|11|12|\n",
    "|15|11|\n",
    "|13|15|\n",
    "\n",
    "$$H_0: (X - Y) = 0$$\n",
    "$$H_1: (X - Y) \\neq 0$$"
   ]
  },
  {
   "cell_type": "code",
   "execution_count": 32,
   "metadata": {},
   "outputs": [
    {
     "data": {
      "text/html": [
       "<div>\n",
       "<style scoped>\n",
       "    .dataframe tbody tr th:only-of-type {\n",
       "        vertical-align: middle;\n",
       "    }\n",
       "\n",
       "    .dataframe tbody tr th {\n",
       "        vertical-align: top;\n",
       "    }\n",
       "\n",
       "    .dataframe thead th {\n",
       "        text-align: right;\n",
       "    }\n",
       "</style>\n",
       "<table border=\"1\" class=\"dataframe\">\n",
       "  <thead>\n",
       "    <tr style=\"text-align: right;\">\n",
       "      <th></th>\n",
       "      <th>X</th>\n",
       "      <th>Y</th>\n",
       "      <th>X-Y</th>\n",
       "      <th>abs</th>\n",
       "      <th>rang</th>\n",
       "    </tr>\n",
       "  </thead>\n",
       "  <tbody>\n",
       "    <tr>\n",
       "      <th>0</th>\n",
       "      <td>13</td>\n",
       "      <td>16</td>\n",
       "      <td>-3</td>\n",
       "      <td>3</td>\n",
       "      <td>5.0000</td>\n",
       "    </tr>\n",
       "    <tr>\n",
       "      <th>1</th>\n",
       "      <td>15</td>\n",
       "      <td>14</td>\n",
       "      <td>1</td>\n",
       "      <td>1</td>\n",
       "      <td>1.5000</td>\n",
       "    </tr>\n",
       "    <tr>\n",
       "      <th>2</th>\n",
       "      <td>12</td>\n",
       "      <td>14</td>\n",
       "      <td>-2</td>\n",
       "      <td>2</td>\n",
       "      <td>3.5000</td>\n",
       "    </tr>\n",
       "    <tr>\n",
       "      <th>3</th>\n",
       "      <td>11</td>\n",
       "      <td>12</td>\n",
       "      <td>-1</td>\n",
       "      <td>1</td>\n",
       "      <td>1.5000</td>\n",
       "    </tr>\n",
       "    <tr>\n",
       "      <th>4</th>\n",
       "      <td>15</td>\n",
       "      <td>11</td>\n",
       "      <td>4</td>\n",
       "      <td>4</td>\n",
       "      <td>6.0000</td>\n",
       "    </tr>\n",
       "    <tr>\n",
       "      <th>5</th>\n",
       "      <td>13</td>\n",
       "      <td>15</td>\n",
       "      <td>-2</td>\n",
       "      <td>2</td>\n",
       "      <td>3.5000</td>\n",
       "    </tr>\n",
       "  </tbody>\n",
       "</table>\n",
       "</div>"
      ],
      "text/plain": [
       "    X   Y  X-Y  abs   rang\n",
       "0  13  16   -3    3 5.0000\n",
       "1  15  14    1    1 1.5000\n",
       "2  12  14   -2    2 3.5000\n",
       "3  11  12   -1    1 1.5000\n",
       "4  15  11    4    4 6.0000\n",
       "5  13  15   -2    2 3.5000"
      ]
     },
     "execution_count": 32,
     "metadata": {},
     "output_type": "execute_result"
    }
   ],
   "source": [
    "X = [13, 15, 12, 11, 15, 13]\n",
    "Y = [16, 14, 14, 12, 11, 15]\n",
    "\n",
    "df = pd.DataFrame({'X':X, 'Y':Y})\n",
    "\n",
    "df['X-Y'] = df['X'] - df['Y']\n",
    "\n",
    "df['abs'] = abs(df['X-Y'])\n",
    "\n",
    "df['rang'] = stats.rankdata(df['abs'])\n",
    "\n",
    "df"
   ]
  },
  {
   "cell_type": "markdown",
   "metadata": {},
   "source": [
    "#### Рачсет вручную"
   ]
  },
  {
   "cell_type": "code",
   "execution_count": 33,
   "metadata": {},
   "outputs": [
    {
     "name": "stdout",
     "output_type": "stream",
     "text": [
      "below zero: 4, above zero: 2\n"
     ]
    }
   ],
   "source": [
    "below_zero = df[df['X-Y']<=0]['X'].count()\n",
    "above_zero = df[df['X-Y']>0]['X'].count()\n",
    "\n",
    "\n",
    "print(f'below zero: {below_zero}, above zero: {above_zero}')"
   ]
  },
  {
   "cell_type": "code",
   "execution_count": 43,
   "metadata": {},
   "outputs": [
    {
     "data": {
      "text/plain": [
       "7.5"
      ]
     },
     "execution_count": 43,
     "metadata": {},
     "output_type": "execute_result"
    }
   ],
   "source": [
    "sum_rang = df[df['X-Y']>0]['rang'].sum()\n",
    "sum_rang"
   ]
  },
  {
   "cell_type": "markdown",
   "metadata": {},
   "source": [
    "Значение критерия Уилкоксона выше критического значиния для $n=6$ ($T_{крит}=2$). Следовательно, не можем отвергнуть нулевую гипотезу. **Различий не существует**. "
   ]
  },
  {
   "cell_type": "markdown",
   "metadata": {},
   "source": [
    "#### Расчет пакетом stats"
   ]
  },
  {
   "cell_type": "code",
   "execution_count": 42,
   "metadata": {},
   "outputs": [
    {
     "data": {
      "text/plain": [
       "WilcoxonResult(statistic=7.5, pvalue=0.5625)"
      ]
     },
     "execution_count": 42,
     "metadata": {},
     "output_type": "execute_result"
    }
   ],
   "source": [
    "stats.wilcoxon(df['X'], df['Y'])"
   ]
  },
  {
   "cell_type": "markdown",
   "metadata": {},
   "source": [
    "$p-value$ выше $\\alpha=0.05$. Следовательно, не можем отвергнуть нулевую гипотезу. **Различий не существует**. "
   ]
  },
  {
   "cell_type": "markdown",
   "metadata": {},
   "source": [
    "## Задача\n",
    "\n",
    "Дан уровень тревожности ло и после тренинга\n",
    "\n",
    "|№|Уровень тревожности (до тренинга)|Уровень тревожности (после тренинга)|\n",
    "|---|---|---|\n",
    "|1|15|14|\n",
    "|2|14|11|\n",
    "|3|16|17|\n",
    "|4|18|19|\n",
    "|5|21|20|\n",
    "|6|21|18|\n",
    "|7|20|15|\n",
    "|8|15|17|\n",
    "|9|17|14|\n",
    "|10|13|12|\n",
    "\n",
    "Проверить на уровне статистической значимости $\\alpha = 0.05$ снизился ли уровень тревожности после тренинга\n",
    "\n",
    "\n",
    "$$H_0: (X - Y) = 0$$\n",
    "$$H_1: (X - Y) > 0$$"
   ]
  },
  {
   "cell_type": "code",
   "execution_count": 90,
   "metadata": {},
   "outputs": [
    {
     "data": {
      "text/html": [
       "<div>\n",
       "<style scoped>\n",
       "    .dataframe tbody tr th:only-of-type {\n",
       "        vertical-align: middle;\n",
       "    }\n",
       "\n",
       "    .dataframe tbody tr th {\n",
       "        vertical-align: top;\n",
       "    }\n",
       "\n",
       "    .dataframe thead th {\n",
       "        text-align: right;\n",
       "    }\n",
       "</style>\n",
       "<table border=\"1\" class=\"dataframe\">\n",
       "  <thead>\n",
       "    <tr style=\"text-align: right;\">\n",
       "      <th></th>\n",
       "      <th>X</th>\n",
       "      <th>Y</th>\n",
       "      <th>X-Y</th>\n",
       "      <th>abs</th>\n",
       "      <th>rang</th>\n",
       "    </tr>\n",
       "  </thead>\n",
       "  <tbody>\n",
       "    <tr>\n",
       "      <th>1</th>\n",
       "      <td>15</td>\n",
       "      <td>14</td>\n",
       "      <td>1</td>\n",
       "      <td>1</td>\n",
       "      <td>3.0000</td>\n",
       "    </tr>\n",
       "    <tr>\n",
       "      <th>2</th>\n",
       "      <td>14</td>\n",
       "      <td>11</td>\n",
       "      <td>3</td>\n",
       "      <td>3</td>\n",
       "      <td>8.0000</td>\n",
       "    </tr>\n",
       "    <tr>\n",
       "      <th>3</th>\n",
       "      <td>16</td>\n",
       "      <td>17</td>\n",
       "      <td>-1</td>\n",
       "      <td>1</td>\n",
       "      <td>3.0000</td>\n",
       "    </tr>\n",
       "    <tr>\n",
       "      <th>4</th>\n",
       "      <td>18</td>\n",
       "      <td>19</td>\n",
       "      <td>-1</td>\n",
       "      <td>1</td>\n",
       "      <td>3.0000</td>\n",
       "    </tr>\n",
       "    <tr>\n",
       "      <th>5</th>\n",
       "      <td>21</td>\n",
       "      <td>20</td>\n",
       "      <td>1</td>\n",
       "      <td>1</td>\n",
       "      <td>3.0000</td>\n",
       "    </tr>\n",
       "    <tr>\n",
       "      <th>6</th>\n",
       "      <td>21</td>\n",
       "      <td>18</td>\n",
       "      <td>3</td>\n",
       "      <td>3</td>\n",
       "      <td>8.0000</td>\n",
       "    </tr>\n",
       "    <tr>\n",
       "      <th>7</th>\n",
       "      <td>20</td>\n",
       "      <td>15</td>\n",
       "      <td>5</td>\n",
       "      <td>5</td>\n",
       "      <td>10.0000</td>\n",
       "    </tr>\n",
       "    <tr>\n",
       "      <th>8</th>\n",
       "      <td>15</td>\n",
       "      <td>17</td>\n",
       "      <td>-2</td>\n",
       "      <td>2</td>\n",
       "      <td>6.0000</td>\n",
       "    </tr>\n",
       "    <tr>\n",
       "      <th>9</th>\n",
       "      <td>17</td>\n",
       "      <td>14</td>\n",
       "      <td>3</td>\n",
       "      <td>3</td>\n",
       "      <td>8.0000</td>\n",
       "    </tr>\n",
       "    <tr>\n",
       "      <th>10</th>\n",
       "      <td>13</td>\n",
       "      <td>12</td>\n",
       "      <td>1</td>\n",
       "      <td>1</td>\n",
       "      <td>3.0000</td>\n",
       "    </tr>\n",
       "  </tbody>\n",
       "</table>\n",
       "</div>"
      ],
      "text/plain": [
       "     X   Y  X-Y  abs    rang\n",
       "1   15  14    1    1  3.0000\n",
       "2   14  11    3    3  8.0000\n",
       "3   16  17   -1    1  3.0000\n",
       "4   18  19   -1    1  3.0000\n",
       "5   21  20    1    1  3.0000\n",
       "6   21  18    3    3  8.0000\n",
       "7   20  15    5    5 10.0000\n",
       "8   15  17   -2    2  6.0000\n",
       "9   17  14    3    3  8.0000\n",
       "10  13  12    1    1  3.0000"
      ]
     },
     "execution_count": 90,
     "metadata": {},
     "output_type": "execute_result"
    }
   ],
   "source": [
    "X = [15, 14, 16, 18, 21, 21, 20, 15, 17, 13]\n",
    "Y = [14, 11, 17, 19, 20, 18, 15, 17, 14, 12]\n",
    "\n",
    "df = pd.DataFrame({'X':X, 'Y':Y})\n",
    "\n",
    "df.index = range(1, len(df)+1)\n",
    "\n",
    "df['X-Y'] = df['X'] - df['Y']\n",
    "\n",
    "df['abs'] = abs(df['X-Y'])\n",
    "\n",
    "df['rang'] = stats.rankdata(df['abs'])\n",
    "\n",
    "df"
   ]
  },
  {
   "cell_type": "markdown",
   "metadata": {},
   "source": [
    "#### Расчет вручную"
   ]
  },
  {
   "cell_type": "code",
   "execution_count": 91,
   "metadata": {},
   "outputs": [
    {
     "name": "stdout",
     "output_type": "stream",
     "text": [
      "below zero: 3, above zero: 7\n"
     ]
    }
   ],
   "source": [
    "below_zero = df[df['X-Y']<=0]['X'].count()\n",
    "above_zero = df[df['X-Y']>0]['X'].count()\n",
    "\n",
    "\n",
    "print(f'below zero: {below_zero}, above zero: {above_zero}')"
   ]
  },
  {
   "cell_type": "code",
   "execution_count": 93,
   "metadata": {},
   "outputs": [
    {
     "data": {
      "text/plain": [
       "12.0"
      ]
     },
     "execution_count": 93,
     "metadata": {},
     "output_type": "execute_result"
    }
   ],
   "source": [
    "sum_rang = df[df['X-Y']<=0]['rang'].sum()\n",
    "sum_rang"
   ]
  },
  {
   "cell_type": "code",
   "execution_count": 98,
   "metadata": {},
   "outputs": [
    {
     "data": {
      "text/plain": [
       "43.0"
      ]
     },
     "execution_count": 98,
     "metadata": {},
     "output_type": "execute_result"
    }
   ],
   "source": [
    "sum_rang = df[df['X-Y']>0]['rang'].sum()\n",
    "sum_rang"
   ]
  },
  {
   "cell_type": "markdown",
   "metadata": {},
   "source": [
    "Значение критерия Уилкоксона выше критического значиния для $n=10$ ($T_{крит}=10$). Следовательно, не можем отвергнуть нулевую гипотезу. **Уровень тревожности после тренинга не снизился**. "
   ]
  },
  {
   "cell_type": "markdown",
   "metadata": {},
   "source": [
    "#### Расчет пакетом stats"
   ]
  },
  {
   "cell_type": "code",
   "execution_count": 102,
   "metadata": {},
   "outputs": [
    {
     "data": {
      "text/plain": [
       "WilcoxonResult(statistic=43.0, pvalue=0.0654296875)"
      ]
     },
     "execution_count": 102,
     "metadata": {},
     "output_type": "execute_result"
    }
   ],
   "source": [
    "stats.wilcoxon(df['X'], df['Y'], alternative='greater')"
   ]
  },
  {
   "cell_type": "markdown",
   "metadata": {},
   "source": [
    "$p-value$ выше $\\alpha=0.05$. Следовательно, не можем отвергнуть нулевую гипотезу. **Уровень тревожности после тренинга не снизился**. "
   ]
  }
 ],
 "metadata": {
  "hide_input": false,
  "kernelspec": {
   "display_name": "Python 3",
   "language": "python",
   "name": "python3"
  },
  "language_info": {
   "codemirror_mode": {
    "name": "ipython",
    "version": 3
   },
   "file_extension": ".py",
   "mimetype": "text/x-python",
   "name": "python",
   "nbconvert_exporter": "python",
   "pygments_lexer": "ipython3",
   "version": "3.8.5"
  },
  "latex_envs": {
   "LaTeX_envs_menu_present": true,
   "autoclose": false,
   "autocomplete": true,
   "bibliofile": "biblio.bib",
   "cite_by": "apalike",
   "current_citInitial": 1,
   "eqLabelWithNumbers": true,
   "eqNumInitial": 1,
   "hotkeys": {
    "equation": "Ctrl-E",
    "itemize": "Ctrl-I"
   },
   "labels_anchors": false,
   "latex_user_defs": false,
   "report_style_numbering": false,
   "user_envs_cfg": false
  }
 },
 "nbformat": 4,
 "nbformat_minor": 4
}
