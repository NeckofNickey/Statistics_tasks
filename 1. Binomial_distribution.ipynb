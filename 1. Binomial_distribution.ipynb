{
 "cells": [
  {
   "cell_type": "code",
   "execution_count": 2,
   "id": "14d63459",
   "metadata": {},
   "outputs": [],
   "source": [
    "import pandas as pd\n",
    "import numpy as np\n",
    "\n",
    "from tkinter import filedialog as fd\n",
    "from tkinter import Tk, BOTH\n",
    "\n",
    "from datetime import datetime\n",
    "from datetime import timedelta\n",
    "\n",
    "from scipy import stats\n",
    "from scipy.stats import binom\n",
    "from sympy import *\n",
    "\n",
    "import seaborn as sns\n",
    "import matplotlib.pyplot as plt\n",
    "\n",
    "\n",
    "pd.options.display.float_format = '{:,.4f}'.format\n",
    "\n",
    "import warnings\n",
    "warnings.filterwarnings(\"ignore\")\n",
    "\n",
    "from typing import Tuple\n",
    "\n",
    "%matplotlib inline\n",
    "\n",
    "from IPython.core.interactiveshell import InteractiveShell \n",
    "InteractiveShell.ast_node_interactivity = \"all\" #print all out"
   ]
  },
  {
   "cell_type": "markdown",
   "id": "3641e602",
   "metadata": {},
   "source": [
    "## Задача 1.\n",
    "\n",
    "В городе $4$ коммерческих банка. У каждого риск банкротства в течение года составляет $20%$. Составьте ряд распределения числа банков, которые могут обанкротиться в течение следующего года."
   ]
  },
  {
   "cell_type": "code",
   "execution_count": 44,
   "id": "70388411",
   "metadata": {},
   "outputs": [
    {
     "data": {
      "text/html": [
       "<div>\n",
       "<style scoped>\n",
       "    .dataframe tbody tr th:only-of-type {\n",
       "        vertical-align: middle;\n",
       "    }\n",
       "\n",
       "    .dataframe tbody tr th {\n",
       "        vertical-align: top;\n",
       "    }\n",
       "\n",
       "    .dataframe thead th {\n",
       "        text-align: right;\n",
       "    }\n",
       "</style>\n",
       "<table border=\"1\" class=\"dataframe\">\n",
       "  <thead>\n",
       "    <tr style=\"text-align: right;\">\n",
       "      <th></th>\n",
       "      <th>0 Банков</th>\n",
       "      <th>1 Банк</th>\n",
       "      <th>2 Банка</th>\n",
       "      <th>3 Банка</th>\n",
       "      <th>4 Банка</th>\n",
       "    </tr>\n",
       "  </thead>\n",
       "  <tbody>\n",
       "    <tr>\n",
       "      <th>0</th>\n",
       "      <td>0.4096</td>\n",
       "      <td>0.4096</td>\n",
       "      <td>0.1536</td>\n",
       "      <td>0.0256</td>\n",
       "      <td>0.0016</td>\n",
       "    </tr>\n",
       "  </tbody>\n",
       "</table>\n",
       "</div>"
      ],
      "text/plain": [
       "   0 Банков  1 Банк  2 Банка  3 Банка  4 Банка\n",
       "0    0.4096  0.4096   0.1536   0.0256   0.0016"
      ]
     },
     "execution_count": 44,
     "metadata": {},
     "output_type": "execute_result"
    }
   ],
   "source": [
    "n = 4\n",
    "p = 0.2\n",
    "\n",
    "x_0 = binom.pmf(0, n, p)\n",
    "x_1 = binom.pmf(1, n, p)\n",
    "x_2 = binom.pmf(2, n, p)\n",
    "x_3 = binom.pmf(3, n, p)\n",
    "x_4 = binom.pmf(4, n, p)\n",
    "\n",
    "pd.DataFrame(data=[[x_0, x_1, x_2, x_3, x_4]], \n",
    "             columns=['0 Банков', '1 Банк', '2 Банка', '3 Банка', '4 Банка'])"
   ]
  },
  {
   "cell_type": "markdown",
   "id": "f592d05f",
   "metadata": {},
   "source": [
    "## Задача 2\n",
    "\n",
    "Наблюдение за районом осуществляется тремя радиолокационными станциями (РЛС). В район наблюдений попал объект, который обнаруживается любой радиолокационной станцией с вероятностью $0.2$.\n",
    "\n",
    "Построить ряд распределения, найти функцию распределения, математическое ожидание и среднее квадратичное отклонение числа РЛС, обнаруживших объект.\n",
    "\n",
    "Найти вероятность того, что их будет не менее двух."
   ]
  },
  {
   "cell_type": "markdown",
   "id": "74e84a78",
   "metadata": {},
   "source": [
    "#### Построить ряд распределения"
   ]
  },
  {
   "cell_type": "code",
   "execution_count": 46,
   "id": "aafbdf4e",
   "metadata": {},
   "outputs": [
    {
     "data": {
      "text/html": [
       "<div>\n",
       "<style scoped>\n",
       "    .dataframe tbody tr th:only-of-type {\n",
       "        vertical-align: middle;\n",
       "    }\n",
       "\n",
       "    .dataframe tbody tr th {\n",
       "        vertical-align: top;\n",
       "    }\n",
       "\n",
       "    .dataframe thead th {\n",
       "        text-align: right;\n",
       "    }\n",
       "</style>\n",
       "<table border=\"1\" class=\"dataframe\">\n",
       "  <thead>\n",
       "    <tr style=\"text-align: right;\">\n",
       "      <th></th>\n",
       "      <th>0 РЛС</th>\n",
       "      <th>1 РЛС</th>\n",
       "      <th>2 РЛС</th>\n",
       "      <th>3 РЛС</th>\n",
       "    </tr>\n",
       "  </thead>\n",
       "  <tbody>\n",
       "    <tr>\n",
       "      <th>0</th>\n",
       "      <td>0.5120</td>\n",
       "      <td>0.3840</td>\n",
       "      <td>0.0960</td>\n",
       "      <td>0.0080</td>\n",
       "    </tr>\n",
       "  </tbody>\n",
       "</table>\n",
       "</div>"
      ],
      "text/plain": [
       "   0 РЛС  1 РЛС  2 РЛС  3 РЛС\n",
       "0 0.5120 0.3840 0.0960 0.0080"
      ]
     },
     "execution_count": 46,
     "metadata": {},
     "output_type": "execute_result"
    }
   ],
   "source": [
    "n = 3\n",
    "p = 0.2\n",
    "\n",
    "x_0 = binom.pmf(0, n, p)\n",
    "x_1 = binom.pmf(1, n, p)\n",
    "x_2 = binom.pmf(2, n, p)\n",
    "x_3 = binom.pmf(3, n, p)\n",
    "\n",
    "\n",
    "pd.DataFrame(data=[[x_0, x_1, x_2, x_3]], \n",
    "             columns=['0 РЛС', '1 РЛС', '2 РЛС', '3 РЛС'])"
   ]
  },
  {
   "cell_type": "markdown",
   "id": "3424f682",
   "metadata": {},
   "source": [
    "#### Найти функцию распределения"
   ]
  },
  {
   "cell_type": "code",
   "execution_count": 47,
   "id": "6926d27c",
   "metadata": {},
   "outputs": [
    {
     "data": {
      "text/html": [
       "<div>\n",
       "<style scoped>\n",
       "    .dataframe tbody tr th:only-of-type {\n",
       "        vertical-align: middle;\n",
       "    }\n",
       "\n",
       "    .dataframe tbody tr th {\n",
       "        vertical-align: top;\n",
       "    }\n",
       "\n",
       "    .dataframe thead th {\n",
       "        text-align: right;\n",
       "    }\n",
       "</style>\n",
       "<table border=\"1\" class=\"dataframe\">\n",
       "  <thead>\n",
       "    <tr style=\"text-align: right;\">\n",
       "      <th></th>\n",
       "      <th>x_i</th>\n",
       "      <th>p_i</th>\n",
       "    </tr>\n",
       "  </thead>\n",
       "  <tbody>\n",
       "    <tr>\n",
       "      <th>0</th>\n",
       "      <td>0</td>\n",
       "      <td>0.5120</td>\n",
       "    </tr>\n",
       "    <tr>\n",
       "      <th>1</th>\n",
       "      <td>1</td>\n",
       "      <td>0.3840</td>\n",
       "    </tr>\n",
       "    <tr>\n",
       "      <th>2</th>\n",
       "      <td>2</td>\n",
       "      <td>0.0960</td>\n",
       "    </tr>\n",
       "    <tr>\n",
       "      <th>3</th>\n",
       "      <td>3</td>\n",
       "      <td>0.0080</td>\n",
       "    </tr>\n",
       "  </tbody>\n",
       "</table>\n",
       "</div>"
      ],
      "text/plain": [
       "   x_i    p_i\n",
       "0    0 0.5120\n",
       "1    1 0.3840\n",
       "2    2 0.0960\n",
       "3    3 0.0080"
      ]
     },
     "execution_count": 47,
     "metadata": {},
     "output_type": "execute_result"
    }
   ],
   "source": [
    "df = pd.DataFrame({'x_i':np.arange(0, 4), 'p_i':[x_0, x_1, x_2, x_3]})\n",
    "\n",
    "df"
   ]
  },
  {
   "cell_type": "code",
   "execution_count": 48,
   "id": "ee7fd655",
   "metadata": {},
   "outputs": [
    {
     "data": {
      "text/plain": [
       "<AxesSubplot:xlabel='x_i', ylabel='Proportion'>"
      ]
     },
     "execution_count": 48,
     "metadata": {},
     "output_type": "execute_result"
    },
    {
     "data": {
      "image/png": "[encoded data removed]",
      "text/plain": [
       "<Figure size 432x288 with 1 Axes>"
      ]
     },
     "metadata": {
      "needs_background": "light"
     },
     "output_type": "display_data"
    }
   ],
   "source": [
    "sns.ecdfplot(data=df,  x='x_i', weights='p_i')"
   ]
  },
  {
   "cell_type": "markdown",
   "id": "5d7de591",
   "metadata": {},
   "source": [
    "#### Найти математическое ожидание и среднее квадратичное отклонение числа РЛС"
   ]
  },
  {
   "cell_type": "code",
   "execution_count": 54,
   "id": "621fce46",
   "metadata": {},
   "outputs": [
    {
     "data": {
      "text/html": [
       "<div>\n",
       "<style scoped>\n",
       "    .dataframe tbody tr th:only-of-type {\n",
       "        vertical-align: middle;\n",
       "    }\n",
       "\n",
       "    .dataframe tbody tr th {\n",
       "        vertical-align: top;\n",
       "    }\n",
       "\n",
       "    .dataframe thead th {\n",
       "        text-align: right;\n",
       "    }\n",
       "</style>\n",
       "<table border=\"1\" class=\"dataframe\">\n",
       "  <thead>\n",
       "    <tr style=\"text-align: right;\">\n",
       "      <th></th>\n",
       "      <th>mean</th>\n",
       "      <th>var</th>\n",
       "      <th>std</th>\n",
       "    </tr>\n",
       "  </thead>\n",
       "  <tbody>\n",
       "    <tr>\n",
       "      <th>0</th>\n",
       "      <td>0.6000</td>\n",
       "      <td>0.4800</td>\n",
       "      <td>0.6928</td>\n",
       "    </tr>\n",
       "  </tbody>\n",
       "</table>\n",
       "</div>"
      ],
      "text/plain": [
       "    mean    var    std\n",
       "0 0.6000 0.4800 0.6928"
      ]
     },
     "execution_count": 54,
     "metadata": {},
     "output_type": "execute_result"
    }
   ],
   "source": [
    "mean = binom.mean(n, p, loc=0)\n",
    "var = binom.var(n, p, loc=0)\n",
    "std = binom.std(n, p, loc=0)\n",
    "\n",
    "pd.DataFrame(data=[[mean, var, std]], \n",
    "             columns=['mean', 'var', 'std'])"
   ]
  },
  {
   "cell_type": "markdown",
   "id": "57f8e3ef",
   "metadata": {},
   "source": [
    "#### Найти вероятность того, что их будет не менее двух."
   ]
  },
  {
   "cell_type": "code",
   "execution_count": 57,
   "id": "18a3fd16",
   "metadata": {},
   "outputs": [
    {
     "data": {
      "text/plain": [
       "0.104"
      ]
     },
     "execution_count": 57,
     "metadata": {},
     "output_type": "execute_result"
    }
   ],
   "source": [
    "round(1 - binom.cdf(1.999, n, p, loc=0), 4)"
   ]
  },
  {
   "cell_type": "markdown",
   "id": "b2506f6a",
   "metadata": {},
   "source": [
    "## Задача 3. \n",
    "\n",
    "Опыт состоит из трех независимых подбрасываний одновременно трех монет, каждая из которых с одинаковой вероятностью падает гербом или цифрой вверх.\n",
    "\n",
    "Построить ряд распределения, найти функцию распределения, математическое ожидание и среднее квадратичное отклонение числа одновременного выпадения двух гербов.\n",
    "\n",
    "Найти вероятность того, что два герба одновременно выпадут хотя бы один раз."
   ]
  },
  {
   "cell_type": "markdown",
   "id": "26223a4e",
   "metadata": {},
   "source": [
    "#### Построить ряд распределения"
   ]
  },
  {
   "cell_type": "code",
   "execution_count": 91,
   "id": "12824ba7",
   "metadata": {},
   "outputs": [
    {
     "data": {
      "text/plain": [
       "0.375"
      ]
     },
     "execution_count": 91,
     "metadata": {},
     "output_type": "execute_result"
    }
   ],
   "source": [
    "n = 3\n",
    "p = 0.5\n",
    "\n",
    "two_heads_prob = binom.pmf(2, n, p) # находим вероятность, что при подбрасывании 3 монет, появится ровно 2 герба \n",
    "\n",
    "two_heads_prob"
   ]
  },
  {
   "cell_type": "code",
   "execution_count": 92,
   "id": "5d2b28bc",
   "metadata": {},
   "outputs": [
    {
     "data": {
      "text/html": [
       "<div>\n",
       "<style scoped>\n",
       "    .dataframe tbody tr th:only-of-type {\n",
       "        vertical-align: middle;\n",
       "    }\n",
       "\n",
       "    .dataframe tbody tr th {\n",
       "        vertical-align: top;\n",
       "    }\n",
       "\n",
       "    .dataframe thead th {\n",
       "        text-align: right;\n",
       "    }\n",
       "</style>\n",
       "<table border=\"1\" class=\"dataframe\">\n",
       "  <thead>\n",
       "    <tr style=\"text-align: right;\">\n",
       "      <th></th>\n",
       "      <th>x_i</th>\n",
       "      <th>p_i</th>\n",
       "    </tr>\n",
       "  </thead>\n",
       "  <tbody>\n",
       "    <tr>\n",
       "      <th>0</th>\n",
       "      <td>0</td>\n",
       "      <td>0.2441</td>\n",
       "    </tr>\n",
       "    <tr>\n",
       "      <th>1</th>\n",
       "      <td>1</td>\n",
       "      <td>0.4395</td>\n",
       "    </tr>\n",
       "    <tr>\n",
       "      <th>2</th>\n",
       "      <td>2</td>\n",
       "      <td>0.2637</td>\n",
       "    </tr>\n",
       "    <tr>\n",
       "      <th>3</th>\n",
       "      <td>3</td>\n",
       "      <td>0.0527</td>\n",
       "    </tr>\n",
       "  </tbody>\n",
       "</table>\n",
       "</div>"
      ],
      "text/plain": [
       "   x_i    p_i\n",
       "0    0 0.2441\n",
       "1    1 0.4395\n",
       "2    2 0.2637\n",
       "3    3 0.0527"
      ]
     },
     "execution_count": 92,
     "metadata": {},
     "output_type": "execute_result"
    }
   ],
   "source": [
    "p_i = [round(binom.pmf(x, n, two_heads_prob), 4) for x in range(0, n+1)]\n",
    "\n",
    "df = pd.DataFrame({'x_i':np.arange(0, 4), 'p_i':p_i})\n",
    "\n",
    "df"
   ]
  },
  {
   "cell_type": "markdown",
   "id": "89bb78ef",
   "metadata": {},
   "source": [
    "#### Найти функцию распределения"
   ]
  },
  {
   "cell_type": "code",
   "execution_count": 93,
   "id": "e3e65279",
   "metadata": {},
   "outputs": [
    {
     "data": {
      "text/html": [
       "<div>\n",
       "<style scoped>\n",
       "    .dataframe tbody tr th:only-of-type {\n",
       "        vertical-align: middle;\n",
       "    }\n",
       "\n",
       "    .dataframe tbody tr th {\n",
       "        vertical-align: top;\n",
       "    }\n",
       "\n",
       "    .dataframe thead th {\n",
       "        text-align: right;\n",
       "    }\n",
       "</style>\n",
       "<table border=\"1\" class=\"dataframe\">\n",
       "  <thead>\n",
       "    <tr style=\"text-align: right;\">\n",
       "      <th></th>\n",
       "      <th>x_i</th>\n",
       "      <th>p_i</th>\n",
       "      <th>cumulative</th>\n",
       "    </tr>\n",
       "  </thead>\n",
       "  <tbody>\n",
       "    <tr>\n",
       "      <th>0</th>\n",
       "      <td>0</td>\n",
       "      <td>0.2441</td>\n",
       "      <td>0.2441</td>\n",
       "    </tr>\n",
       "    <tr>\n",
       "      <th>1</th>\n",
       "      <td>1</td>\n",
       "      <td>0.4395</td>\n",
       "      <td>0.6836</td>\n",
       "    </tr>\n",
       "    <tr>\n",
       "      <th>2</th>\n",
       "      <td>2</td>\n",
       "      <td>0.2637</td>\n",
       "      <td>0.9473</td>\n",
       "    </tr>\n",
       "    <tr>\n",
       "      <th>3</th>\n",
       "      <td>3</td>\n",
       "      <td>0.0527</td>\n",
       "      <td>1.0000</td>\n",
       "    </tr>\n",
       "  </tbody>\n",
       "</table>\n",
       "</div>"
      ],
      "text/plain": [
       "   x_i    p_i  cumulative\n",
       "0    0 0.2441      0.2441\n",
       "1    1 0.4395      0.6836\n",
       "2    2 0.2637      0.9473\n",
       "3    3 0.0527      1.0000"
      ]
     },
     "execution_count": 93,
     "metadata": {},
     "output_type": "execute_result"
    }
   ],
   "source": [
    "df['cumulative'] = df['p_i'].cumsum()\n",
    "\n",
    "df"
   ]
  },
  {
   "cell_type": "code",
   "execution_count": 94,
   "id": "8a505505",
   "metadata": {},
   "outputs": [
    {
     "data": {
      "text/plain": [
       "<AxesSubplot:xlabel='x_i', ylabel='Proportion'>"
      ]
     },
     "execution_count": 94,
     "metadata": {},
     "output_type": "execute_result"
    },
    {
     "data": {
      "image/png": "[encoded data removed]",
      "text/plain": [
       "<Figure size 432x288 with 1 Axes>"
      ]
     },
     "metadata": {
      "needs_background": "light"
     },
     "output_type": "display_data"
    }
   ],
   "source": [
    "sns.ecdfplot(data=df,  x='x_i', weights='p_i')"
   ]
  },
  {
   "cell_type": "markdown",
   "id": "bc62afb9",
   "metadata": {},
   "source": [
    "#### Найти математическое ожидание и среднее квадратичное отклонение числа"
   ]
  },
  {
   "cell_type": "code",
   "execution_count": 96,
   "id": "8cc97a21",
   "metadata": {},
   "outputs": [
    {
     "data": {
      "text/html": [
       "<div>\n",
       "<style scoped>\n",
       "    .dataframe tbody tr th:only-of-type {\n",
       "        vertical-align: middle;\n",
       "    }\n",
       "\n",
       "    .dataframe tbody tr th {\n",
       "        vertical-align: top;\n",
       "    }\n",
       "\n",
       "    .dataframe thead th {\n",
       "        text-align: right;\n",
       "    }\n",
       "</style>\n",
       "<table border=\"1\" class=\"dataframe\">\n",
       "  <thead>\n",
       "    <tr style=\"text-align: right;\">\n",
       "      <th></th>\n",
       "      <th>mean</th>\n",
       "      <th>var</th>\n",
       "      <th>std</th>\n",
       "    </tr>\n",
       "  </thead>\n",
       "  <tbody>\n",
       "    <tr>\n",
       "      <th>0</th>\n",
       "      <td>1.125</td>\n",
       "      <td>0.703125</td>\n",
       "      <td>0.8385</td>\n",
       "    </tr>\n",
       "  </tbody>\n",
       "</table>\n",
       "</div>"
      ],
      "text/plain": [
       "    mean       var    std\n",
       "0  1.125  0.703125 0.8385"
      ]
     },
     "execution_count": 96,
     "metadata": {},
     "output_type": "execute_result"
    }
   ],
   "source": [
    "mean, var = binom.stats(3, two_heads_prob, loc=0, moments='mv')\n",
    "\n",
    "std = np.sqrt(var)\n",
    "\n",
    "pd.DataFrame(data=[[mean, var, std]], \n",
    "             columns=['mean', 'var', 'std'])"
   ]
  },
  {
   "cell_type": "markdown",
   "id": "33488b22",
   "metadata": {},
   "source": [
    "#### Найти вероятность того, что два герба одновременно выпадут хотя бы один раз."
   ]
  },
  {
   "cell_type": "code",
   "execution_count": 99,
   "id": "0b14e8d9",
   "metadata": {},
   "outputs": [
    {
     "data": {
      "text/plain": [
       "0.7559"
      ]
     },
     "execution_count": 99,
     "metadata": {},
     "output_type": "execute_result"
    }
   ],
   "source": [
    "round(1 - binom.cdf(0.9, 3, two_heads_prob, loc=0), 4)"
   ]
  }
 ],
 "metadata": {
  "kernelspec": {
   "display_name": "Python 3",
   "language": "python",
   "name": "python3"
  },
  "language_info": {
   "codemirror_mode": {
    "name": "ipython",
    "version": 3
   },
   "file_extension": ".py",
   "mimetype": "text/x-python",
   "name": "python",
   "nbconvert_exporter": "python",
   "pygments_lexer": "ipython3",
   "version": "3.9.4"
  }
 },
 "nbformat": 4,
 "nbformat_minor": 5
}
