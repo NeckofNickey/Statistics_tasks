{
 "cells": [
  {
   "cell_type": "code",
   "execution_count": 1,
   "metadata": {},
   "outputs": [],
   "source": [
    "import pandas as pd\n",
    "import numpy as np\n",
    "\n",
    "from scipy import stats\n",
    "from scipy.stats import uniform\n",
    "from sympy import *\n",
    "from scipy.stats import rv_continuous\n",
    "\n",
    "import seaborn as sns\n",
    "import matplotlib.pyplot as plt\n",
    "import plotly.offline as py\n",
    "import plotly.graph_objects as go\n",
    "\n",
    "\n",
    "pd.options.display.float_format = '{:,.4f}'.format\n",
    "\n",
    "import warnings\n",
    "warnings.filterwarnings(\"ignore\")\n",
    "\n",
    "from typing import Tuple\n",
    "\n",
    "%matplotlib inline"
   ]
  },
  {
   "cell_type": "markdown",
   "metadata": {},
   "source": [
    "## Задача 1\n",
    "\n",
    "Имеются выборочные данные о числе сделок, заключенных фирмой с частными лицами в\n",
    "течение месяца:\n",
    "\n",
    "| число заключенных сделок | 0-10 | 10-20 | 20-30 | 30-40 | 40-50 |\n",
    "| --- | --- | --- | --- | --- | --- |\n",
    "| число частных лиц | 23 | 24 | 11 | 9 | 3 |\n",
    "\n",
    "Проверить при уровне значимости $α=0,05$, используя критерий согласия Колмогорова,\n",
    "гипотезу о нормальном законе распределения. "
   ]
  },
  {
   "cell_type": "code",
   "execution_count": 38,
   "metadata": {},
   "outputs": [
    {
     "data": {
      "text/html": [
       "<div>\n",
       "<style scoped>\n",
       "    .dataframe tbody tr th:only-of-type {\n",
       "        vertical-align: middle;\n",
       "    }\n",
       "\n",
       "    .dataframe tbody tr th {\n",
       "        vertical-align: top;\n",
       "    }\n",
       "\n",
       "    .dataframe thead th {\n",
       "        text-align: right;\n",
       "    }\n",
       "</style>\n",
       "<table border=\"1\" class=\"dataframe\">\n",
       "  <thead>\n",
       "    <tr style=\"text-align: right;\">\n",
       "      <th></th>\n",
       "      <th>x_i</th>\n",
       "      <th>n_i</th>\n",
       "    </tr>\n",
       "  </thead>\n",
       "  <tbody>\n",
       "    <tr>\n",
       "      <th>0</th>\n",
       "      <td>10</td>\n",
       "      <td>23</td>\n",
       "    </tr>\n",
       "    <tr>\n",
       "      <th>1</th>\n",
       "      <td>20</td>\n",
       "      <td>24</td>\n",
       "    </tr>\n",
       "    <tr>\n",
       "      <th>2</th>\n",
       "      <td>30</td>\n",
       "      <td>11</td>\n",
       "    </tr>\n",
       "    <tr>\n",
       "      <th>3</th>\n",
       "      <td>40</td>\n",
       "      <td>9</td>\n",
       "    </tr>\n",
       "    <tr>\n",
       "      <th>4</th>\n",
       "      <td>50</td>\n",
       "      <td>3</td>\n",
       "    </tr>\n",
       "  </tbody>\n",
       "</table>\n",
       "</div>"
      ],
      "text/plain": [
       "   x_i  n_i\n",
       "0   10   23\n",
       "1   20   24\n",
       "2   30   11\n",
       "3   40    9\n",
       "4   50    3"
      ]
     },
     "execution_count": 38,
     "metadata": {},
     "output_type": "execute_result"
    }
   ],
   "source": [
    "# в итнервалах берем конечные значения \n",
    "\n",
    "df = pd.DataFrame({'x_i':np.arange(10, 60, 10), 'n_i':[23, 24, 11, 9, 3]})\n",
    "\n",
    "df"
   ]
  },
  {
   "cell_type": "markdown",
   "metadata": {},
   "source": [
    "#### Рассчет вручную для $\\mu = 17.143, \\sigma=11.659$"
   ]
  },
  {
   "cell_type": "code",
   "execution_count": 39,
   "metadata": {},
   "outputs": [
    {
     "data": {
      "text/html": [
       "<div>\n",
       "<style scoped>\n",
       "    .dataframe tbody tr th:only-of-type {\n",
       "        vertical-align: middle;\n",
       "    }\n",
       "\n",
       "    .dataframe tbody tr th {\n",
       "        vertical-align: top;\n",
       "    }\n",
       "\n",
       "    .dataframe thead th {\n",
       "        text-align: right;\n",
       "    }\n",
       "</style>\n",
       "<table border=\"1\" class=\"dataframe\">\n",
       "  <thead>\n",
       "    <tr style=\"text-align: right;\">\n",
       "      <th></th>\n",
       "      <th>x_i</th>\n",
       "      <th>n_i</th>\n",
       "      <th>w_i</th>\n",
       "      <th>cumsum</th>\n",
       "      <th>norm_cdf</th>\n",
       "      <th>diff</th>\n",
       "    </tr>\n",
       "  </thead>\n",
       "  <tbody>\n",
       "    <tr>\n",
       "      <th>0</th>\n",
       "      <td>10</td>\n",
       "      <td>23</td>\n",
       "      <td>0.3286</td>\n",
       "      <td>0.3286</td>\n",
       "      <td>0.2701</td>\n",
       "      <td>0.0585</td>\n",
       "    </tr>\n",
       "    <tr>\n",
       "      <th>1</th>\n",
       "      <td>20</td>\n",
       "      <td>24</td>\n",
       "      <td>0.3429</td>\n",
       "      <td>0.6714</td>\n",
       "      <td>0.5968</td>\n",
       "      <td>0.0746</td>\n",
       "    </tr>\n",
       "    <tr>\n",
       "      <th>2</th>\n",
       "      <td>30</td>\n",
       "      <td>11</td>\n",
       "      <td>0.1571</td>\n",
       "      <td>0.8286</td>\n",
       "      <td>0.8649</td>\n",
       "      <td>0.0364</td>\n",
       "    </tr>\n",
       "    <tr>\n",
       "      <th>3</th>\n",
       "      <td>40</td>\n",
       "      <td>9</td>\n",
       "      <td>0.1286</td>\n",
       "      <td>0.9571</td>\n",
       "      <td>0.9750</td>\n",
       "      <td>0.0179</td>\n",
       "    </tr>\n",
       "    <tr>\n",
       "      <th>4</th>\n",
       "      <td>50</td>\n",
       "      <td>3</td>\n",
       "      <td>0.0429</td>\n",
       "      <td>1.0000</td>\n",
       "      <td>0.9976</td>\n",
       "      <td>0.0024</td>\n",
       "    </tr>\n",
       "  </tbody>\n",
       "</table>\n",
       "</div>"
      ],
      "text/plain": [
       "   x_i  n_i    w_i  cumsum  norm_cdf   diff\n",
       "0   10   23 0.3286  0.3286    0.2701 0.0585\n",
       "1   20   24 0.3429  0.6714    0.5968 0.0746\n",
       "2   30   11 0.1571  0.8286    0.8649 0.0364\n",
       "3   40    9 0.1286  0.9571    0.9750 0.0179\n",
       "4   50    3 0.0429  1.0000    0.9976 0.0024"
      ]
     },
     "execution_count": 39,
     "metadata": {},
     "output_type": "execute_result"
    }
   ],
   "source": [
    "df['w_i'] = df['n_i'] / df['n_i'].sum()\n",
    "df['cumsum'] = df['w_i'].cumsum()\n",
    "df['norm_cdf'] = stats.norm(loc=17.143, scale=11.659).cdf(df['x_i'])\n",
    "df['diff'] = abs(df['cumsum'] - df['norm_cdf'])\n",
    "\n",
    "df"
   ]
  },
  {
   "cell_type": "code",
   "execution_count": 41,
   "metadata": {},
   "outputs": [
    {
     "data": {
      "text/plain": [
       "0.6244720837900759"
      ]
     },
     "execution_count": 41,
     "metadata": {},
     "output_type": "execute_result"
    }
   ],
   "source": [
    "df['diff'].max() * np.sqrt(70)"
   ]
  },
  {
   "cell_type": "markdown",
   "metadata": {},
   "source": [
    "#### Рассчет вручную для $\\mu = 10, \\sigma=4$"
   ]
  },
  {
   "cell_type": "code",
   "execution_count": 42,
   "metadata": {
    "scrolled": true
   },
   "outputs": [
    {
     "data": {
      "text/html": [
       "<div>\n",
       "<style scoped>\n",
       "    .dataframe tbody tr th:only-of-type {\n",
       "        vertical-align: middle;\n",
       "    }\n",
       "\n",
       "    .dataframe tbody tr th {\n",
       "        vertical-align: top;\n",
       "    }\n",
       "\n",
       "    .dataframe thead th {\n",
       "        text-align: right;\n",
       "    }\n",
       "</style>\n",
       "<table border=\"1\" class=\"dataframe\">\n",
       "  <thead>\n",
       "    <tr style=\"text-align: right;\">\n",
       "      <th></th>\n",
       "      <th>x_i</th>\n",
       "      <th>n_i</th>\n",
       "      <th>w_i</th>\n",
       "      <th>cumsum</th>\n",
       "      <th>norm_cdf</th>\n",
       "      <th>diff</th>\n",
       "    </tr>\n",
       "  </thead>\n",
       "  <tbody>\n",
       "    <tr>\n",
       "      <th>0</th>\n",
       "      <td>10</td>\n",
       "      <td>23</td>\n",
       "      <td>0.3286</td>\n",
       "      <td>0.3286</td>\n",
       "      <td>0.5000</td>\n",
       "      <td>0.1714</td>\n",
       "    </tr>\n",
       "    <tr>\n",
       "      <th>1</th>\n",
       "      <td>20</td>\n",
       "      <td>24</td>\n",
       "      <td>0.3429</td>\n",
       "      <td>0.6714</td>\n",
       "      <td>0.9938</td>\n",
       "      <td>0.3224</td>\n",
       "    </tr>\n",
       "    <tr>\n",
       "      <th>2</th>\n",
       "      <td>30</td>\n",
       "      <td>11</td>\n",
       "      <td>0.1571</td>\n",
       "      <td>0.8286</td>\n",
       "      <td>1.0000</td>\n",
       "      <td>0.1714</td>\n",
       "    </tr>\n",
       "    <tr>\n",
       "      <th>3</th>\n",
       "      <td>40</td>\n",
       "      <td>9</td>\n",
       "      <td>0.1286</td>\n",
       "      <td>0.9571</td>\n",
       "      <td>1.0000</td>\n",
       "      <td>0.0429</td>\n",
       "    </tr>\n",
       "    <tr>\n",
       "      <th>4</th>\n",
       "      <td>50</td>\n",
       "      <td>3</td>\n",
       "      <td>0.0429</td>\n",
       "      <td>1.0000</td>\n",
       "      <td>1.0000</td>\n",
       "      <td>0.0000</td>\n",
       "    </tr>\n",
       "  </tbody>\n",
       "</table>\n",
       "</div>"
      ],
      "text/plain": [
       "   x_i  n_i    w_i  cumsum  norm_cdf   diff\n",
       "0   10   23 0.3286  0.3286    0.5000 0.1714\n",
       "1   20   24 0.3429  0.6714    0.9938 0.3224\n",
       "2   30   11 0.1571  0.8286    1.0000 0.1714\n",
       "3   40    9 0.1286  0.9571    1.0000 0.0429\n",
       "4   50    3 0.0429  1.0000    1.0000 0.0000"
      ]
     },
     "execution_count": 42,
     "metadata": {},
     "output_type": "execute_result"
    }
   ],
   "source": [
    "df['w_i'] = df['n_i'] / df['n_i'].sum()\n",
    "df['cumsum'] = df['w_i'].cumsum()\n",
    "df['norm_cdf'] = stats.norm(loc=10, scale=4).cdf(df['x_i'])\n",
    "df['diff'] = abs(df['cumsum'] - df['norm_cdf'])\n",
    "\n",
    "df"
   ]
  },
  {
   "cell_type": "code",
   "execution_count": 25,
   "metadata": {},
   "outputs": [
    {
     "data": {
      "text/plain": [
       "2.697072013906789"
      ]
     },
     "execution_count": 25,
     "metadata": {},
     "output_type": "execute_result"
    }
   ],
   "source": [
    "df['diff'].max() * np.sqrt(70)"
   ]
  },
  {
   "cell_type": "markdown",
   "metadata": {},
   "source": [
    "## Рассчитываем через пакет stats"
   ]
  },
  {
   "cell_type": "code",
   "execution_count": 35,
   "metadata": {},
   "outputs": [],
   "source": [
    "df['unstuck'] = df.apply(lambda row: list([row[\"x_i\"]]) * int(row[\"n_i\"]), axis=1)\n",
    "\n",
    "df_unstuck = df[['unstuck']]\n",
    "\n",
    "df_unstuck = df_unstuck.explode('unstuck')\n",
    "\n",
    "df_unstuck['unstuck'] = df_unstuck['unstuck'].apply(lambda x: int(x))\n",
    "\n"
   ]
  },
  {
   "cell_type": "markdown",
   "metadata": {},
   "source": [
    "#### Рассчет вручную для $\\mu = 17.143, \\sigma=11.659$"
   ]
  },
  {
   "cell_type": "code",
   "execution_count": 46,
   "metadata": {},
   "outputs": [
    {
     "data": {
      "text/plain": [
       "KstestResult(statistic=0.27005067155073403, pvalue=5.333109091236011e-05)"
      ]
     },
     "execution_count": 46,
     "metadata": {},
     "output_type": "execute_result"
    }
   ],
   "source": [
    "stats.kstest(df_unstuck.unstuck, stats.norm.cdf, args=(17.143, 11.659))"
   ]
  },
  {
   "cell_type": "markdown",
   "metadata": {},
   "source": [
    "#### Рассчет вручную для $\\mu = 10, \\sigma=4$"
   ]
  },
  {
   "cell_type": "code",
   "execution_count": 47,
   "metadata": {},
   "outputs": [
    {
     "data": {
      "text/plain": [
       "KstestResult(statistic=0.6652189061027953, pvalue=5.177197380607878e-31)"
      ]
     },
     "execution_count": 47,
     "metadata": {},
     "output_type": "execute_result"
    }
   ],
   "source": [
    "stats.kstest(df_unstuck.unstuck, stats.norm.cdf, args=(10, 4))"
   ]
  },
  {
   "cell_type": "markdown",
   "metadata": {},
   "source": [
    "## Задача 2"
   ]
  },
  {
   "cell_type": "markdown",
   "metadata": {},
   "source": [
    "Используя критерий Колмогорова, проверить на уровне значимости **10%** гипотезу о том, что выборка\n",
    "\n",
    "$0,90; 0,56; 0,05; 0,21; 0,97; 0,80; 0,04; 0,12; 0,73; 0,49$\n",
    "\n",
    "является выборкой наблюдений равномерно распределённой случайной величины $X \\thicksim R(0, 1)$."
   ]
  },
  {
   "cell_type": "code",
   "execution_count": 8,
   "metadata": {},
   "outputs": [],
   "source": [
    "sample = [0.9, 0.56, 0.05, 0.21, 0.97, 0.8, 0.04, 0.12, 0.73, 0.49]"
   ]
  },
  {
   "cell_type": "markdown",
   "metadata": {},
   "source": [
    "#### Рассчет вручную "
   ]
  },
  {
   "cell_type": "code",
   "execution_count": 43,
   "metadata": {},
   "outputs": [],
   "source": [
    "sample.sort()"
   ]
  },
  {
   "cell_type": "code",
   "execution_count": 44,
   "metadata": {},
   "outputs": [
    {
     "name": "stdout",
     "output_type": "stream",
     "text": [
      "0.19000000000000003\n",
      "0.6008327554319922\n",
      "T < 1.23, следовательно не можем отвергнуть гипотезу, что данная выборка могла быть получена из равномерного распределения R(0, 1)\n"
     ]
    }
   ],
   "source": [
    "df = pd.DataFrame({'x_i':sample, 'n_i':[1]*len(sample)})\n",
    "df['w_i'] = df['n_i'] / df['n_i'].sum()\n",
    "df['cumsum'] = df['w_i'].cumsum()\n",
    "df['uniform_cdf'] = stats.uniform(loc=0, scale=1).cdf(df['x_i'])\n",
    "df['diff'] = abs(df['cumsum'] - df['uniform_cdf'])\n",
    "\n",
    "T = df['diff'].max() * np.sqrt(len(sample))\n",
    "z_0_9 =1.23\n",
    "\n",
    "print(df['diff'].max())\n",
    "print(T)\n",
    "if T < z_0_9:\n",
    "    print(f'T < {z_0_9}, следовательно'\n",
    "          f' не можем отвергнуть гипотезу, что данная выборка могла быть получена из равномерного распределения R(0, 1)')\n",
    "else:\n",
    "    print(f'T > {z_0_9}, следовательно'\n",
    "          f' можем отвергнуть гипотезу, что данная выборка могла быть получена из равномерного распределения R(0, 1)')"
   ]
  },
  {
   "cell_type": "code",
   "execution_count": 45,
   "metadata": {},
   "outputs": [
    {
     "data": {
      "text/html": [
       "<div>\n",
       "<style scoped>\n",
       "    .dataframe tbody tr th:only-of-type {\n",
       "        vertical-align: middle;\n",
       "    }\n",
       "\n",
       "    .dataframe tbody tr th {\n",
       "        vertical-align: top;\n",
       "    }\n",
       "\n",
       "    .dataframe thead th {\n",
       "        text-align: right;\n",
       "    }\n",
       "</style>\n",
       "<table border=\"1\" class=\"dataframe\">\n",
       "  <thead>\n",
       "    <tr style=\"text-align: right;\">\n",
       "      <th></th>\n",
       "      <th>x_i</th>\n",
       "      <th>n_i</th>\n",
       "      <th>w_i</th>\n",
       "      <th>cumsum</th>\n",
       "      <th>uniform_cdf</th>\n",
       "      <th>diff</th>\n",
       "    </tr>\n",
       "  </thead>\n",
       "  <tbody>\n",
       "    <tr>\n",
       "      <th>0</th>\n",
       "      <td>0.0400</td>\n",
       "      <td>1</td>\n",
       "      <td>0.1000</td>\n",
       "      <td>0.1000</td>\n",
       "      <td>0.0400</td>\n",
       "      <td>0.0600</td>\n",
       "    </tr>\n",
       "    <tr>\n",
       "      <th>1</th>\n",
       "      <td>0.0500</td>\n",
       "      <td>1</td>\n",
       "      <td>0.1000</td>\n",
       "      <td>0.2000</td>\n",
       "      <td>0.0500</td>\n",
       "      <td>0.1500</td>\n",
       "    </tr>\n",
       "    <tr>\n",
       "      <th>2</th>\n",
       "      <td>0.1200</td>\n",
       "      <td>1</td>\n",
       "      <td>0.1000</td>\n",
       "      <td>0.3000</td>\n",
       "      <td>0.1200</td>\n",
       "      <td>0.1800</td>\n",
       "    </tr>\n",
       "    <tr>\n",
       "      <th>3</th>\n",
       "      <td>0.2100</td>\n",
       "      <td>1</td>\n",
       "      <td>0.1000</td>\n",
       "      <td>0.4000</td>\n",
       "      <td>0.2100</td>\n",
       "      <td>0.1900</td>\n",
       "    </tr>\n",
       "    <tr>\n",
       "      <th>4</th>\n",
       "      <td>0.4900</td>\n",
       "      <td>1</td>\n",
       "      <td>0.1000</td>\n",
       "      <td>0.5000</td>\n",
       "      <td>0.4900</td>\n",
       "      <td>0.0100</td>\n",
       "    </tr>\n",
       "    <tr>\n",
       "      <th>5</th>\n",
       "      <td>0.5600</td>\n",
       "      <td>1</td>\n",
       "      <td>0.1000</td>\n",
       "      <td>0.6000</td>\n",
       "      <td>0.5600</td>\n",
       "      <td>0.0400</td>\n",
       "    </tr>\n",
       "    <tr>\n",
       "      <th>6</th>\n",
       "      <td>0.7300</td>\n",
       "      <td>1</td>\n",
       "      <td>0.1000</td>\n",
       "      <td>0.7000</td>\n",
       "      <td>0.7300</td>\n",
       "      <td>0.0300</td>\n",
       "    </tr>\n",
       "    <tr>\n",
       "      <th>7</th>\n",
       "      <td>0.8000</td>\n",
       "      <td>1</td>\n",
       "      <td>0.1000</td>\n",
       "      <td>0.8000</td>\n",
       "      <td>0.8000</td>\n",
       "      <td>0.0000</td>\n",
       "    </tr>\n",
       "    <tr>\n",
       "      <th>8</th>\n",
       "      <td>0.9000</td>\n",
       "      <td>1</td>\n",
       "      <td>0.1000</td>\n",
       "      <td>0.9000</td>\n",
       "      <td>0.9000</td>\n",
       "      <td>0.0000</td>\n",
       "    </tr>\n",
       "    <tr>\n",
       "      <th>9</th>\n",
       "      <td>0.9700</td>\n",
       "      <td>1</td>\n",
       "      <td>0.1000</td>\n",
       "      <td>1.0000</td>\n",
       "      <td>0.9700</td>\n",
       "      <td>0.0300</td>\n",
       "    </tr>\n",
       "  </tbody>\n",
       "</table>\n",
       "</div>"
      ],
      "text/plain": [
       "     x_i  n_i    w_i  cumsum  uniform_cdf   diff\n",
       "0 0.0400    1 0.1000  0.1000       0.0400 0.0600\n",
       "1 0.0500    1 0.1000  0.2000       0.0500 0.1500\n",
       "2 0.1200    1 0.1000  0.3000       0.1200 0.1800\n",
       "3 0.2100    1 0.1000  0.4000       0.2100 0.1900\n",
       "4 0.4900    1 0.1000  0.5000       0.4900 0.0100\n",
       "5 0.5600    1 0.1000  0.6000       0.5600 0.0400\n",
       "6 0.7300    1 0.1000  0.7000       0.7300 0.0300\n",
       "7 0.8000    1 0.1000  0.8000       0.8000 0.0000\n",
       "8 0.9000    1 0.1000  0.9000       0.9000 0.0000\n",
       "9 0.9700    1 0.1000  1.0000       0.9700 0.0300"
      ]
     },
     "execution_count": 45,
     "metadata": {},
     "output_type": "execute_result"
    }
   ],
   "source": [
    "df"
   ]
  },
  {
   "cell_type": "code",
   "execution_count": 36,
   "metadata": {},
   "outputs": [
    {
     "data": {
      "text/plain": [
       "<AxesSubplot:ylabel='Proportion'>"
      ]
     },
     "execution_count": 36,
     "metadata": {},
     "output_type": "execute_result"
    },
    {
     "data": {
      "image/png": "[encoded data removed]",
      "text/plain": [
       "<Figure size 360x360 with 1 Axes>"
      ]
     },
     "metadata": {
      "needs_background": "light"
     },
     "output_type": "display_data"
    }
   ],
   "source": [
    "rng = np.random.default_rng(153)\n",
    "\n",
    "fig, ax = plt.subplots(1, 1, figsize=[5, 5])\n",
    "sns.ecdfplot(data=sample)\n",
    "sns.ecdfplot(data=stats.uniform.rvs(size=10, loc=0, scale=1, random_state=rng))"
   ]
  },
  {
   "cell_type": "markdown",
   "metadata": {},
   "source": [
    "#### Рассчет с помощью stats.kstest"
   ]
  },
  {
   "cell_type": "code",
   "execution_count": 55,
   "metadata": {},
   "outputs": [
    {
     "data": {
      "text/plain": [
       "KstestResult(statistic=0.19000000000000003, pvalue=0.7994599807966073)"
      ]
     },
     "execution_count": 55,
     "metadata": {},
     "output_type": "execute_result"
    }
   ],
   "source": [
    "stats.kstest(sample, 'uniform', args=(0, 1))"
   ]
  },
  {
   "cell_type": "code",
   "execution_count": 473,
   "metadata": {},
   "outputs": [
    {
     "data": {
      "text/plain": [
       "KstestResult(statistic=0.189, pvalue=0.8103582156913072)"
      ]
     },
     "execution_count": 473,
     "metadata": {},
     "output_type": "execute_result"
    }
   ],
   "source": [
    "rng = np.random.default_rng(101)\n",
    "\n",
    "uniform_sample = stats.uniform.rvs(size=1000, loc=0, scale=1, random_state=rng)\n",
    "stats.kstest(sample, uniform_sample)"
   ]
  },
  {
   "cell_type": "code",
   "execution_count": 502,
   "metadata": {},
   "outputs": [
    {
     "name": "stdout",
     "output_type": "stream",
     "text": [
      "Статистика: 0.19000000000000003, p-value: 0.7994599807966073\n",
      "p_value > α, следовательно не можем отвергнуть гипотезу, что данная выборка могла быть получена из равномерного распределения R(0, 1)\n"
     ]
    }
   ],
   "source": [
    "D, p_value = stats.kstest(sample, 'uniform')\n",
    "a = 0.1\n",
    "\n",
    "\n",
    "print(f'Статистика: {D}, p-value: {p_value}')\n",
    "if p_value > a:\n",
    "    print(f'p_value > \\N{GREEK SMALL LETTER ALPHA}, следовательно'\n",
    "          f' не можем отвергнуть гипотезу, что данная выборка могла быть получена из равномерного распределения R(0, 1)')\n",
    "else:\n",
    "    print(f'p_value < \\N{GREEK SMALL LETTER ALPHA}, следовательно'\n",
    "          f' можем отвергнуть гипотезу, что данная выборка могла быть получена из равномерного распределения R(0, 1)')"
   ]
  }
 ],
 "metadata": {
  "kernelspec": {
   "display_name": "Python 3",
   "language": "python",
   "name": "python3"
  },
  "language_info": {
   "codemirror_mode": {
    "name": "ipython",
    "version": 3
   },
   "file_extension": ".py",
   "mimetype": "text/x-python",
   "name": "python",
   "nbconvert_exporter": "python",
   "pygments_lexer": "ipython3",
   "version": "3.8.5"
  }
 },
 "nbformat": 4,
 "nbformat_minor": 5
}
