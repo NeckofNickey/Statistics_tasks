{
 "cells": [
  {
   "cell_type": "code",
   "execution_count": 1,
   "metadata": {},
   "outputs": [],
   "source": [
    "import pandas as pd\n",
    "import numpy as np\n",
    "\n",
    "from scipy import stats\n",
    "from sympy import *\n",
    "import matplotlib.pyplot as plt\n",
    "\n",
    "pd.options.display.float_format = '{:,.4f}'.format\n",
    "\n",
    "import warnings\n",
    "warnings.filterwarnings(\"ignore\")\n"
   ]
  },
  {
   "cell_type": "markdown",
   "metadata": {},
   "source": [
    "# Задача 1. \n",
    "\n",
    "Килограмм атлантического лосося на среднеоптовых торгах стоит $1000$ руб. Одна из торговых фирм выиграла тендер, проводимый методом запроса котировок. ФАС, получив жалобу другого участника о том, что выигравшая фирма систематически демпингует (занижает предлагаемую цену), при проверке жалобы установила на основе случайно выборки $17$ договоров с поставщиками, что средняя цена, указанная в договоре поставки по итогам торгов, составила $940$ руб. с дисперсией $3600 руб^2$. В ответ с точностью до сотых запишите наблюдаемое значение статистики при проверке гипотезы об обоснованности жалобы на фирму, выигравшую тендер. Уровень значимости $\\alpha  = 0,05$\n",
    "\n",
    "$$H_0: a = 1000$$\n",
    "$$H_1: a < 1000$$"
   ]
  },
  {
   "cell_type": "code",
   "execution_count": 2,
   "metadata": {},
   "outputs": [
    {
     "data": {
      "text/plain": [
       "-4.123105625617661"
      ]
     },
     "execution_count": 2,
     "metadata": {},
     "output_type": "execute_result"
    }
   ],
   "source": [
    "a = 1000\n",
    "mean  = 940\n",
    "var = 3600\n",
    "n = 17\n",
    "\n",
    "T = ((mean - a) / np.sqrt(var)) * np.sqrt(n)\n",
    "\n",
    "T"
   ]
  },
  {
   "cell_type": "code",
   "execution_count": 3,
   "metadata": {},
   "outputs": [
    {
     "data": {
      "text/plain": [
       "0.0003984989495131264"
      ]
     },
     "execution_count": 3,
     "metadata": {},
     "output_type": "execute_result"
    }
   ],
   "source": [
    "stats.t.cdf(T, df=n-1)"
   ]
  },
  {
   "cell_type": "markdown",
   "metadata": {},
   "source": [
    "**p-value ниже** уровня статистической значимости $\\alpha = 0.05$, принять нулевую гипотезe не можем. Следовательно, **компания демпингует**. "
   ]
  },
  {
   "cell_type": "markdown",
   "metadata": {},
   "source": [
    "# Задача 2\n",
    "\n",
    "Ожидается, что добавление специальных веществ уменьшит жесткость воды. По оценке жесткости воды до после добавления специальных веществ по $40-ка$ и $50-ти$ пробам соответственно получим средние значения жесткости (в стандартных единицах), равные $4.0$ и $0.8$. Дисперсия измерений в обоих случаях предполагается равно $0,25$. Подтверждают ли эти результаты ожидаемый эффект? Принять $α = 0,05$. Контролируемая величина имеет нормальное распределение. \n",
    "\n",
    "$$H_0: a_1 = a_2$$\n",
    "$$H_1: a_1 > a_2$$\n",
    "\n",
    "$$X \\sim N(a_1, \\sigma^2=0.25)$$\n",
    "$$Y \\sim N(a_2, \\sigma^2=0.25)$$"
   ]
  },
  {
   "cell_type": "markdown",
   "metadata": {},
   "source": [
    "#### Решение \n",
    "\n",
    "Статистика критерия при неизвестной дисперсии генеральной совокупности, но равных дисперсиях выборок:\n",
    "\n",
    "$$Z_{набл} = \\frac{\\overline{x} - \\overline{y}}{\\sqrt{\\frac{\\sigma^2_X}{n} + \\frac{\\sigma^2_Y}{m}}}$$ "
   ]
  },
  {
   "cell_type": "code",
   "execution_count": 4,
   "metadata": {},
   "outputs": [],
   "source": [
    "a_1, a_2 = 4.0, 0.8\n",
    "n, m = 40, 50\n",
    "var = 0.25"
   ]
  },
  {
   "cell_type": "code",
   "execution_count": 5,
   "metadata": {},
   "outputs": [
    {
     "data": {
      "text/plain": [
       "30.16988933062603"
      ]
     },
     "execution_count": 5,
     "metadata": {},
     "output_type": "execute_result"
    }
   ],
   "source": [
    "z = (a_1 - a_2) / np.sqrt((var/n) + (var/m))\n",
    "\n",
    "z"
   ]
  },
  {
   "cell_type": "code",
   "execution_count": 6,
   "metadata": {},
   "outputs": [
    {
     "data": {
      "text/plain": [
       "2.941821472464861e-200"
      ]
     },
     "execution_count": 6,
     "metadata": {},
     "output_type": "execute_result"
    }
   ],
   "source": [
    "stats.norm.sf(z)"
   ]
  },
  {
   "cell_type": "markdown",
   "metadata": {},
   "source": [
    "**p-value ниже** уровня статистической значимости $\\alpha = 0.05$, принять нулевую гипотезe не можем. Следовательно, добавление специальных веществ **уменьшает жесткость воды**. Влияние реагента существенно, результаты подтверждают ожидаемый эффект"
   ]
  },
  {
   "cell_type": "markdown",
   "metadata": {},
   "source": [
    "# Задача 3\n",
    "\n",
    "Производительность каждого из агрегатов $А$ и $В$ составила (в кг вещества за час работы):\n",
    "\n",
    "|Номер замера|1|2|3|4|5|\n",
    "|---|---|---|---|---|---|\n",
    "|Агрегат А|14.1|13.1|14.7|13.7|14.0|\n",
    "|Агрегат В|14.0|14.5|13.7|12.7|14.1|\n",
    "\n",
    "Можно ли считать производительность агрегатов $А$ и $В$ одинаковой в предложении, что обе выборки получены из нормального распределенных генеральных совокупностей, при уровне значимости $\\alpha=0.1$ \n",
    "\n",
    "$$H_0: a_1 = a_2$$\n",
    "$$H_1: a_1 \\neq a_2$$"
   ]
  },
  {
   "cell_type": "code",
   "execution_count": 30,
   "metadata": {},
   "outputs": [],
   "source": [
    "df = pd.DataFrame([[14.1, 13.1, 14.7, 13.7, 14.0], \n",
    "                    [14.0, 14.5, 13.7, 12.7, 14.1]],\n",
    "                   columns=range(1, 6), \n",
    "                   index=['Агрегат А', 'Агрегат В']).T"
   ]
  },
  {
   "cell_type": "code",
   "execution_count": 31,
   "metadata": {},
   "outputs": [
    {
     "name": "stdout",
     "output_type": "stream",
     "text": [
      "13.919999999999998 13.8 0.34199999999999997 0.46000000000000035\n"
     ]
    }
   ],
   "source": [
    "mean_a = df['Агрегат А'].mean()\n",
    "mean_b = df['Агрегат В'].mean()\n",
    "\n",
    "var_a = df['Агрегат А'].var()\n",
    "var_b = df['Агрегат В'].var()\n",
    "\n",
    "m = df['Агрегат А'].count()\n",
    "n = df['Агрегат В'].count()\n",
    "\n",
    "print(mean_a, mean_b, var_a, var_b)"
   ]
  },
  {
   "cell_type": "markdown",
   "metadata": {},
   "source": [
    "#### Проверим гипотезу о равенстве дисперсий\n",
    "\n",
    "$$H_0: \\sigma^2_1 = \\sigma^2_2$$\n",
    "$$H_1: \\sigma^2_1 \\neq \\sigma^2_2$$"
   ]
  },
  {
   "cell_type": "code",
   "execution_count": 32,
   "metadata": {},
   "outputs": [
    {
     "data": {
      "text/plain": [
       "0.7434782608695646"
      ]
     },
     "execution_count": 32,
     "metadata": {},
     "output_type": "execute_result"
    }
   ],
   "source": [
    "T = var_a / var_b\n",
    "T"
   ]
  },
  {
   "cell_type": "code",
   "execution_count": 10,
   "metadata": {},
   "outputs": [
    {
     "data": {
      "text/plain": [
       "0.7808942950674872"
      ]
     },
     "execution_count": 10,
     "metadata": {},
     "output_type": "execute_result"
    }
   ],
   "source": [
    "stats.f.cdf(T, dfn=4, dfd=4) * 2"
   ]
  },
  {
   "cell_type": "code",
   "execution_count": 33,
   "metadata": {},
   "outputs": [
    {
     "data": {
      "text/plain": [
       "1.345029239766083"
      ]
     },
     "execution_count": 33,
     "metadata": {},
     "output_type": "execute_result"
    }
   ],
   "source": [
    "T = var_b / var_a\n",
    "T"
   ]
  },
  {
   "cell_type": "code",
   "execution_count": 34,
   "metadata": {},
   "outputs": [
    {
     "data": {
      "text/plain": [
       "0.7808942950674874"
      ]
     },
     "execution_count": 34,
     "metadata": {},
     "output_type": "execute_result"
    }
   ],
   "source": [
    "stats.f.sf(T, dfn=4, dfd=4)*2"
   ]
  },
  {
   "cell_type": "markdown",
   "metadata": {},
   "source": [
    "$p-value$ **выше** уровня статистической значимости  $\\alpha=0.05$ , отвергнуть нулевую гипотезe не можем. Следовательно, принимаем, что наши **дисперсии равны**. "
   ]
  },
  {
   "cell_type": "markdown",
   "metadata": {},
   "source": [
    "#### Рассчитаем статистику критерия для неизвестных, но равных дисперсий \n",
    "\n",
    "$$t = (\\frac{\\overline{x} - \\overline{y}}{s}) \\cdot \\sqrt{\\frac{m \\cdot n}{m + n}}$$ \n",
    "\n",
    "$$s^2 = (\\frac{(m-1) \\cdot s^2_x + (n-1) \\cdot s^2_y}{m + n - 2})$$ "
   ]
  },
  {
   "cell_type": "markdown",
   "metadata": {},
   "source": [
    "#### Расчет вручную "
   ]
  },
  {
   "cell_type": "code",
   "execution_count": 13,
   "metadata": {},
   "outputs": [
    {
     "data": {
      "text/plain": [
       "0.40100000000000013"
      ]
     },
     "execution_count": 13,
     "metadata": {},
     "output_type": "execute_result"
    }
   ],
   "source": [
    "sqrt_s = ((m - 1) * var_a + (n - 1) * var_b) / (m + n - 2)\n",
    "sqrt_s"
   ]
  },
  {
   "cell_type": "code",
   "execution_count": 14,
   "metadata": {},
   "outputs": [
    {
     "data": {
      "text/plain": [
       "0.29962570166334695"
      ]
     },
     "execution_count": 14,
     "metadata": {},
     "output_type": "execute_result"
    }
   ],
   "source": [
    "T = (mean_a - mean_b) / np.sqrt(sqrt_s) * np.sqrt((m*n)/(m+n))\n",
    "T"
   ]
  },
  {
   "cell_type": "code",
   "execution_count": 15,
   "metadata": {},
   "outputs": [
    {
     "data": {
      "text/plain": [
       "0.7720997680308299"
      ]
     },
     "execution_count": 15,
     "metadata": {},
     "output_type": "execute_result"
    }
   ],
   "source": [
    "stats.t.sf(T, df=m+n-2)*2"
   ]
  },
  {
   "cell_type": "markdown",
   "metadata": {},
   "source": [
    "$p-value$ **выше** уровня статистической значимости $\\alpha=0.05$, отвергнуть нулевую гипотезe не можем. Следовательно, **производительность агрегатов одинаковая**."
   ]
  },
  {
   "cell_type": "markdown",
   "metadata": {},
   "source": [
    "#### Pассчет пакетом stats "
   ]
  },
  {
   "cell_type": "code",
   "execution_count": 16,
   "metadata": {},
   "outputs": [
    {
     "data": {
      "text/plain": [
       "Ttest_indResult(statistic=0.29962570166334695, pvalue=0.7720997680308299)"
      ]
     },
     "execution_count": 16,
     "metadata": {},
     "output_type": "execute_result"
    }
   ],
   "source": [
    "stats.ttest_ind(df['Агрегат А'], df['Агрегат В'], equal_var=True)"
   ]
  },
  {
   "cell_type": "markdown",
   "metadata": {},
   "source": [
    "$p-value$ **выше** уровня статистической значимости $\\alpha=0.1$, отвергнуть нулевую гипотезe не можем. Следовательно, **производительность агрегатов одинаковая**."
   ]
  },
  {
   "cell_type": "markdown",
   "metadata": {},
   "source": [
    "# Задача 4\n",
    "\n",
    "Обычно на конец финансового года средний размер кредиторской задолженности ОАО составлял $18$ млн. у.е. Основываясь на данных $82$ счетов со средним размером задолженности в $17.75$ млн. у.е. и стандартным отклонением $900$ тыс. у.е. финансовый директор на заседании правления сообщил, что принятые его службой меры помогли уменьшить в текущем году задолженность перед контрагентами, и просит выделить ему дополнительную премию за достигнутые результаты в улучшении финансовой дисциплины. Помогите правлению ОАО принять верное решение в отношении хадатайства финансового директора о премировании, проверив его утверждение на уровне значимости $\\alpha = 0.05$. В ответ запишите критическое значение статистического критерия с точностью до сотых. \n",
    "\n",
    "$$H_0: a = 18$$\n",
    "$$H_1: a < 18$$\n",
    "\n",
    "\n",
    "$$T = (\\frac{\\overline{x} - a_0}{S}) \\cdot \\sqrt{n}$$ "
   ]
  },
  {
   "cell_type": "code",
   "execution_count": 41,
   "metadata": {},
   "outputs": [
    {
     "data": {
      "text/plain": [
       "-2.515384760593727"
      ]
     },
     "execution_count": 41,
     "metadata": {},
     "output_type": "execute_result"
    }
   ],
   "source": [
    "a = 18\n",
    "mean  = 17.75\n",
    "std = 0.9\n",
    "var = std**2\n",
    "n = 82\n",
    "\n",
    "T = ((mean - a) / np.sqrt(var)) * np.sqrt(n)\n",
    "\n",
    "T"
   ]
  },
  {
   "cell_type": "code",
   "execution_count": 43,
   "metadata": {},
   "outputs": [
    {
     "data": {
      "text/plain": [
       "-1.663883912866253"
      ]
     },
     "execution_count": 43,
     "metadata": {},
     "output_type": "execute_result"
    }
   ],
   "source": [
    "stats.t.ppf(0.05, df=n-1)"
   ]
  },
  {
   "cell_type": "code",
   "execution_count": 16,
   "metadata": {},
   "outputs": [
    {
     "data": {
      "text/plain": [
       "0.006933688946715202"
      ]
     },
     "execution_count": 16,
     "metadata": {},
     "output_type": "execute_result"
    }
   ],
   "source": [
    "stats.t.cdf(T, df=n-1)"
   ]
  },
  {
   "cell_type": "markdown",
   "metadata": {},
   "source": [
    "**p-value ниже** уровня статистической значимости $\\alpha = 0.05$, принять нулевую гипотезe не можем. Следовательно, **принятые службой меры помогли уменьшить в текущем году задолженность перед контрагентами**. "
   ]
  },
  {
   "cell_type": "markdown",
   "metadata": {},
   "source": [
    "# Задача 5\n",
    "\n",
    "Венчурная компания принимает решение о прекращении отношений с девелопером, если показатель риска по портфелю его инвестиционных проектов (средний квадрат отконения величин денежных потоков в $i-e$ месяца проекта) начинает превышать $7.5$ (млн. $у.е.^2$). Для принятия решения о продолжении венчурного финансирования компания, по итогам изучения отчетности по $16$ случайно отобранным инвестиционным проектам, получает среднюю величину денежного потока $12$ (млн. у.е.) с дисперсией $10$ (млн. $у.е.^2$). Является ли статистически значимым такое увеличение показателя риска? Уровень статистической значимости $\\alpha=0.1$. В ответ запишите критическое значение статистического критерия, при необходимости округлив его до десятых. \n",
    "\n",
    "$$H_0: \\sigma^2 = \\sigma^2_0$$\n",
    "$$H_1: \\sigma^2 > \\sigma^2_0$$\n",
    "\n",
    "$$T = \\frac{(n-1) \\cdot s^2}{\\sigma^2_0}$$ "
   ]
  },
  {
   "cell_type": "code",
   "execution_count": 38,
   "metadata": {},
   "outputs": [
    {
     "data": {
      "text/plain": [
       "20.0"
      ]
     },
     "execution_count": 38,
     "metadata": {},
     "output_type": "execute_result"
    }
   ],
   "source": [
    "var = 7.5\n",
    "s = 10\n",
    "n = 16\n",
    "\n",
    "T = ((n - 1) * s) / var\n",
    "\n",
    "T"
   ]
  },
  {
   "cell_type": "code",
   "execution_count": 39,
   "metadata": {},
   "outputs": [
    {
     "data": {
      "text/plain": [
       "22.307129581578693"
      ]
     },
     "execution_count": 39,
     "metadata": {},
     "output_type": "execute_result"
    }
   ],
   "source": [
    "stats.chi2.ppf(0.9, df=n-1)"
   ]
  },
  {
   "cell_type": "code",
   "execution_count": 40,
   "metadata": {},
   "outputs": [
    {
     "data": {
      "text/plain": [
       "0.17193268937660083"
      ]
     },
     "execution_count": 40,
     "metadata": {},
     "output_type": "execute_result"
    }
   ],
   "source": [
    "stats.chi2.sf(T, df=n-1)"
   ]
  },
  {
   "cell_type": "markdown",
   "metadata": {},
   "source": [
    "**p-value выше** уровня статистической значимости $\\alpha = 0.05$, отвергнуть нулевую гипотезe не можем. Следовательно, **не нужно принимать решение о прекращении отношений с девелопером**. "
   ]
  },
  {
   "cell_type": "markdown",
   "metadata": {},
   "source": [
    "# Задача 6\n",
    "\n",
    "Психолог измерял время сложной сенсомоторной реакции выбора (в мс) в контрольной и экспериментальной группах. В экспериментальную группу ($X$) входили $9$ спортсменов высокой квалификации. Контрольной группой ($Y$) являлись $8$ человек, активно не занимающихся спортом. Психолог проверяет гипотезу о том, что средняя скорость сложной сенсомоторной реакции выбора у спорсменов выше, чем эта же виличина у людей, не занимающихся спортом.\n",
    "\n",
    "|X|Y|\n",
    "|---|---|\n",
    "|504|580|\n",
    "|560|692|\n",
    "|420|700|\n",
    "|600|621|\n",
    "|580|640|\n",
    "|530|561|\n",
    "|490|680|\n",
    "|580|630|\n",
    "|470|-|\n",
    "\n",
    "$$H_0: a_1 = a_2$$\n",
    "$$H_1: a_1 < a_2$$"
   ]
  },
  {
   "cell_type": "code",
   "execution_count": 17,
   "metadata": {},
   "outputs": [
    {
     "name": "stdout",
     "output_type": "stream",
     "text": [
      "526.0 638.0 3579.0 2596.285714285714 9 8\n"
     ]
    }
   ],
   "source": [
    "X = np.array([504, 560, 420, 600, 580, 530, 490, 580, 470])\n",
    "Y = np.array([580, 692, 700, 621, 640, 561, 680, 630])\n",
    "\n",
    "mean_x = X.mean()\n",
    "mean_y = Y.mean()\n",
    "\n",
    "var_x = X.var()\n",
    "var_y = Y.var()\n",
    "\n",
    "m = X.size\n",
    "n = Y.size\n",
    "\n",
    "var_x = (m/(m-1)) * var_x\n",
    "var_y = (n/(n-1)) * var_y\n",
    "\n",
    "print(mean_x, mean_y, var_x, var_y, m, n)"
   ]
  },
  {
   "cell_type": "markdown",
   "metadata": {},
   "source": [
    "#### Проверим гипотезу о равенстве дисперсий\n",
    "\n",
    "$$H_0: \\sigma^2_1 = \\sigma^2_2$$\n",
    "$$H_1: \\sigma^2_1 \\neq \\sigma^2_2$$"
   ]
  },
  {
   "cell_type": "code",
   "execution_count": 18,
   "metadata": {},
   "outputs": [
    {
     "data": {
      "text/plain": [
       "0.7254221051371094"
      ]
     },
     "execution_count": 18,
     "metadata": {},
     "output_type": "execute_result"
    }
   ],
   "source": [
    "T = var_y / var_x\n",
    "T"
   ]
  },
  {
   "cell_type": "code",
   "execution_count": 19,
   "metadata": {},
   "outputs": [
    {
     "data": {
      "text/plain": [
       "0.6589561794267188"
      ]
     },
     "execution_count": 19,
     "metadata": {},
     "output_type": "execute_result"
    }
   ],
   "source": [
    "stats.f.cdf(T, dfn=m-1, dfd=n-1) * 2"
   ]
  },
  {
   "cell_type": "markdown",
   "metadata": {},
   "source": [
    "$p-value$ **выше** уровня статистической значимости  $\\alpha=0.05$ , отвергнуть нулевую гипотезe не можем. Следовательно, принимаем, что наши **дисперсии равны**. "
   ]
  },
  {
   "cell_type": "markdown",
   "metadata": {},
   "source": [
    "#### Рассчитаем статистику критерия для неизвестных, но равных дисперсий \n",
    "\n",
    "$$t = (\\frac{\\overline{x} - \\overline{y}}{s}) \\cdot \\sqrt{\\frac{m \\cdot n}{m + n}}$$ \n",
    "\n",
    "$$s^2 = (\\frac{(m-1) \\cdot s^2_x + (n-1) \\cdot s^2_y}{m + n - 2})$$ "
   ]
  },
  {
   "cell_type": "markdown",
   "metadata": {},
   "source": [
    "#### расчет вручную"
   ]
  },
  {
   "cell_type": "code",
   "execution_count": 20,
   "metadata": {},
   "outputs": [
    {
     "data": {
      "text/plain": [
       "3120.4"
      ]
     },
     "execution_count": 20,
     "metadata": {},
     "output_type": "execute_result"
    }
   ],
   "source": [
    "sqrt_s = ((m - 1) * var_x + (n - 1) * var_y) / (m + n - 2)\n",
    "sqrt_s"
   ]
  },
  {
   "cell_type": "code",
   "execution_count": 21,
   "metadata": {},
   "outputs": [
    {
     "data": {
      "text/plain": [
       "-4.12624181242505"
      ]
     },
     "execution_count": 21,
     "metadata": {},
     "output_type": "execute_result"
    }
   ],
   "source": [
    "T = ((mean_x - mean_y) / np.sqrt(sqrt_s)) * np.sqrt((m*n)/(m+n))\n",
    "T"
   ]
  },
  {
   "cell_type": "code",
   "execution_count": 22,
   "metadata": {},
   "outputs": [
    {
     "data": {
      "text/plain": [
       "0.00044862781820971206"
      ]
     },
     "execution_count": 22,
     "metadata": {},
     "output_type": "execute_result"
    }
   ],
   "source": [
    "stats.t.cdf(T, df=m+n-2)"
   ]
  },
  {
   "cell_type": "markdown",
   "metadata": {},
   "source": [
    "#### расчет с помощью stats"
   ]
  },
  {
   "cell_type": "code",
   "execution_count": 23,
   "metadata": {},
   "outputs": [
    {
     "data": {
      "text/plain": [
       "Ttest_indResult(statistic=-4.12624181242505, pvalue=0.00044862781820971206)"
      ]
     },
     "execution_count": 23,
     "metadata": {},
     "output_type": "execute_result"
    }
   ],
   "source": [
    "stats.ttest_ind(X, Y, equal_var=True, alternative='less')"
   ]
  },
  {
   "cell_type": "markdown",
   "metadata": {},
   "source": [
    "$p-value$ **меньше** уровня статистической значимости  $\\alpha=0.05$ , принять нулевую гипотезe не можем. Следовательно, **средняя скорость сложной сенсомоторной реакции выбора у спорсменов выше**. "
   ]
  },
  {
   "cell_type": "markdown",
   "metadata": {},
   "source": [
    "# Задача 7\n",
    "\n",
    "Предположим, в ходе проверки эффективности тренинга каждому из $8$ членов группы задавался вопрос \"Насколько часто твое мнение совпадает с мнением группы?\" - дважды, до и после тренинга. Для ответов использовалась $10-балльная$ шкала: $1$ - никогда, ..., $5$ - в половине случаев,..., $10$ - всегда. Проверялась гипотеза о том, что в результате тренинга самооценка конформизма участников возрастает ($\\alpha=0.05$). Составим таблицу для промежуточных вычислений:\n",
    "\n",
    "|№|X_1|X_2|\n",
    "|---|---|---|\n",
    "|$1$|3|4|\n",
    "|$2$|6|6|\n",
    "|$3$|5|6|\n",
    "|$4$|2|4|\n",
    "|$5$|7|6|\n",
    "|$6$|3|4|\n",
    "|$7$|4|5|\n",
    "|$8$|5|6|\n",
    "\n",
    "\n",
    "Наши выборки связаны, нужно проводить парный t-test, $\\Rightarrow$ наши гипотезы:\n",
    "\n",
    "$$H_0: (a_2 - a_1) = 0$$\n",
    "$$H_1: (a_2 - a_1) > 0$$"
   ]
  },
  {
   "cell_type": "code",
   "execution_count": 25,
   "metadata": {},
   "outputs": [
    {
     "data": {
      "text/html": [
       "<div>\n",
       "<style scoped>\n",
       "    .dataframe tbody tr th:only-of-type {\n",
       "        vertical-align: middle;\n",
       "    }\n",
       "\n",
       "    .dataframe tbody tr th {\n",
       "        vertical-align: top;\n",
       "    }\n",
       "\n",
       "    .dataframe thead th {\n",
       "        text-align: right;\n",
       "    }\n",
       "</style>\n",
       "<table border=\"1\" class=\"dataframe\">\n",
       "  <thead>\n",
       "    <tr style=\"text-align: right;\">\n",
       "      <th></th>\n",
       "      <th>X_1</th>\n",
       "      <th>X_2</th>\n",
       "      <th>diff</th>\n",
       "    </tr>\n",
       "  </thead>\n",
       "  <tbody>\n",
       "    <tr>\n",
       "      <th>1</th>\n",
       "      <td>3</td>\n",
       "      <td>4</td>\n",
       "      <td>1</td>\n",
       "    </tr>\n",
       "    <tr>\n",
       "      <th>2</th>\n",
       "      <td>6</td>\n",
       "      <td>6</td>\n",
       "      <td>0</td>\n",
       "    </tr>\n",
       "    <tr>\n",
       "      <th>3</th>\n",
       "      <td>5</td>\n",
       "      <td>6</td>\n",
       "      <td>1</td>\n",
       "    </tr>\n",
       "    <tr>\n",
       "      <th>4</th>\n",
       "      <td>2</td>\n",
       "      <td>4</td>\n",
       "      <td>2</td>\n",
       "    </tr>\n",
       "    <tr>\n",
       "      <th>5</th>\n",
       "      <td>7</td>\n",
       "      <td>6</td>\n",
       "      <td>-1</td>\n",
       "    </tr>\n",
       "    <tr>\n",
       "      <th>6</th>\n",
       "      <td>3</td>\n",
       "      <td>4</td>\n",
       "      <td>1</td>\n",
       "    </tr>\n",
       "    <tr>\n",
       "      <th>7</th>\n",
       "      <td>4</td>\n",
       "      <td>5</td>\n",
       "      <td>1</td>\n",
       "    </tr>\n",
       "    <tr>\n",
       "      <th>8</th>\n",
       "      <td>5</td>\n",
       "      <td>6</td>\n",
       "      <td>1</td>\n",
       "    </tr>\n",
       "  </tbody>\n",
       "</table>\n",
       "</div>"
      ],
      "text/plain": [
       "   X_1  X_2  diff\n",
       "1    3    4     1\n",
       "2    6    6     0\n",
       "3    5    6     1\n",
       "4    2    4     2\n",
       "5    7    6    -1\n",
       "6    3    4     1\n",
       "7    4    5     1\n",
       "8    5    6     1"
      ]
     },
     "execution_count": 25,
     "metadata": {},
     "output_type": "execute_result"
    }
   ],
   "source": [
    "df = pd.DataFrame([[3, 4],\n",
    "                   [6, 6],\n",
    "                   [5, 6],\n",
    "                   [2, 4],\n",
    "                   [7, 6],\n",
    "                   [3, 4],\n",
    "                   [4, 5],\n",
    "                   [5, 6]],\n",
    "                   columns=['X_1', 'X_2'], \n",
    "                   index=range(1, 9))\n",
    "\n",
    "df['diff'] = df['X_2'] - df['X_1']\n",
    "\n",
    "df"
   ]
  },
  {
   "cell_type": "markdown",
   "metadata": {},
   "source": [
    "#### Рассчет вручную"
   ]
  },
  {
   "cell_type": "code",
   "execution_count": 26,
   "metadata": {},
   "outputs": [],
   "source": [
    "mean = df['diff'].mean()\n",
    "var = df['diff'].var()\n",
    "n = df['diff'].count()"
   ]
  },
  {
   "cell_type": "code",
   "execution_count": 27,
   "metadata": {},
   "outputs": [
    {
     "data": {
      "text/plain": [
       "2.3931721056523974"
      ]
     },
     "execution_count": 27,
     "metadata": {},
     "output_type": "execute_result"
    }
   ],
   "source": [
    "t = ((mean - 0) / np.sqrt(var)) * np.sqrt(n)\n",
    "\n",
    "t"
   ]
  },
  {
   "cell_type": "code",
   "execution_count": 28,
   "metadata": {},
   "outputs": [
    {
     "data": {
      "text/plain": [
       "0.023972386089811646"
      ]
     },
     "execution_count": 28,
     "metadata": {},
     "output_type": "execute_result"
    }
   ],
   "source": [
    "stats.t.sf(t, df=n-1)"
   ]
  },
  {
   "cell_type": "markdown",
   "metadata": {},
   "source": [
    "#### Расчет с помощью пакета stats"
   ]
  },
  {
   "cell_type": "code",
   "execution_count": 29,
   "metadata": {},
   "outputs": [
    {
     "data": {
      "text/plain": [
       "Ttest_1sampResult(statistic=2.393172105652397, pvalue=0.023972386089811688)"
      ]
     },
     "execution_count": 29,
     "metadata": {},
     "output_type": "execute_result"
    }
   ],
   "source": [
    "stats.ttest_1samp(df['diff'], 0, alternative='greater')"
   ]
  },
  {
   "cell_type": "markdown",
   "metadata": {},
   "source": [
    "$p-value$ **меньше** уровня статистической значимости  $\\alpha=0.05$ , принять нулевую гипотезe не можем. Следовательно, **в результате тренинга самооценка конформизма участников возрастает**. "
   ]
  },
  {
   "cell_type": "code",
   "execution_count": null,
   "metadata": {},
   "outputs": [],
   "source": []
  }
 ],
 "metadata": {
  "hide_input": false,
  "kernelspec": {
   "display_name": "Python 3",
   "language": "python",
   "name": "python3"
  },
  "language_info": {
   "codemirror_mode": {
    "name": "ipython",
    "version": 3
   },
   "file_extension": ".py",
   "mimetype": "text/x-python",
   "name": "python",
   "nbconvert_exporter": "python",
   "pygments_lexer": "ipython3",
   "version": "3.8.5"
  },
  "latex_envs": {
   "LaTeX_envs_menu_present": true,
   "autoclose": false,
   "autocomplete": true,
   "bibliofile": "biblio.bib",
   "cite_by": "apalike",
   "current_citInitial": 1,
   "eqLabelWithNumbers": true,
   "eqNumInitial": 1,
   "hotkeys": {
    "equation": "Ctrl-E",
    "itemize": "Ctrl-I"
   },
   "labels_anchors": true,
   "latex_user_defs": false,
   "report_style_numbering": false,
   "user_envs_cfg": false
  }
 },
 "nbformat": 4,
 "nbformat_minor": 4
}
