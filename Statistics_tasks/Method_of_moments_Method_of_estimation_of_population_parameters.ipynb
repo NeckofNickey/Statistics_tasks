{
 "cells": [
  {
   "cell_type": "code",
   "execution_count": 12,
   "id": "a19786f5",
   "metadata": {},
   "outputs": [],
   "source": [
    "import pandas as pd\n",
    "import numpy as np\n",
    "\n",
    "from tkinter import filedialog as fd\n",
    "from tkinter import Tk, BOTH\n",
    "\n",
    "from datetime import datetime\n",
    "from datetime import timedelta\n",
    "\n",
    "from scipy import stats\n",
    "from scipy.stats import uniform\n",
    "from sympy import *\n",
    "\n",
    "import seaborn as sns\n",
    "import matplotlib.pyplot as plt\n",
    "\n",
    "\n",
    "pd.options.display.float_format = '{:,.4f}'.format\n",
    "\n",
    "import warnings\n",
    "warnings.filterwarnings(\"ignore\")\n",
    "\n",
    "from typing import Tuple\n",
    "\n",
    "%matplotlib inline\n",
    "\n",
    "from IPython.core.interactiveshell import InteractiveShell \n",
    "InteractiveShell.ast_node_interactivity = \"all\" #print all out"
   ]
  },
  {
   "cell_type": "markdown",
   "id": "71de68e3",
   "metadata": {},
   "source": [
    "## Зачада 1. \n",
    "\n",
    "При условии равномерного распределения случайной величины $Х$ произведена выборка:\n",
    "\n",
    "| $x_i$ | 3 | 5 | 7 | 9 | 11 | 13 | 15 | 17 | 19 | 21 |\n",
    "| --- | --- | --- | --- | --- | --- | --- | --- | --- | --- | --- |\n",
    "| $n_i$ | 21 | 16 | 15 | 26 | 22 | 14 | 21 | 22 | 18 | 25 |\n",
    "\n",
    "Найти оценку параметров a и b по методу моментов."
   ]
  },
  {
   "cell_type": "markdown",
   "id": "afc1a188",
   "metadata": {},
   "source": [
    "#### Готовим данные"
   ]
  },
  {
   "cell_type": "code",
   "execution_count": 13,
   "id": "b7a769c1",
   "metadata": {},
   "outputs": [],
   "source": [
    "a, b = symbols('a b')\n",
    "\n",
    "df = pd.DataFrame({'x_i':np.arange(3, 22, 2), 'n_i':[21, 16, 15, 26, 22, 14, 21, 22, 18, 25]})\n",
    "\n",
    "df['w_i'] = df['n_i'] / df['n_i'].sum()"
   ]
  },
  {
   "cell_type": "code",
   "execution_count": 14,
   "id": "d8d0c24b",
   "metadata": {},
   "outputs": [
    {
     "data": {
      "text/plain": [
       "[<matplotlib.lines.Line2D at 0x1ae6c652dc0>]"
      ]
     },
     "execution_count": 14,
     "metadata": {},
     "output_type": "execute_result"
    },
    {
     "data": {
      "image/png": "[encoded data removed]",
      "text/plain": [
       "<Figure size 432x288 with 1 Axes>"
      ]
     },
     "metadata": {
      "needs_background": "light"
     },
     "output_type": "display_data"
    }
   ],
   "source": [
    "xk = df['x_i']\n",
    "pk = df['w_i']\n",
    "custm_dist = stats.rv_discrete(name='cust_dist', values=(xk, pk))\n",
    "\n",
    "fig, ax = plt.subplots(1, 1)\n",
    "ax.plot(xk, custm_dist.pmf(xk))\n",
    "\n",
    "plt.show()"
   ]
  },
  {
   "cell_type": "markdown",
   "id": "bab6e835",
   "metadata": {},
   "source": [
    "#### Вычисляем моменты"
   ]
  },
  {
   "cell_type": "code",
   "execution_count": 15,
   "id": "8cceba6f",
   "metadata": {},
   "outputs": [
    {
     "data": {
      "text/html": [
       "<div>\n",
       "<style scoped>\n",
       "    .dataframe tbody tr th:only-of-type {\n",
       "        vertical-align: middle;\n",
       "    }\n",
       "\n",
       "    .dataframe tbody tr th {\n",
       "        vertical-align: top;\n",
       "    }\n",
       "\n",
       "    .dataframe thead th {\n",
       "        text-align: right;\n",
       "    }\n",
       "</style>\n",
       "<table border=\"1\" class=\"dataframe\">\n",
       "  <thead>\n",
       "    <tr style=\"text-align: right;\">\n",
       "      <th></th>\n",
       "      <th>mean</th>\n",
       "      <th>var</th>\n",
       "      <th>std</th>\n",
       "    </tr>\n",
       "  </thead>\n",
       "  <tbody>\n",
       "    <tr>\n",
       "      <th>0</th>\n",
       "      <td>12.3100</td>\n",
       "      <td>33.7839</td>\n",
       "      <td>5.8124</td>\n",
       "    </tr>\n",
       "  </tbody>\n",
       "</table>\n",
       "</div>"
      ],
      "text/plain": [
       "     mean     var    std\n",
       "0 12.3100 33.7839 5.8124"
      ]
     },
     "execution_count": 15,
     "metadata": {},
     "output_type": "execute_result"
    }
   ],
   "source": [
    "mean = custm_dist.mean()\n",
    "\n",
    "var = custm_dist.var()\n",
    "\n",
    "std = custm_dist.std()\n",
    "\n",
    "\n",
    "pd.DataFrame(data=[[mean, var, std]], \n",
    "             columns=['mean',' var', 'std'])"
   ]
  },
  {
   "cell_type": "markdown",
   "id": "803ac60c",
   "metadata": {},
   "source": [
    "#### Находим параметры"
   ]
  },
  {
   "cell_type": "code",
   "execution_count": 16,
   "id": "d1d0e559",
   "metadata": {},
   "outputs": [],
   "source": [
    "def calc_eval_param(mean:float, var:float, *args) -> Tuple[float, float]:\n",
    "    y_1 = simplify(Eq((a + b) / 2, mean))\n",
    "    y_2 = simplify(Eq((b - a)**2 / 12, var))\n",
    "    return nonlinsolve((y_1, y_2), (args))"
   ]
  },
  {
   "cell_type": "code",
   "execution_count": 17,
   "id": "9fc593a5",
   "metadata": {
    "scrolled": false
   },
   "outputs": [
    {
     "data": {
      "text/latex": [
       "$\\displaystyle \\left\\{\\left( 2.2426418559783, \\  22.3773581440217\\right), \\left( 22.3773581440217, \\  2.2426418559783\\right)\\right\\}$"
      ],
      "text/plain": [
       "{(2.2426418559783, 22.3773581440217), (22.3773581440217, 2.2426418559783)}"
      ]
     },
     "execution_count": 17,
     "metadata": {},
     "output_type": "execute_result"
    }
   ],
   "source": [
    "calc_eval_param(mean, var, a, b)"
   ]
  },
  {
   "cell_type": "code",
   "execution_count": 18,
   "id": "268a1b84",
   "metadata": {},
   "outputs": [
    {
     "data": {
      "text/plain": [
       "2.242641855978299"
      ]
     },
     "execution_count": 18,
     "metadata": {},
     "output_type": "execute_result"
    },
    {
     "data": {
      "text/plain": [
       "22.377358144021702"
      ]
     },
     "execution_count": 18,
     "metadata": {},
     "output_type": "execute_result"
    }
   ],
   "source": [
    "a, b = [float(x) for x in calc_eval_param(mean, var, a, b).args[0]]\n",
    "\n",
    "a\n",
    "b"
   ]
  },
  {
   "cell_type": "markdown",
   "id": "0fffd5a9",
   "metadata": {},
   "source": [
    "#### Подставляем параметры в распределение и находим статистики"
   ]
  },
  {
   "cell_type": "code",
   "execution_count": 121,
   "id": "d7064efb",
   "metadata": {
    "scrolled": false
   },
   "outputs": [
    {
     "data": {
      "text/plain": [
       "12.318389526822868"
      ]
     },
     "execution_count": 121,
     "metadata": {},
     "output_type": "execute_result"
    },
    {
     "data": {
      "text/plain": [
       "32.94201279437333"
      ]
     },
     "execution_count": 121,
     "metadata": {},
     "output_type": "execute_result"
    },
    {
     "data": {
      "text/plain": [
       "5.739513288979592"
      ]
     },
     "execution_count": 121,
     "metadata": {},
     "output_type": "execute_result"
    }
   ],
   "source": [
    "uni_dist = uniform(loc=a, scale=b-a).rvs(size=1000)\n",
    "\n",
    "uni_dist.mean()\n",
    "uni_dist.var()\n",
    "uni_dist.std()"
   ]
  },
  {
   "cell_type": "code",
   "execution_count": 122,
   "id": "8d8696a6",
   "metadata": {},
   "outputs": [],
   "source": [
    "def show_pdf(pdf,  xmin, xmax, ymax, grid_size, distr_name, **kwargs):\n",
    "    \"\"\"\n",
    "    Рисует график плотности непрерывного распределения\n",
    "    \n",
    "    pdf - плотность\n",
    "    xmin, xmax - границы графика по оси x\n",
    "    ymax - граница графика по оси y\n",
    "    grid_size - размер сетки, по которой рисуется график\n",
    "    distr_name - название распределения\n",
    "    kwargs - параметры плотности\n",
    "    \"\"\"\n",
    "    \n",
    "    grid = np.linspace(xmin, xmax, grid_size)  \n",
    "    plt.figure(figsize=(12, 5))\n",
    "    plt.plot(grid, pdf(grid, **kwargs), lw=5)\n",
    "    plt.grid(ls=':')\n",
    "    plt.xlabel('Значение', fontsize=18)\n",
    "    plt.ylabel('Плотность', fontsize=18)\n",
    "    plt.xlim((xmin, xmax))\n",
    "    plt.ylim((None, ymax))\n",
    "    title = 'Плотность {}'.format(distr_name)\n",
    "    plt.title(title.format(**kwargs), fontsize=20)\n",
    "    plt.show()"
   ]
  },
  {
   "cell_type": "code",
   "execution_count": 123,
   "id": "34af77fe",
   "metadata": {},
   "outputs": [
    {
     "data": {
      "image/png": "[encoded data removed]",
      "text/plain": [
       "<Figure size 864x360 with 1 Axes>"
      ]
     },
     "metadata": {
      "needs_background": "light"
     },
     "output_type": "display_data"
    }
   ],
   "source": [
    "show_pdf(\n",
    "    pdf=stats.uniform.pdf, xmin=a-1, xmax=b+2, ymax=1/(b-a) + 0.01, grid_size=10000, \n",
    "    distr_name=f'$U({round(a, 2)}, {round(b, 2)})$', loc=a, scale=b-a\n",
    ")"
   ]
  },
  {
   "cell_type": "code",
   "execution_count": 153,
   "id": "f422054d",
   "metadata": {},
   "outputs": [
    {
     "data": {
      "text/plain": [
       "12.320153228195355"
      ]
     },
     "execution_count": 153,
     "metadata": {},
     "output_type": "execute_result"
    },
    {
     "data": {
      "text/plain": [
       "33.21176124821471"
      ]
     },
     "execution_count": 153,
     "metadata": {},
     "output_type": "execute_result"
    },
    {
     "data": {
      "text/plain": [
       "5.688419121613554"
      ]
     },
     "execution_count": 153,
     "metadata": {},
     "output_type": "execute_result"
    }
   ],
   "source": [
    "np.random.uniform(a, b, 1000).mean()\n",
    "np.random.uniform(a, b, 1000).var()\n",
    "np.random.uniform(a, b, 1000).std()"
   ]
  },
  {
   "cell_type": "markdown",
   "id": "0a97315a",
   "metadata": {},
   "source": [
    "#### Решение методом fit"
   ]
  },
  {
   "cell_type": "code",
   "execution_count": 19,
   "id": "81fefe32",
   "metadata": {},
   "outputs": [
    {
     "data": {
      "text/html": [
       "<div>\n",
       "<style scoped>\n",
       "    .dataframe tbody tr th:only-of-type {\n",
       "        vertical-align: middle;\n",
       "    }\n",
       "\n",
       "    .dataframe tbody tr th {\n",
       "        vertical-align: top;\n",
       "    }\n",
       "\n",
       "    .dataframe thead th {\n",
       "        text-align: right;\n",
       "    }\n",
       "</style>\n",
       "<table border=\"1\" class=\"dataframe\">\n",
       "  <thead>\n",
       "    <tr style=\"text-align: right;\">\n",
       "      <th></th>\n",
       "      <th>unstuck</th>\n",
       "    </tr>\n",
       "  </thead>\n",
       "  <tbody>\n",
       "    <tr>\n",
       "      <th>0</th>\n",
       "      <td>3</td>\n",
       "    </tr>\n",
       "    <tr>\n",
       "      <th>0</th>\n",
       "      <td>3</td>\n",
       "    </tr>\n",
       "    <tr>\n",
       "      <th>0</th>\n",
       "      <td>3</td>\n",
       "    </tr>\n",
       "    <tr>\n",
       "      <th>0</th>\n",
       "      <td>3</td>\n",
       "    </tr>\n",
       "    <tr>\n",
       "      <th>0</th>\n",
       "      <td>3</td>\n",
       "    </tr>\n",
       "    <tr>\n",
       "      <th>...</th>\n",
       "      <td>...</td>\n",
       "    </tr>\n",
       "    <tr>\n",
       "      <th>9</th>\n",
       "      <td>21</td>\n",
       "    </tr>\n",
       "    <tr>\n",
       "      <th>9</th>\n",
       "      <td>21</td>\n",
       "    </tr>\n",
       "    <tr>\n",
       "      <th>9</th>\n",
       "      <td>21</td>\n",
       "    </tr>\n",
       "    <tr>\n",
       "      <th>9</th>\n",
       "      <td>21</td>\n",
       "    </tr>\n",
       "    <tr>\n",
       "      <th>9</th>\n",
       "      <td>21</td>\n",
       "    </tr>\n",
       "  </tbody>\n",
       "</table>\n",
       "<p>200 rows × 1 columns</p>\n",
       "</div>"
      ],
      "text/plain": [
       "    unstuck\n",
       "0         3\n",
       "0         3\n",
       "0         3\n",
       "0         3\n",
       "0         3\n",
       "..      ...\n",
       "9        21\n",
       "9        21\n",
       "9        21\n",
       "9        21\n",
       "9        21\n",
       "\n",
       "[200 rows x 1 columns]"
      ]
     },
     "execution_count": 19,
     "metadata": {},
     "output_type": "execute_result"
    }
   ],
   "source": [
    "# Разгруппируем данные\n",
    "\n",
    "df['unstuck'] = df.apply(lambda row: list([row[\"x_i\"]]) * int(row[\"n_i\"]), axis=1)\n",
    "\n",
    "df_unstuck = df[['unstuck']]\n",
    "\n",
    "df_unstuck = df_unstuck.explode('unstuck')\n",
    "\n",
    "df_unstuck['unstuck'] = df_unstuck['unstuck'].apply(lambda x: int(x))\n",
    "\n",
    "df_unstuck"
   ]
  },
  {
   "cell_type": "code",
   "execution_count": 20,
   "id": "0b194ab0",
   "metadata": {},
   "outputs": [
    {
     "data": {
      "text/plain": [
       "(3.0, 18.0)"
      ]
     },
     "execution_count": 20,
     "metadata": {},
     "output_type": "execute_result"
    }
   ],
   "source": [
    "uniform.fit(df_unstuck.unstuck)"
   ]
  },
  {
   "cell_type": "code",
   "execution_count": 21,
   "id": "017b3366",
   "metadata": {},
   "outputs": [
    {
     "data": {
      "text/plain": [
       "(2.2426418559783023, 20.134716288043396)"
      ]
     },
     "execution_count": 21,
     "metadata": {},
     "output_type": "execute_result"
    }
   ],
   "source": [
    "uniform.fit_loc_scale(df_unstuck.unstuck)"
   ]
  },
  {
   "cell_type": "code",
   "execution_count": null,
   "id": "4787b0fb",
   "metadata": {},
   "outputs": [],
   "source": []
  }
 ],
 "metadata": {
  "kernelspec": {
   "display_name": "Python 3",
   "language": "python",
   "name": "python3"
  },
  "language_info": {
   "codemirror_mode": {
    "name": "ipython",
    "version": 3
   },
   "file_extension": ".py",
   "mimetype": "text/x-python",
   "name": "python",
   "nbconvert_exporter": "python",
   "pygments_lexer": "ipython3",
   "version": "3.9.4"
  }
 },
 "nbformat": 4,
 "nbformat_minor": 5
}
