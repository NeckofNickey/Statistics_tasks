{
 "cells": [
  {
   "cell_type": "code",
   "execution_count": 170,
   "id": "a19786f5",
   "metadata": {},
   "outputs": [],
   "source": [
    "import pandas as pd\n",
    "import numpy as np\n",
    "\n",
    "from tkinter import filedialog as fd\n",
    "from tkinter import Tk, BOTH\n",
    "\n",
    "from datetime import datetime\n",
    "from datetime import timedelta\n",
    "\n",
    "from scipy import stats\n",
    "from scipy.stats import uniform\n",
    "from sympy import *\n",
    "\n",
    "import seaborn as sns\n",
    "import matplotlib.pyplot as plt\n",
    "\n",
    "\n",
    "pd.options.display.float_format = '{:,.4f}'.format\n",
    "\n",
    "import warnings\n",
    "warnings.filterwarnings(\"ignore\")\n",
    "\n",
    "from typing import Tuple\n",
    "\n",
    "%matplotlib inline\n",
    "\n",
    "from IPython.core.interactiveshell import InteractiveShell \n",
    "InteractiveShell.ast_node_interactivity = \"all\" #print all out"
   ]
  },
  {
   "cell_type": "markdown",
   "id": "71de68e3",
   "metadata": {},
   "source": [
    "## Зачада 1. \n",
    "\n",
    "При условии равномерного распределения случайной величины $Х$ произведена выборка:\n",
    "\n",
    "| 3 | 5 | 7 | 9 | 11 | 13 | 15 | 17 | 19 | 21 |\n",
    "| --- | --- | --- | --- | --- | --- | --- | --- | --- | --- |\n",
    "| 21 | 16 | 15 | 26 | 22 | 14 | 21 | 22 | 18 | 25 |\n",
    "\n",
    "Найти оценку параметров a и b по методу моментов."
   ]
  },
  {
   "cell_type": "markdown",
   "id": "afc1a188",
   "metadata": {},
   "source": [
    "#### Готовим данные"
   ]
  },
  {
   "cell_type": "code",
   "execution_count": 85,
   "id": "b7a769c1",
   "metadata": {},
   "outputs": [],
   "source": [
    "a, b = symbols('a b')\n",
    "\n",
    "df = pd.DataFrame({'x_i':np.arange(3, 22, 2), 'n_i':[21, 16, 15, 26, 22, 14, 21, 22, 18, 25]})\n",
    "\n",
    "df['w_i'] = df['n_i'] / df['n_i'].sum()"
   ]
  },
  {
   "cell_type": "code",
   "execution_count": 86,
   "id": "d8d0c24b",
   "metadata": {},
   "outputs": [
    {
     "data": {
      "text/plain": [
       "[<matplotlib.lines.Line2D at 0x1e84a00d370>]"
      ]
     },
     "execution_count": 86,
     "metadata": {},
     "output_type": "execute_result"
    },
    {
     "data": {
      "image/png": "[encoded data removed]",
      "text/plain": [
       "<Figure size 432x288 with 1 Axes>"
      ]
     },
     "metadata": {
      "needs_background": "light"
     },
     "output_type": "display_data"
    }
   ],
   "source": [
    "xk = df['x_i']\n",
    "pk = df['w_i']\n",
    "custm_dist = stats.rv_discrete(name='cust_dist', values=(xk, pk))\n",
    "\n",
    "fig, ax = plt.subplots(1, 1)\n",
    "ax.plot(xk, custm_dist.pmf(xk))\n",
    "\n",
    "plt.show()"
   ]
  },
  {
   "cell_type": "markdown",
   "id": "bab6e835",
   "metadata": {},
   "source": [
    "#### Вычисляем моменты"
   ]
  },
  {
   "cell_type": "code",
   "execution_count": 87,
   "id": "8cceba6f",
   "metadata": {},
   "outputs": [
    {
     "data": {
      "text/html": [
       "<div>\n",
       "<style scoped>\n",
       "    .dataframe tbody tr th:only-of-type {\n",
       "        vertical-align: middle;\n",
       "    }\n",
       "\n",
       "    .dataframe tbody tr th {\n",
       "        vertical-align: top;\n",
       "    }\n",
       "\n",
       "    .dataframe thead th {\n",
       "        text-align: right;\n",
       "    }\n",
       "</style>\n",
       "<table border=\"1\" class=\"dataframe\">\n",
       "  <thead>\n",
       "    <tr style=\"text-align: right;\">\n",
       "      <th></th>\n",
       "      <th>mean</th>\n",
       "      <th>var</th>\n",
       "      <th>std</th>\n",
       "    </tr>\n",
       "  </thead>\n",
       "  <tbody>\n",
       "    <tr>\n",
       "      <th>0</th>\n",
       "      <td>12.3100</td>\n",
       "      <td>33.7839</td>\n",
       "      <td>5.8124</td>\n",
       "    </tr>\n",
       "  </tbody>\n",
       "</table>\n",
       "</div>"
      ],
      "text/plain": [
       "     mean     var    std\n",
       "0 12.3100 33.7839 5.8124"
      ]
     },
     "execution_count": 87,
     "metadata": {},
     "output_type": "execute_result"
    }
   ],
   "source": [
    "mean = custm_dist.mean()\n",
    "\n",
    "var = custm_dist.var()\n",
    "\n",
    "std = custm_dist.std()\n",
    "\n",
    "\n",
    "pd.DataFrame(data=[[mean, var, std]], \n",
    "             columns=['mean',' var', 'std'])"
   ]
  },
  {
   "cell_type": "markdown",
   "id": "803ac60c",
   "metadata": {},
   "source": [
    "#### Находим параметры"
   ]
  },
  {
   "cell_type": "code",
   "execution_count": 88,
   "id": "d1d0e559",
   "metadata": {},
   "outputs": [],
   "source": [
    "def calc_eval_param(mean:float, var:float, *args) -> Tuple[float, float]:\n",
    "    y_1 = simplify(Eq((a + b) / 2, mean))\n",
    "    y_2 = simplify(Eq((b - a)**2 / 12, var))\n",
    "    return nonlinsolve((y_1, y_2), (args))"
   ]
  },
  {
   "cell_type": "code",
   "execution_count": 79,
   "id": "9fc593a5",
   "metadata": {
    "scrolled": false
   },
   "outputs": [
    {
     "data": {
      "text/latex": [
       "$\\displaystyle \\left\\{\\left( 2.2426418559783, \\  22.3773581440217\\right), \\left( 22.3773581440217, \\  2.2426418559783\\right)\\right\\}$"
      ],
      "text/plain": [
       "{(2.2426418559783, 22.3773581440217), (22.3773581440217, 2.2426418559783)}"
      ]
     },
     "execution_count": 79,
     "metadata": {},
     "output_type": "execute_result"
    }
   ],
   "source": [
    "calc_eval_param(mean, var, a, b)"
   ]
  },
  {
   "cell_type": "code",
   "execution_count": 89,
   "id": "268a1b84",
   "metadata": {},
   "outputs": [
    {
     "data": {
      "text/plain": [
       "2.242641855978299"
      ]
     },
     "execution_count": 89,
     "metadata": {},
     "output_type": "execute_result"
    },
    {
     "data": {
      "text/plain": [
       "22.377358144021702"
      ]
     },
     "execution_count": 89,
     "metadata": {},
     "output_type": "execute_result"
    }
   ],
   "source": [
    "a, b = [float(x) for x in calc_eval_param(mean, var, a, b).args[0]]\n",
    "\n",
    "a\n",
    "b"
   ]
  },
  {
   "cell_type": "markdown",
   "id": "0fffd5a9",
   "metadata": {},
   "source": [
    "#### Подставляем параметры в распределение и находим статистики"
   ]
  },
  {
   "cell_type": "code",
   "execution_count": 157,
   "id": "d7064efb",
   "metadata": {
    "scrolled": false
   },
   "outputs": [
    {
     "data": {
      "text/plain": [
       "[<matplotlib.lines.Line2D at 0x1e84b74a3a0>]"
      ]
     },
     "execution_count": 157,
     "metadata": {},
     "output_type": "execute_result"
    },
    {
     "data": {
      "image/png": "[encoded data removed]",
      "text/plain": [
       "<Figure size 432x288 with 1 Axes>"
      ]
     },
     "metadata": {
      "needs_background": "light"
     },
     "output_type": "display_data"
    },
    {
     "data": {
      "text/plain": [
       "12.360381660281718"
      ]
     },
     "execution_count": 157,
     "metadata": {},
     "output_type": "execute_result"
    },
    {
     "data": {
      "text/plain": [
       "33.909571428673914"
      ]
     },
     "execution_count": 157,
     "metadata": {},
     "output_type": "execute_result"
    },
    {
     "data": {
      "text/plain": [
       "5.823192546075899"
      ]
     },
     "execution_count": 157,
     "metadata": {},
     "output_type": "execute_result"
    }
   ],
   "source": [
    "uni_dist = uniform(loc=a, scale=b-a).rvs(size=1000)\n",
    "\n",
    "fig, ax = plt.subplots(1, 1)\n",
    "ax.plot(uni_dist)\n",
    "\n",
    "plt.show()\n",
    "\n",
    "uni_dist.mean()\n",
    "uni_dist.var()\n",
    "uni_dist.std()"
   ]
  },
  {
   "cell_type": "code",
   "execution_count": 153,
   "id": "f422054d",
   "metadata": {},
   "outputs": [
    {
     "data": {
      "text/plain": [
       "12.320153228195355"
      ]
     },
     "execution_count": 153,
     "metadata": {},
     "output_type": "execute_result"
    },
    {
     "data": {
      "text/plain": [
       "33.21176124821471"
      ]
     },
     "execution_count": 153,
     "metadata": {},
     "output_type": "execute_result"
    },
    {
     "data": {
      "text/plain": [
       "5.688419121613554"
      ]
     },
     "execution_count": 153,
     "metadata": {},
     "output_type": "execute_result"
    }
   ],
   "source": [
    "np.random.uniform(a, b, 1000).mean()\n",
    "np.random.uniform(a, b, 1000).var()\n",
    "np.random.uniform(a, b, 1000).std()"
   ]
  }
 ],
 "metadata": {
  "kernelspec": {
   "display_name": "Python 3",
   "language": "python",
   "name": "python3"
  },
  "language_info": {
   "codemirror_mode": {
    "name": "ipython",
    "version": 3
   },
   "file_extension": ".py",
   "mimetype": "text/x-python",
   "name": "python",
   "nbconvert_exporter": "python",
   "pygments_lexer": "ipython3",
   "version": "3.9.4"
  }
 },
 "nbformat": 4,
 "nbformat_minor": 5
}
