{
 "cells": [
  {
   "cell_type": "code",
   "execution_count": 2,
   "metadata": {
    "id": "pil2rNWItXEC"
   },
   "outputs": [],
   "source": [
    "from scipy.stats import rv_continuous\n",
    "import numpy as np"
   ]
  },
  {
   "cell_type": "code",
   "execution_count": 3,
   "metadata": {
    "id": "eKUwNk6gtns3"
   },
   "outputs": [],
   "source": [
    "class Mydist(rv_continuous):\n",
    "    def _pdf(self, x, k):\n",
    "        return k*np.exp(-x*k)\n",
    "mydist = Mydist(a=0, b=np.inf, shapes='k')"
   ]
  },
  {
   "cell_type": "code",
   "execution_count": 4,
   "metadata": {
    "colab": {
     "base_uri": "https://localhost:8080/"
    },
    "id": "c1AMOy29t2CH",
    "outputId": "9f614127-c6bd-4c89-af1a-75e106bf4042"
   },
   "outputs": [
    {
     "data": {
      "text/plain": [
       "array([0.13025797, 0.89555654, 2.5127848 , 2.63593772, 2.425546  ,\n",
       "       0.44253204])"
      ]
     },
     "execution_count": 4,
     "metadata": {},
     "output_type": "execute_result"
    }
   ],
   "source": [
    "mydist.rvs(size=6, k=1)"
   ]
  },
  {
   "cell_type": "code",
   "execution_count": 5,
   "metadata": {
    "id": "yXLdLBUgHwv9"
   },
   "outputs": [
    {
     "data": {
      "text/plain": [
       "(1.4041181807765017, 0.02264083714064556, 1.0780668628800614)"
      ]
     },
     "execution_count": 5,
     "metadata": {},
     "output_type": "execute_result"
    }
   ],
   "source": [
    "mydist.fit(mydist.rvs(size=10, k=1))"
   ]
  },
  {
   "cell_type": "code",
   "execution_count": null,
   "metadata": {},
   "outputs": [],
   "source": []
  }
 ],
 "metadata": {
  "colab": {
   "name": "rv_continious.ipynb",
   "provenance": []
  },
  "kernelspec": {
   "display_name": "Python 3",
   "language": "python",
   "name": "python3"
  },
  "language_info": {
   "codemirror_mode": {
    "name": "ipython",
    "version": 3
   },
   "file_extension": ".py",
   "mimetype": "text/x-python",
   "name": "python",
   "nbconvert_exporter": "python",
   "pygments_lexer": "ipython3",
   "version": "3.9.4"
  }
 },
 "nbformat": 4,
 "nbformat_minor": 1
}
