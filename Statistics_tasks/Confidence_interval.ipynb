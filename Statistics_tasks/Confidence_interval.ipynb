{
 "cells": [
  {
   "cell_type": "code",
   "execution_count": 2,
   "id": "8671fd97",
   "metadata": {},
   "outputs": [],
   "source": [
    "import pandas as pd\n",
    "import numpy as np\n",
    "\n",
    "from tkinter import filedialog as fd\n",
    "from tkinter import Tk, BOTH\n",
    "\n",
    "from datetime import datetime\n",
    "from datetime import timedelta\n",
    "\n",
    "from scipy import stats\n",
    "from scipy.stats import norm\n",
    "from scipy.stats import chi2\n",
    "from scipy.stats import t\n",
    "from scipy.stats import bootstrap\n",
    "from sympy import *\n",
    "\n",
    "import seaborn as sns\n",
    "import matplotlib.pyplot as plt\n",
    "\n",
    "\n",
    "pd.options.display.float_format = '{:,.3f}'.format\n",
    "\n",
    "import warnings\n",
    "warnings.filterwarnings(\"ignore\")\n",
    "\n",
    "from typing import Tuple\n",
    "\n",
    "%matplotlib inline\n"
   ]
  },
  {
   "cell_type": "markdown",
   "id": "f810297d",
   "metadata": {},
   "source": [
    "## Задача 1\n",
    "\n",
    "По данным 7 измерений некоторой величины найдены средняя результатов измерений, равная 30 и выборочная дисперсия, равная 36. Найдите границы, в которых с надежностью 0,99 заключено истинное значение измеряемой величины."
   ]
  },
  {
   "cell_type": "code",
   "execution_count": 2,
   "id": "ff2f63a9",
   "metadata": {},
   "outputs": [
    {
     "data": {
      "text/plain": [
       "(20.918693089657708, 39.08130691034229)"
      ]
     },
     "execution_count": 2,
     "metadata": {},
     "output_type": "execute_result"
    }
   ],
   "source": [
    "n = 7\n",
    "df = n - 1\n",
    "mean = 30\n",
    "var = 36\n",
    "q = 0.99\n",
    "\n",
    "sample_var = n/df * var  \n",
    "\n",
    "sample_scale = np.sqrt(sample_var/n)\n",
    "\n",
    "t.interval(q, df, loc=mean, scale=sample_scale)"
   ]
  },
  {
   "cell_type": "markdown",
   "id": "4dbcf8f8",
   "metadata": {},
   "source": [
    "## Задача 2\n",
    "\n",
    "Доверительный интервал для дисперсии"
   ]
  },
  {
   "cell_type": "code",
   "execution_count": 3,
   "id": "bd9e098f",
   "metadata": {},
   "outputs": [
    {
     "data": {
      "text/plain": [
       "(5.590812241777006, 24.04469824071958)"
      ]
     },
     "execution_count": 3,
     "metadata": {},
     "output_type": "execute_result"
    }
   ],
   "source": [
    "n = 12\n",
    "df = n - 1\n",
    "sample_var = 10\n",
    "q = 0.9\n",
    "\n",
    "h2 = chi2.ppf((1-q)/2, df)\n",
    "h1 = chi2.ppf((1+q)/2, df)\n",
    "\n",
    "ci_low = (df * sample_var) / h1\n",
    "ci_high = (df * sample_var) / h2\n",
    "\n",
    "ci = ci_low, ci_high\n",
    "\n",
    "ci"
   ]
  },
  {
   "cell_type": "markdown",
   "id": "e3eda6dc",
   "metadata": {},
   "source": [
    "## Задача 3 \n",
    "\n",
    "С целью размещения рекламы опрошено 420 телезрителей, из которых данную передачу смотрят 170 человек. С доверительной вероятностью γ=0,91 найти долю телезрителей, охваченных рекламой в лучшем случае."
   ]
  },
  {
   "cell_type": "code",
   "execution_count": 4,
   "id": "a42190a6",
   "metadata": {},
   "outputs": [
    {
     "data": {
      "text/plain": [
       "(0.3641557260455601, 0.4453680834782494)"
      ]
     },
     "execution_count": 4,
     "metadata": {},
     "output_type": "execute_result"
    }
   ],
   "source": [
    "n = 420\n",
    "m = 170\n",
    "p = m/n\n",
    "q = 0.91\n",
    "\n",
    "z1 = norm.ppf((1-q)/2)\n",
    "z2 = norm.ppf((1+q)/2)\n",
    "              \n",
    "ci_low = p - z2 * np.sqrt(p*(1-p)/n)\n",
    "ci_high = p + z2 * np.sqrt(p*(1-p)/n)\n",
    "\n",
    "ci = ci_low, ci_high\n",
    "\n",
    "ci"
   ]
  },
  {
   "cell_type": "code",
   "execution_count": 5,
   "id": "2dceb900",
   "metadata": {},
   "outputs": [
    {
     "data": {
      "text/plain": [
       "(0.36439000448223735, 0.44560999551776276)"
      ]
     },
     "execution_count": 5,
     "metadata": {},
     "output_type": "execute_result"
    }
   ],
   "source": [
    "scale = np.sqrt(0.405 * (1-0.405) / 420)\n",
    "norm.interval(0.91, loc=0.405, scale=scale)"
   ]
  },
  {
   "cell_type": "markdown",
   "id": "866c32c6",
   "metadata": {},
   "source": [
    "## Задача 4\n",
    "\n",
    "По группе семей с доходом $154 руб./чел$. зафиксированы следующие цифры потребления молока за месяц (на одного человека): 8,3; 8,6; 8,7; 8,8; 9,1; 9,3; 9,4; 13,4; 13,5; 13,8; 13,9; 14,1; 14,3. Найти доверительный интервал для математического ожидания и дисперсии с надежностью $γ = 0,95$ , дать точность оценки. Выборка произведена из нормальной совокупности. "
   ]
  },
  {
   "cell_type": "code",
   "execution_count": 11,
   "id": "ef86ac5a",
   "metadata": {},
   "outputs": [],
   "source": [
    "milk_consumption = [8.3, 8.6, 8.7, 8.8, 9.1, 9.3, 9.4, 13.4, 13.5, 13.8, 13.9, 14.1, 14.3]"
   ]
  },
  {
   "cell_type": "markdown",
   "id": "da947e88",
   "metadata": {},
   "source": [
    "#### доверительный интервал для математического ожидания"
   ]
  },
  {
   "cell_type": "code",
   "execution_count": 12,
   "id": "3fc3a0b2",
   "metadata": {},
   "outputs": [
    {
     "data": {
      "text/plain": [
       "(9.602841354518604, 12.735620183942936)"
      ]
     },
     "execution_count": 12,
     "metadata": {},
     "output_type": "execute_result"
    }
   ],
   "source": [
    "n = len(milk_consumption)\n",
    "df = n - 1\n",
    "mean = np.mean(milk_consumption)\n",
    "sample_var = np.var(milk_consumption, ddof=1)\n",
    "q = 0.95\n",
    "\n",
    "sample_scale = np.sqrt(sample_var/n)\n",
    "\n",
    "t.interval(q, df, loc=mean, scale=sample_scale)"
   ]
  },
  {
   "cell_type": "markdown",
   "id": "4e1b7b10",
   "metadata": {},
   "source": [
    "#### доверительный интервал для математического ожидания Бутсрапом"
   ]
  },
  {
   "cell_type": "code",
   "execution_count": 13,
   "id": "981b96ef",
   "metadata": {},
   "outputs": [
    {
     "data": {
      "text/plain": [
       "ConfidenceInterval(low=9.7544113704867, high=12.407692307692312)"
      ]
     },
     "execution_count": 13,
     "metadata": {},
     "output_type": "execute_result"
    }
   ],
   "source": [
    "rng = np.random.default_rng()\n",
    "data = (milk_consumption,)\n",
    "ci = bootstrap(data, np.mean, confidence_level=0.95, n_resamples=1000,\n",
    "                   random_state=rng).confidence_interval\n",
    "\n",
    "ci"
   ]
  },
  {
   "cell_type": "code",
   "execution_count": 14,
   "id": "0c7484ba",
   "metadata": {},
   "outputs": [
    {
     "data": {
      "text/plain": [
       "(9.814615384615383, 12.484615384615383)"
      ]
     },
     "execution_count": 14,
     "metadata": {},
     "output_type": "execute_result"
    }
   ],
   "source": [
    "var = []\n",
    "\n",
    "for i in range(1000):\n",
    "    arr = np.random.choice(milk_consumption, len(milk_consumption))\n",
    "    var.append(np.mean(arr))\n",
    "    \n",
    "q = 95\n",
    "\n",
    "ci_low = np.percentile(var, (100-q)/2)\n",
    "ci_high = np.percentile(var, (100+q)/2)\n",
    "\n",
    "ci = ci_low, ci_high\n",
    "\n",
    "ci"
   ]
  },
  {
   "cell_type": "markdown",
   "id": "12324ade",
   "metadata": {},
   "source": [
    "#### доверительный интервал для дисперсии"
   ]
  },
  {
   "cell_type": "code",
   "execution_count": 15,
   "id": "43474801",
   "metadata": {},
   "outputs": [
    {
     "data": {
      "text/plain": [
       "(3.4549793303608407, 18.308711278905957)"
      ]
     },
     "execution_count": 15,
     "metadata": {},
     "output_type": "execute_result"
    }
   ],
   "source": [
    "n = len(milk_consumption)\n",
    "df = n - 1\n",
    "mean = np.mean(milk_consumption)\n",
    "var = np.var(milk_consumption, ddof=1)\n",
    "q = 0.95\n",
    "\n",
    "\n",
    "h2 = chi2.ppf((1-q)/2, df)\n",
    "h1 = chi2.ppf((1+q)/2, df)\n",
    "\n",
    "ci_low = (df * var) / h1\n",
    "ci_high = (df * var) / h2\n",
    "\n",
    "ci = ci_low, ci_high\n",
    "\n",
    "ci"
   ]
  },
  {
   "cell_type": "code",
   "execution_count": 18,
   "id": "60193dd5",
   "metadata": {},
   "outputs": [
    {
     "data": {
      "text/plain": [
       "(3.4549793303608407, 18.308711278905957)"
      ]
     },
     "execution_count": 18,
     "metadata": {},
     "output_type": "execute_result"
    }
   ],
   "source": [
    "n = len(milk_consumption)\n",
    "df = n - 1\n",
    "mean = np.mean(milk_consumption)\n",
    "var = np.var(milk_consumption, ddof=1)\n",
    "sample_scale = df*var\n",
    "q = 0.95\n",
    "\n",
    "h2, h1 = chi2.interval(0.95, 12)\n",
    "\n",
    "ci_low = (df * var) / h1\n",
    "ci_high = (df * var) / h2\n",
    "\n",
    "ci = ci_low, ci_high\n",
    "\n",
    "ci"
   ]
  },
  {
   "cell_type": "markdown",
   "id": "91ae6ee9",
   "metadata": {},
   "source": [
    "#### доверительный интервал для дисперсии Бутстрапом"
   ]
  },
  {
   "cell_type": "code",
   "execution_count": 19,
   "id": "0645b538",
   "metadata": {},
   "outputs": [
    {
     "data": {
      "text/plain": [
       "(3.562121301775147, 6.950630177514794)"
      ]
     },
     "execution_count": 19,
     "metadata": {},
     "output_type": "execute_result"
    }
   ],
   "source": [
    "var = []\n",
    "\n",
    "for i in range(1000):\n",
    "    arr = np.random.choice(milk_consumption, len(milk_consumption))\n",
    "    var.append(np.var(arr))\n",
    "    \n",
    "q = 95\n",
    "\n",
    "ci_low = np.percentile(var, (100-q)/2)\n",
    "ci_high = np.percentile(var, (100+q)/2)\n",
    "\n",
    "ci = ci_low, ci_high\n",
    "\n",
    "ci"
   ]
  },
  {
   "cell_type": "code",
   "execution_count": 20,
   "id": "18d82e6c",
   "metadata": {},
   "outputs": [
    {
     "data": {
      "text/plain": [
       "ConfidenceInterval(low=5.256087555113354, high=7.449894489186123)"
      ]
     },
     "execution_count": 20,
     "metadata": {},
     "output_type": "execute_result"
    }
   ],
   "source": [
    "rng = np.random.default_rng()\n",
    "data = (milk_consumption,)\n",
    "ci = bootstrap(data, np.var, confidence_level=0.95, n_resamples=1000,\n",
    "                   random_state=rng).confidence_interval\n",
    "\n",
    "ci"
   ]
  },
  {
   "cell_type": "markdown",
   "id": "f072a3ec",
   "metadata": {},
   "source": [
    "#### находим точность оценки"
   ]
  },
  {
   "cell_type": "code",
   "execution_count": 210,
   "id": "a7786b4d",
   "metadata": {},
   "outputs": [
    {
     "data": {
      "text/plain": [
       "1.5663894147121658"
      ]
     },
     "execution_count": 210,
     "metadata": {},
     "output_type": "execute_result"
    }
   ],
   "source": [
    "n = len(milk_consumption)\n",
    "df = n - 1\n",
    "var = np.var(milk_consumption, ddof=1)\n",
    "std = np.sqrt(var)\n",
    "t_value = t.ppf(0.975, df)\n",
    "\n",
    "acc_of_assessment = t_value * std / np.sqrt(n)\n",
    "\n",
    "acc_of_assessment "
   ]
  },
  {
   "cell_type": "markdown",
   "id": "2efc31d3",
   "metadata": {},
   "source": [
    "## Задача 5\n",
    "\n",
    "Построить доверительный интервал для математического ожидания $a$ нормально распределенной генеральной совокупности с известным среднеквадратичным отклонением $σ=6$ с помощью выборки объема $n=36$ с данным средним выборочным $75.17$, с заданной надежностью $0.90$."
   ]
  },
  {
   "cell_type": "code",
   "execution_count": 47,
   "id": "77d21785",
   "metadata": {},
   "outputs": [
    {
     "data": {
      "text/plain": [
       "(73.4564607822325, 76.8835392177675)"
      ]
     },
     "execution_count": 47,
     "metadata": {},
     "output_type": "execute_result"
    }
   ],
   "source": [
    "n = 36\n",
    "df = n - 1\n",
    "std = 6\n",
    "var = std**2\n",
    "sample_var = n/df*var\n",
    "mean = 75.17\n",
    "q=0.9\n",
    "\n",
    "sample_scale = np.sqrt(sample_var/n)\n",
    "\n",
    "t.interval(q, df, loc=mean, scale=sample_scale)"
   ]
  },
  {
   "cell_type": "markdown",
   "id": "73c9b1b2",
   "metadata": {},
   "source": [
    "## Задача 6\n",
    "\n",
    "Центром экономических исследований при органах регионального управления проведено выборочное наблюдение с целью изучения расходов населения на коммунальные услуги. В результате двухпроцентного обследования получены следующие данные:\n",
    "\n",
    "| Расходы населения на коммунальные услуги, на человека, руб. | До 600 | 600-800 | 800-1000 | 1000-1200 | 1200 и более | Итого|\n",
    "| --- | --- | --- | --- | --- | --- | --- |\n",
    "| Численность обследованного населения, тыс. чел. | 3.3 | 5.4 | 7.6 | 3.2 | 0.5 | 20.0 |\n",
    "\n",
    "\n",
    "Определите:\n",
    "\n",
    "1. с вероятностью $0,997$ доверительный интервал средней величины расходов населения на коммунальные услуги по всему населению региона;\n",
    "2. с вероятностью $0,954$ долю населения региона, у которых расходы на коммунальные услуги находятся в пределах $600-1000$ руб.;\n",
    "3. численность выборки, чтобы ее ошибку уменьшить в $2$ раза."
   ]
  },
  {
   "cell_type": "markdown",
   "id": "97da66e5",
   "metadata": {},
   "source": [
    "#### с вероятностью  $0,997$  доверительный интервал средней величины расходов населения на коммунальные услуги по всему населению региона;"
   ]
  },
  {
   "cell_type": "code",
   "execution_count": 27,
   "id": "2b27dc77",
   "metadata": {},
   "outputs": [],
   "source": [
    "df = pd.DataFrame({'x_i':[500, 700, 900, 1100, 1300], 'n_i':[3300, 5400, 7600, 3200, 500]})\n",
    "\n",
    "df['w_i'] = df['n_i'] / df['n_i'].sum()"
   ]
  },
  {
   "cell_type": "code",
   "execution_count": 28,
   "id": "7517b58d",
   "metadata": {},
   "outputs": [
    {
     "data": {
      "image/png": "[encoded data removed]",
      "text/plain": [
       "<Figure size 432x288 with 1 Axes>"
      ]
     },
     "metadata": {
      "needs_background": "light"
     },
     "output_type": "display_data"
    }
   ],
   "source": [
    "xk = df['x_i']\n",
    "pk = df['w_i']\n",
    "custm_dist = stats.rv_discrete(name='cust_dist', values=(xk, pk))\n",
    "\n",
    "fig, ax = plt.subplots(1, 1)\n",
    "ax.plot(xk, custm_dist.pmf(xk))\n",
    "\n",
    "plt.show()"
   ]
  },
  {
   "cell_type": "code",
   "execution_count": 29,
   "id": "43f751e0",
   "metadata": {},
   "outputs": [
    {
     "data": {
      "text/plain": [
       "(817.723559782915, 826.2764402170849)"
      ]
     },
     "execution_count": 29,
     "metadata": {},
     "output_type": "execute_result"
    }
   ],
   "source": [
    "mean = round(custm_dist.mean(), 0)\n",
    "var = round(custm_dist.var(), 0)\n",
    "\n",
    "n = round(df['n_i'].sum(), 0)\n",
    "ddof = n - 1\n",
    "sample_var = n/ddof*var\n",
    "q=0.997\n",
    "\n",
    "sample_scale = np.sqrt(sample_var/n)\n",
    "\n",
    "t.interval(q, ddof, loc=mean, scale=sample_scale)"
   ]
  },
  {
   "cell_type": "markdown",
   "id": "a47f0f2c",
   "metadata": {},
   "source": [
    "#### с вероятностью  $0,954$  долю населения региона, у которых расходы на коммунальные услуги находятся в пределах  600−1000  руб.;"
   ]
  },
  {
   "cell_type": "code",
   "execution_count": 31,
   "id": "7766f0ad",
   "metadata": {},
   "outputs": [
    {
     "data": {
      "text/plain": [
       "(0.6432701681292743, 0.6567298318707258)"
      ]
     },
     "execution_count": 31,
     "metadata": {},
     "output_type": "execute_result"
    }
   ],
   "source": [
    "p = (5400 + 7600) / 20000 \n",
    "scale = np.sqrt((p * (1-p)) / n)\n",
    "\n",
    "norm.interval(0.954, loc=p, scale=scale)"
   ]
  },
  {
   "cell_type": "code",
   "execution_count": 43,
   "id": "281580d0",
   "metadata": {},
   "outputs": [
    {
     "data": {
      "text/plain": [
       "0.6432701681292743"
      ]
     },
     "execution_count": 43,
     "metadata": {},
     "output_type": "execute_result"
    }
   ],
   "source": [
    "p - norm.ppf((1+0.954)/2)*np.sqrt((p*(1-p)/n))"
   ]
  }
 ],
 "metadata": {
  "kernelspec": {
   "display_name": "Python 3",
   "language": "python",
   "name": "python3"
  },
  "language_info": {
   "codemirror_mode": {
    "name": "ipython",
    "version": 3
   },
   "file_extension": ".py",
   "mimetype": "text/x-python",
   "name": "python",
   "nbconvert_exporter": "python",
   "pygments_lexer": "ipython3",
   "version": "3.9.4"
  }
 },
 "nbformat": 4,
 "nbformat_minor": 5
}
