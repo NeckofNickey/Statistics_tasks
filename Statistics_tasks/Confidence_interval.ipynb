{
 "cells": [
  {
   "cell_type": "code",
   "execution_count": 1,
   "id": "8671fd97",
   "metadata": {},
   "outputs": [],
   "source": [
    "import pandas as pd\n",
    "import numpy as np\n",
    "\n",
    "from tkinter import filedialog as fd\n",
    "from tkinter import Tk, BOTH\n",
    "\n",
    "from datetime import datetime\n",
    "from datetime import timedelta\n",
    "\n",
    "from scipy import stats\n",
    "from scipy.stats import norm\n",
    "from scipy.stats import chi2\n",
    "from scipy.stats import t\n",
    "from sympy import *\n",
    "\n",
    "import seaborn as sns\n",
    "import matplotlib.pyplot as plt\n",
    "\n",
    "\n",
    "pd.options.display.float_format = '{:,.4f}'.format\n",
    "\n",
    "import warnings\n",
    "warnings.filterwarnings(\"ignore\")\n",
    "\n",
    "from typing import Tuple\n",
    "\n",
    "%matplotlib inline\n"
   ]
  },
  {
   "cell_type": "markdown",
   "id": "f810297d",
   "metadata": {},
   "source": [
    "## Задача 1\n",
    "\n",
    "По данным 7 измерений некоторой величины найдены средняя результатов измерений, равная 30 и выборочная дисперсия, равная 36. Найдите границы, в которых с надежностью 0,99 заключено истинное значение измеряемой величины."
   ]
  },
  {
   "cell_type": "code",
   "execution_count": 113,
   "id": "ff2f63a9",
   "metadata": {},
   "outputs": [
    {
     "data": {
      "text/plain": [
       "(20.918693089657708, 39.08130691034229)"
      ]
     },
     "execution_count": 113,
     "metadata": {},
     "output_type": "execute_result"
    }
   ],
   "source": [
    "n = 7\n",
    "df = n - 1\n",
    "mean = 30\n",
    "var = 36\n",
    "q = 0.99\n",
    "\n",
    "sample_var = n/df * var  \n",
    "\n",
    "sample_scale = np.sqrt(sample_var/n)\n",
    "\n",
    "t.interval(q, df, loc=mean, scale=sample_scale)"
   ]
  },
  {
   "cell_type": "markdown",
   "id": "4dbcf8f8",
   "metadata": {},
   "source": [
    "## Задача 2\n",
    "\n",
    "Доверительный интервал для дисперсии"
   ]
  },
  {
   "cell_type": "code",
   "execution_count": 114,
   "id": "bd9e098f",
   "metadata": {},
   "outputs": [
    {
     "data": {
      "text/plain": [
       "(5.590812241777006, 24.04469824071958)"
      ]
     },
     "execution_count": 114,
     "metadata": {},
     "output_type": "execute_result"
    }
   ],
   "source": [
    "n = 12\n",
    "df = n - 1\n",
    "sample_var = 10\n",
    "q = 0.9\n",
    "\n",
    "h2 = chi2.ppf((1-q)/2, df)\n",
    "h1 = chi2.ppf((1+q)/2, df)\n",
    "\n",
    "ci_low = (df * sample_var) / h1\n",
    "ci_high = (df * sample_var) / h2\n",
    "\n",
    "ci = ci_low, ci_high\n",
    "\n",
    "ci"
   ]
  },
  {
   "cell_type": "markdown",
   "id": "e3eda6dc",
   "metadata": {},
   "source": [
    "## Задача 3 \n",
    "\n",
    "С целью размещения рекламы опрошено 420 телезрителей, из которых данную передачу смотрят 170 человек. С доверительной вероятностью γ=0,91 найти долю телезрителей, охваченных рекламой в лучшем случае."
   ]
  },
  {
   "cell_type": "code",
   "execution_count": 115,
   "id": "a42190a6",
   "metadata": {},
   "outputs": [
    {
     "data": {
      "text/plain": [
       "(0.3641557260455601, 0.4453680834782494)"
      ]
     },
     "execution_count": 115,
     "metadata": {},
     "output_type": "execute_result"
    }
   ],
   "source": [
    "n = 420\n",
    "m = 170\n",
    "p = m/n\n",
    "q = 0.91\n",
    "\n",
    "z1 = norm.ppf((1-q)/2)\n",
    "z2 = norm.ppf((1+q)/2)\n",
    "              \n",
    "ci_low = p - z2 * np.sqrt(p*(1-p)/n)\n",
    "ci_high = p + z2 * np.sqrt(p*(1-p)/n)\n",
    "\n",
    "ci = ci_low, ci_high\n",
    "\n",
    "ci"
   ]
  },
  {
   "cell_type": "markdown",
   "id": "88f45f89",
   "metadata": {},
   "source": [
    "## Задача 4\n",
    "\n",
    "По группе семей с доходом 154 руб./чел. зафиксированы следующие цифры потребления молока за месяц (на одного человека): 8,3; 8,6; 8,7; 8,8; 9,1; 9,3; 9,4; 13,4; 13,5; 13,8; 13,9; 14,1; 14,3. Найти доверительный интервал для математического ожидания и дисперсии с надежностью γ = 0,95 , дать точность оценки. Выборка произведена из нормальной совокупности. "
   ]
  },
  {
   "cell_type": "code",
   "execution_count": 183,
   "id": "f2f083ae",
   "metadata": {},
   "outputs": [],
   "source": [
    "milk_consumption = [8.3, 8.6, 8.7, 8.8, 9.1, 9.3, 9.4, 13.4, 13.5, 13.8, 13.9, 14.1, 14.3]"
   ]
  },
  {
   "cell_type": "markdown",
   "id": "ebe181fb",
   "metadata": {},
   "source": [
    "#### доверительный интервал для математического ожидания"
   ]
  },
  {
   "cell_type": "code",
   "execution_count": 184,
   "id": "77d0b392",
   "metadata": {},
   "outputs": [
    {
     "data": {
      "text/plain": [
       "(9.602841354518604, 12.735620183942936)"
      ]
     },
     "execution_count": 184,
     "metadata": {},
     "output_type": "execute_result"
    }
   ],
   "source": [
    "n = len(milk_consumption)\n",
    "df = n - 1\n",
    "mean = np.mean(milk_consumption)\n",
    "sample_var = np.var(milk_consumption, ddof=1)\n",
    "q = 0.95\n",
    "\n",
    "sample_scale = np.sqrt(sample_var/n)\n",
    "\n",
    "t.interval(q, df, loc=mean, scale=sample_scale)"
   ]
  },
  {
   "cell_type": "markdown",
   "id": "6976f9dc",
   "metadata": {},
   "source": [
    "#### доверительный интервал для дисперсии"
   ]
  },
  {
   "cell_type": "code",
   "execution_count": 189,
   "id": "968957ba",
   "metadata": {},
   "outputs": [
    {
     "data": {
      "text/plain": [
       "(3.4549793303608407, 18.308711278905957)"
      ]
     },
     "execution_count": 189,
     "metadata": {},
     "output_type": "execute_result"
    }
   ],
   "source": [
    "n = len(milk_consumption)\n",
    "df = n - 1\n",
    "mean = np.mean(milk_consumption)\n",
    "var = np.var(milk_consumption, ddof=1)\n",
    "q = 0.95\n",
    "\n",
    "\n",
    "h2 = chi2.ppf((1-q)/2, df)\n",
    "h1 = chi2.ppf((1+q)/2, df)\n",
    "\n",
    "ci_low = (df * var) / h1\n",
    "ci_high = (df * var) / h2\n",
    "\n",
    "ci = ci_low, ci_high\n",
    "\n",
    "ci"
   ]
  },
  {
   "cell_type": "code",
   "execution_count": 212,
   "id": "f111fb4b",
   "metadata": {},
   "outputs": [
    {
     "data": {
      "text/plain": [
       "23.33666415864534"
      ]
     },
     "execution_count": 212,
     "metadata": {},
     "output_type": "execute_result"
    }
   ],
   "source": [
    "chi2.ppf((1+q)/2, df)"
   ]
  },
  {
   "cell_type": "markdown",
   "id": "eb7fda2d",
   "metadata": {},
   "source": [
    "#### находим точность оценки"
   ]
  },
  {
   "cell_type": "code",
   "execution_count": 210,
   "id": "d32eef43",
   "metadata": {},
   "outputs": [
    {
     "data": {
      "text/plain": [
       "1.5663894147121658"
      ]
     },
     "execution_count": 210,
     "metadata": {},
     "output_type": "execute_result"
    }
   ],
   "source": [
    "n = len(milk_consumption)\n",
    "df = n - 1\n",
    "var = np.var(milk_consumption, ddof=1)\n",
    "std = np.sqrt(var)\n",
    "t_value = t.ppf(0.975, df)\n",
    "\n",
    "acc_of_assessment = t_value * std / np.sqrt(n)\n",
    "\n",
    "acc_of_assessment "
   ]
  },
  {
   "cell_type": "code",
   "execution_count": null,
   "id": "f9f33032",
   "metadata": {},
   "outputs": [],
   "source": []
  }
 ],
 "metadata": {
  "kernelspec": {
   "display_name": "Python 3",
   "language": "python",
   "name": "python3"
  },
  "language_info": {
   "codemirror_mode": {
    "name": "ipython",
    "version": 3
   },
   "file_extension": ".py",
   "mimetype": "text/x-python",
   "name": "python",
   "nbconvert_exporter": "python",
   "pygments_lexer": "ipython3",
   "version": "3.9.4"
  }
 },
 "nbformat": 4,
 "nbformat_minor": 5
}
