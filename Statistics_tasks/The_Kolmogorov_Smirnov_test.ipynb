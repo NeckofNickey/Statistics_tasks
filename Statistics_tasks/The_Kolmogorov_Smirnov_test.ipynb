{
 "cells": [
  {
   "cell_type": "code",
   "execution_count": 5,
   "id": "c96da931",
   "metadata": {},
   "outputs": [],
   "source": [
    "import pandas as pd\n",
    "import numpy as np\n",
    "\n",
    "from scipy import stats\n",
    "from scipy.stats import uniform\n",
    "from sympy import *\n",
    "from scipy.stats import rv_continuous\n",
    "\n",
    "import seaborn as sns\n",
    "import matplotlib.pyplot as plt\n",
    "import plotly.offline as py\n",
    "import plotly.graph_objects as go\n",
    "\n",
    "\n",
    "pd.options.display.float_format = '{:,.4f}'.format\n",
    "\n",
    "import warnings\n",
    "warnings.filterwarnings(\"ignore\")\n",
    "\n",
    "from typing import Tuple\n",
    "\n",
    "%matplotlib inline"
   ]
  },
  {
   "cell_type": "markdown",
   "id": "9fd4b443",
   "metadata": {},
   "source": [
    "## Задача 1\n",
    "\n",
    "Имеются выборочные данные о числе сделок, заключенных фирмой с частными лицами в\n",
    "течение месяца:\n",
    "\n",
    "| число заключенных сделок | 0-10 | 10-20 | 20-30 | 30-40 | 40-50 |\n",
    "| --- | --- | --- | --- | --- | --- |\n",
    "| число частных лиц | 23 | 24 | 11 | 9 | 3 |\n",
    "\n",
    "Проверить при уровне значимости $α=0,05$, используя критерий согласия Колмогорова,\n",
    "гипотезу о нормальном законе распределения. "
   ]
  },
  {
   "cell_type": "code",
   "execution_count": 6,
   "id": "c4c23b4f",
   "metadata": {},
   "outputs": [
    {
     "data": {
      "text/html": [
       "<div>\n",
       "<style scoped>\n",
       "    .dataframe tbody tr th:only-of-type {\n",
       "        vertical-align: middle;\n",
       "    }\n",
       "\n",
       "    .dataframe tbody tr th {\n",
       "        vertical-align: top;\n",
       "    }\n",
       "\n",
       "    .dataframe thead th {\n",
       "        text-align: right;\n",
       "    }\n",
       "</style>\n",
       "<table border=\"1\" class=\"dataframe\">\n",
       "  <thead>\n",
       "    <tr style=\"text-align: right;\">\n",
       "      <th></th>\n",
       "      <th>x_i</th>\n",
       "      <th>n_i</th>\n",
       "    </tr>\n",
       "  </thead>\n",
       "  <tbody>\n",
       "    <tr>\n",
       "      <th>0</th>\n",
       "      <td>10</td>\n",
       "      <td>23</td>\n",
       "    </tr>\n",
       "    <tr>\n",
       "      <th>1</th>\n",
       "      <td>20</td>\n",
       "      <td>24</td>\n",
       "    </tr>\n",
       "    <tr>\n",
       "      <th>2</th>\n",
       "      <td>30</td>\n",
       "      <td>11</td>\n",
       "    </tr>\n",
       "    <tr>\n",
       "      <th>3</th>\n",
       "      <td>40</td>\n",
       "      <td>9</td>\n",
       "    </tr>\n",
       "    <tr>\n",
       "      <th>4</th>\n",
       "      <td>50</td>\n",
       "      <td>3</td>\n",
       "    </tr>\n",
       "  </tbody>\n",
       "</table>\n",
       "</div>"
      ],
      "text/plain": [
       "   x_i  n_i\n",
       "0   10   23\n",
       "1   20   24\n",
       "2   30   11\n",
       "3   40    9\n",
       "4   50    3"
      ]
     },
     "execution_count": 6,
     "metadata": {},
     "output_type": "execute_result"
    }
   ],
   "source": [
    "# в итнервалах берем конечные значения \n",
    "\n",
    "df = pd.DataFrame({'x_i':np.arange(10, 60, 10), 'n_i':[23, 24, 11, 9, 3]})\n",
    "\n",
    "df"
   ]
  },
  {
   "cell_type": "markdown",
   "id": "7c33e54f",
   "metadata": {},
   "source": [
    "#### Рассчет вручную для $\\mu = 17.143, \\sigma=11.659$"
   ]
  },
  {
   "cell_type": "code",
   "execution_count": 7,
   "id": "d0e1ec08",
   "metadata": {},
   "outputs": [
    {
     "data": {
      "text/plain": [
       "0.6244720837900759"
      ]
     },
     "execution_count": 7,
     "metadata": {},
     "output_type": "execute_result"
    }
   ],
   "source": [
    "df['w_i'] = df['n_i'] / df['n_i'].sum()\n",
    "df['cumsum'] = df['w_i'].cumsum()\n",
    "df['norm_cdf'] = stats.norm(loc=17.143, scale=11.659).cdf(df['x_i'])\n",
    "df['diff'] = abs(df['cumsum'] - df['norm_cdf'])\n",
    "\n",
    "df['diff'].max() * np.sqrt(70)"
   ]
  },
  {
   "cell_type": "markdown",
   "id": "757f5d80",
   "metadata": {},
   "source": [
    "#### Рассчет вручную для $\\mu = 10, \\sigma=4$"
   ]
  },
  {
   "cell_type": "code",
   "execution_count": 8,
   "id": "4727684b",
   "metadata": {},
   "outputs": [
    {
     "data": {
      "text/plain": [
       "2.697072013906789"
      ]
     },
     "execution_count": 8,
     "metadata": {},
     "output_type": "execute_result"
    }
   ],
   "source": [
    "df['w_i'] = df['n_i'] / df['n_i'].sum()\n",
    "df['cumsum'] = df['w_i'].cumsum()\n",
    "df['norm_cdf'] = stats.norm(loc=10, scale=4).cdf(df['x_i'])\n",
    "df['diff'] = abs(df['cumsum'] - df['norm_cdf'])\n",
    "\n",
    "df['diff'].max() * np.sqrt(70)"
   ]
  },
  {
   "cell_type": "markdown",
   "id": "b598f632",
   "metadata": {},
   "source": [
    "#### Рассчет через stats.kstest"
   ]
  },
  {
   "cell_type": "code",
   "execution_count": 11,
   "id": "65e64ab7",
   "metadata": {},
   "outputs": [
    {
     "data": {
      "text/html": [
       "<div>\n",
       "<style scoped>\n",
       "    .dataframe tbody tr th:only-of-type {\n",
       "        vertical-align: middle;\n",
       "    }\n",
       "\n",
       "    .dataframe tbody tr th {\n",
       "        vertical-align: top;\n",
       "    }\n",
       "\n",
       "    .dataframe thead th {\n",
       "        text-align: right;\n",
       "    }\n",
       "</style>\n",
       "<table border=\"1\" class=\"dataframe\">\n",
       "  <thead>\n",
       "    <tr style=\"text-align: right;\">\n",
       "      <th></th>\n",
       "      <th>unstuck</th>\n",
       "    </tr>\n",
       "  </thead>\n",
       "  <tbody>\n",
       "    <tr>\n",
       "      <th>0</th>\n",
       "      <td>10</td>\n",
       "    </tr>\n",
       "    <tr>\n",
       "      <th>0</th>\n",
       "      <td>10</td>\n",
       "    </tr>\n",
       "    <tr>\n",
       "      <th>0</th>\n",
       "      <td>10</td>\n",
       "    </tr>\n",
       "    <tr>\n",
       "      <th>0</th>\n",
       "      <td>10</td>\n",
       "    </tr>\n",
       "    <tr>\n",
       "      <th>0</th>\n",
       "      <td>10</td>\n",
       "    </tr>\n",
       "    <tr>\n",
       "      <th>...</th>\n",
       "      <td>...</td>\n",
       "    </tr>\n",
       "    <tr>\n",
       "      <th>3</th>\n",
       "      <td>40</td>\n",
       "    </tr>\n",
       "    <tr>\n",
       "      <th>3</th>\n",
       "      <td>40</td>\n",
       "    </tr>\n",
       "    <tr>\n",
       "      <th>4</th>\n",
       "      <td>50</td>\n",
       "    </tr>\n",
       "    <tr>\n",
       "      <th>4</th>\n",
       "      <td>50</td>\n",
       "    </tr>\n",
       "    <tr>\n",
       "      <th>4</th>\n",
       "      <td>50</td>\n",
       "    </tr>\n",
       "  </tbody>\n",
       "</table>\n",
       "<p>70 rows × 1 columns</p>\n",
       "</div>"
      ],
      "text/plain": [
       "    unstuck\n",
       "0        10\n",
       "0        10\n",
       "0        10\n",
       "0        10\n",
       "0        10\n",
       "..      ...\n",
       "3        40\n",
       "3        40\n",
       "4        50\n",
       "4        50\n",
       "4        50\n",
       "\n",
       "[70 rows x 1 columns]"
      ]
     },
     "execution_count": 11,
     "metadata": {},
     "output_type": "execute_result"
    }
   ],
   "source": [
    "# Разгруппируем данные\n",
    "\n",
    "df['unstuck'] = df.apply(lambda row: list([row[\"x_i\"]]) * int(row[\"n_i\"]), axis=1)\n",
    "\n",
    "df_unstuck = df[['unstuck']]\n",
    "\n",
    "df_unstuck = df_unstuck.explode('unstuck')\n",
    "\n",
    "df_unstuck['unstuck'] = df_unstuck['unstuck'].apply(lambda x: int(x))\n",
    "\n",
    "df_unstuck"
   ]
  },
  {
   "cell_type": "markdown",
   "id": "10df38ac",
   "metadata": {},
   "source": [
    "#### Рассчет через stats.kstest для $\\mu = 17.143, \\sigma=11.659$"
   ]
  },
  {
   "cell_type": "code",
   "execution_count": 12,
   "id": "62be1b3e",
   "metadata": {},
   "outputs": [
    {
     "data": {
      "text/plain": [
       "KstestResult(statistic=0.2857142857142857, pvalue=0.006350814093498427)"
      ]
     },
     "execution_count": 12,
     "metadata": {},
     "output_type": "execute_result"
    }
   ],
   "source": [
    "rng = np.random.default_rng(234)\n",
    "\n",
    "norm_sample = stats.norm.rvs(loc=17.143, scale=11.659, size=70, random_state=rng)\n",
    "stats.kstest(df_unstuck.unstuck, norm_sample)"
   ]
  },
  {
   "cell_type": "markdown",
   "id": "859630d5",
   "metadata": {},
   "source": [
    "#### Рассчет через stats.kstest для $\\mu = 10, \\sigma=4$"
   ]
  },
  {
   "cell_type": "code",
   "execution_count": 13,
   "id": "48742dea",
   "metadata": {},
   "outputs": [
    {
     "data": {
      "text/plain": [
       "KstestResult(statistic=0.6714285714285714, pvalue=2.7961599189123163e-15)"
      ]
     },
     "execution_count": 13,
     "metadata": {},
     "output_type": "execute_result"
    }
   ],
   "source": [
    "rng = np.random.default_rng(234)\n",
    "\n",
    "norm_sample = stats.norm.rvs(loc=10, scale=4, size=70,  random_state=rng)\n",
    "stats.kstest(df_unstuck.unstuck, norm_sample)"
   ]
  },
  {
   "cell_type": "markdown",
   "id": "abb9e109",
   "metadata": {},
   "source": [
    "## Задача 2"
   ]
  },
  {
   "cell_type": "markdown",
   "id": "6fa9746e",
   "metadata": {},
   "source": [
    "Используя критерий Колмогорова, проверить на уровне значимости **10%** гипотезу о том, что выборка\n",
    "\n",
    "$0,90; 0,56; 0,05; 0,21; 0,97; 0,80; 0,04; 0,12; 0,73; 0,49$\n",
    "\n",
    "является выборкой наблюдений равномерно распределённой случайной величины $X \\thicksim R(0, 1)$."
   ]
  },
  {
   "cell_type": "code",
   "execution_count": 403,
   "id": "d9f21ac8",
   "metadata": {},
   "outputs": [],
   "source": [
    "sample = [0.9, 0.56, 0.05, 0.21, 0.97, 0.8, 0.04, 0.12, 0.73, 0.49]"
   ]
  },
  {
   "cell_type": "markdown",
   "id": "b0ae367d",
   "metadata": {},
   "source": [
    "#### Рассчет вручную "
   ]
  },
  {
   "cell_type": "code",
   "execution_count": 449,
   "id": "70423b18",
   "metadata": {},
   "outputs": [],
   "source": [
    "sample.sort()"
   ]
  },
  {
   "cell_type": "code",
   "execution_count": 479,
   "id": "a0794bfe",
   "metadata": {},
   "outputs": [
    {
     "name": "stdout",
     "output_type": "stream",
     "text": [
      "0.6008327554319922\n",
      "T < 1.22, следовательно не можем отвергнуть гипотезу, что данная выборка могла быть получена из равномерного распределения R(0, 1)\n"
     ]
    }
   ],
   "source": [
    "df = pd.DataFrame({'x_i':sample, 'n_i':[1]*len(sample)})\n",
    "df['w_i'] = df['n_i'] / df['n_i'].sum()\n",
    "df['cumsum'] = df['w_i'].cumsum()\n",
    "df['norm_cdf'] = stats.uniform(loc=0, scale=1).cdf(df['x_i'])\n",
    "df['diff'] = abs(df['cumsum'] - df['norm_cdf'])\n",
    "\n",
    "T = df['diff'].max() * np.sqrt(len(sample))\n",
    "z_0_9 =1.22\n",
    "\n",
    "print(T)\n",
    "if T < z_0_9:\n",
    "    print(f'T < {z_0_9}, следовательно'\n",
    "          f' не можем отвергнуть гипотезу, что данная выборка могла быть получена из равномерного распределения R(0, 1)')\n",
    "else:\n",
    "    print(f'T > {z_0_9}, следовательно'\n",
    "          f' можем отвергнуть гипотезу, что данная выборка могла быть получена из равномерного распределения R(0, 1)')"
   ]
  },
  {
   "cell_type": "code",
   "execution_count": 448,
   "id": "3fcd72cb",
   "metadata": {},
   "outputs": [
    {
     "data": {
      "text/plain": [
       "<AxesSubplot:ylabel='Proportion'>"
      ]
     },
     "execution_count": 448,
     "metadata": {},
     "output_type": "execute_result"
    },
    {
     "data": {
      "image/png": "[encoded data removed]",
      "text/plain": [
       "<Figure size 360x360 with 1 Axes>"
      ]
     },
     "metadata": {
      "needs_background": "light"
     },
     "output_type": "display_data"
    }
   ],
   "source": [
    "rng = np.random.default_rng(153)\n",
    "\n",
    "fig, ax = plt.subplots(1, 1, figsize=[5, 5])\n",
    "sns.ecdfplot(data=sample)\n",
    "sns.ecdfplot(data=stats.uniform.rvs(size=1000, loc=0, scale=1, random_state=rng))"
   ]
  },
  {
   "cell_type": "markdown",
   "id": "368c4b02",
   "metadata": {},
   "source": [
    "#### Рассчет с помощью stats.kstest"
   ]
  },
  {
   "cell_type": "code",
   "execution_count": 405,
   "id": "1848c6fe",
   "metadata": {},
   "outputs": [
    {
     "data": {
      "text/plain": [
       "KstestResult(statistic=0.19000000000000003, pvalue=0.7994599807966073)"
      ]
     },
     "execution_count": 405,
     "metadata": {},
     "output_type": "execute_result"
    }
   ],
   "source": [
    "stats.kstest(sample, 'uniform')"
   ]
  },
  {
   "cell_type": "code",
   "execution_count": 473,
   "id": "4d6a7105",
   "metadata": {},
   "outputs": [
    {
     "data": {
      "text/plain": [
       "KstestResult(statistic=0.189, pvalue=0.8103582156913072)"
      ]
     },
     "execution_count": 473,
     "metadata": {},
     "output_type": "execute_result"
    }
   ],
   "source": [
    "rng = np.random.default_rng(101)\n",
    "\n",
    "uniform_sample = stats.uniform.rvs(size=1000, loc=0, scale=1, random_state=rng)\n",
    "stats.kstest(sample, uniform_sample)"
   ]
  },
  {
   "cell_type": "code",
   "execution_count": 502,
   "id": "718dfb53",
   "metadata": {},
   "outputs": [
    {
     "name": "stdout",
     "output_type": "stream",
     "text": [
      "Статистика: 0.19000000000000003, p-value: 0.7994599807966073\n",
      "p_value > α, следовательно не можем отвергнуть гипотезу, что данная выборка могла быть получена из равномерного распределения R(0, 1)\n"
     ]
    }
   ],
   "source": [
    "D, p_value = stats.kstest(sample, 'uniform')\n",
    "a = 0.1\n",
    "\n",
    "\n",
    "print(f'Статистика: {D}, p-value: {p_value}')\n",
    "if p_value > a:\n",
    "    print(f'p_value > \\N{GREEK SMALL LETTER ALPHA}, следовательно'\n",
    "          f' не можем отвергнуть гипотезу, что данная выборка могла быть получена из равномерного распределения R(0, 1)')\n",
    "else:\n",
    "    print(f'p_value < \\N{GREEK SMALL LETTER ALPHA}, следовательно'\n",
    "          f' можем отвергнуть гипотезу, что данная выборка могла быть получена из равномерного распределения R(0, 1)')"
   ]
  }
 ],
 "metadata": {
  "kernelspec": {
   "display_name": "Python 3",
   "language": "python",
   "name": "python3"
  },
  "language_info": {
   "codemirror_mode": {
    "name": "ipython",
    "version": 3
   },
   "file_extension": ".py",
   "mimetype": "text/x-python",
   "name": "python",
   "nbconvert_exporter": "python",
   "pygments_lexer": "ipython3",
   "version": "3.9.4"
  }
 },
 "nbformat": 4,
 "nbformat_minor": 5
}
